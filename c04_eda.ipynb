{
 "cells": [
  {
   "cell_type": "markdown",
   "id": "38aa8ed3",
   "metadata": {
    "heading_collapsed": true
   },
   "source": [
    "# 0.0 IoT Planning"
   ]
  },
  {
   "cell_type": "markdown",
   "id": "0f6f0410",
   "metadata": {
    "heading_collapsed": true,
    "hidden": true
   },
   "source": [
    "## Input"
   ]
  },
  {
   "cell_type": "markdown",
   "id": "a56cdb18",
   "metadata": {
    "hidden": true
   },
   "source": [
    "**1.** Problem Statement\n",
    "\n",
    "Customer Personality Analysis is a detailed analysis of a company’s ideal customers. It helps a business to better understand its customers and makes it easier for them to modify products according to the specific needs, behaviors and concerns of different types of customers.\n",
    "\n",
    "Customer personality analysis helps a business to modify its product based on its target customers from different types of customer segments. For example, instead of spending money to market a new product to every customer in the company’s database, a company can analyze which customer segment is most likely to buy the product and then market the product only on that particular segment.\n",
    "\n",
    "**2.** Dataset\n",
    "\n",
    "Information about customer's of a particularly store. "
   ]
  },
  {
   "cell_type": "markdown",
   "id": "a7ddcd8f",
   "metadata": {
    "heading_collapsed": true,
    "hidden": true
   },
   "source": [
    "## Output"
   ]
  },
  {
   "cell_type": "markdown",
   "id": "28ff9af7",
   "metadata": {
    "hidden": true
   },
   "source": [
    "**1.** List of customers is specific cluster and cluster specifications.\n",
    "\n",
    "**2.** Report with business questions anwsers:\n",
    "- Who are the people eligible to participate in the Insiders program?\n",
    "- How many customers will be part of each group?\n",
    "- What are the main characteristics of customers in each group?\n",
    "- What percentage of revenue contribution comes from Insiders?\n",
    "- What are the group's revenue expectation for the coming months?\n",
    "- What are the conditions for a person to be eligible for Insiders?\n",
    "- What are the conditions for a person to be removed from Insiders?\n",
    "- What is the guarantee that the Insiders program is better than the rest of the base?\n",
    "- What actions can marketing time take to increase revenue?"
   ]
  },
  {
   "cell_type": "markdown",
   "id": "23e49369",
   "metadata": {
    "heading_collapsed": true,
    "hidden": true
   },
   "source": [
    "## Tasks"
   ]
  },
  {
   "cell_type": "markdown",
   "id": "c2373e5f",
   "metadata": {
    "hidden": true
   },
   "source": [
    "- O que será considerado para definir os 'clientes mais valiosos'? \n",
    "    - Faturamento\n",
    "    - Alto ticket médio\n",
    "    - Alto LTV\n",
    "    - Baixa recência\n",
    "    - Alto basket size\n",
    "    - Baixa probabilidade de churn\n",
    "    - Visualização de campanhas\n",
    "    - Engajamento em campanhas\n",
    "    \n",
    "    \n",
    "- Caracteristicas em comum dos clientes em um cluster\n",
    "    - idade\n",
    "    - localização\n",
    "    - income\n",
    "    - familia\n",
    "    - compras\n",
    "    - engajamento de campanhas\n",
    "    \n",
    "    \n",
    "- Média de valor gasto e número de compras por cluster"
   ]
  },
  {
   "cell_type": "markdown",
   "id": "9984eb2a",
   "metadata": {},
   "source": [
    "# 1.0 Imports"
   ]
  },
  {
   "cell_type": "code",
   "execution_count": 1,
   "id": "692cf02e",
   "metadata": {
    "ExecuteTime": {
     "end_time": "2022-01-11T23:01:56.289910Z",
     "start_time": "2022-01-11T23:01:30.394168Z"
    }
   },
   "outputs": [],
   "source": [
    "import pandas     as pd\n",
    "import numpy      as np\n",
    "import seaborn    as sns\n",
    "import umap.umap_ as umap\n",
    "\n",
    "from matplotlib          import pyplot as plt\n",
    "from IPython.display     import HTML\n",
    "from datetime            import timedelta\n",
    "from pycaret.regression  import *\n",
    "from sklearn             import cluster as c\n",
    "from sklearn             import metrics as m\n",
    "from pandas_profiling    import ProfileReport\n",
    "from yellowbrick.cluster import KElbowVisualizer, SilhouetteVisualizer"
   ]
  },
  {
   "cell_type": "markdown",
   "id": "0e0b1436",
   "metadata": {},
   "source": [
    "## 0.1 Load Data "
   ]
  },
  {
   "cell_type": "code",
   "execution_count": 2,
   "id": "30a775bd",
   "metadata": {
    "ExecuteTime": {
     "end_time": "2022-01-11T23:01:58.152323Z",
     "start_time": "2022-01-11T23:01:58.074743Z"
    }
   },
   "outputs": [],
   "source": [
    "df_raw = pd.read_csv('data/marketing_campaign.csv', header=0, sep='\\t') "
   ]
  },
  {
   "cell_type": "markdown",
   "id": "4c6d984f",
   "metadata": {},
   "source": [
    "## 0.2 Data Dictionary"
   ]
  },
  {
   "cell_type": "markdown",
   "id": "ce0f644b",
   "metadata": {},
   "source": [
    "Attributes\n",
    "\n",
    "**People**\n",
    "- ID: Customer's unique identifier\n",
    "- Year_Birth: Customer's birth year\n",
    "- Education: Customer's education level\n",
    "- Marital_Status: Customer's marital status\n",
    "- Income: Customer's yearly household income\n",
    "- Kidhome: Number of children in customer's household\n",
    "- Teenhome: Number of teenagers in customer's household\n",
    "- Dt_Customer: Date of customer's enrollment with the company\n",
    "- Recency: Number of days since customer's last purchase\n",
    "- Complain: 1 if the customer complained in the last 2 years, 0 otherwise\n",
    "\n",
    "**Products**\n",
    "- MntWines: Amount spent on wine in last 2 years\n",
    "- MntFruits: Amount spent on fruits in last 2 years\n",
    "- MntMeatProducts: Amount spent on meat in last 2 years\n",
    "- MntFishProducts: Amount spent on fish in last 2 years\n",
    "- MntSweetProducts: Amount spent on sweets in last 2 years\n",
    "- MntGoldProds: Amount spent on gold in last 2 years\n",
    "\n",
    "**Promotion**\n",
    "- NumDealsPurchases: Number of purchases made with a discount\n",
    "- AcceptedCmp1: 1 if customer accepted the offer in the 1st campaign, 0 otherwise\n",
    "- AcceptedCmp2: 1 if customer accepted the offer in the 2nd campaign, 0 otherwise\n",
    "- AcceptedCmp3: 1 if customer accepted the offer in the 3rd campaign, 0 otherwise\n",
    "- AcceptedCmp4: 1 if customer accepted the offer in the 4th campaign, 0 otherwise\n",
    "- AcceptedCmp5: 1 if customer accepted the offer in the 5th campaign, 0 otherwise\n",
    "- Response: 1 if customer accepted the offer in the last campaign, 0 otherwise\n",
    "\n",
    "**Place**\n",
    "- NumWebPurchases: Number of purchases made through the company’s website\n",
    "- NumCatalogPurchases: Number of purchases made using a catalogue\n",
    "- NumStorePurchases: Number of purchases made directly in stores\n",
    "- NumWebVisitsMonth: Number of visits to company’s website in the last month"
   ]
  },
  {
   "cell_type": "markdown",
   "id": "2811593f",
   "metadata": {},
   "source": [
    "## 0.3 Helper Functions"
   ]
  },
  {
   "cell_type": "code",
   "execution_count": 3,
   "id": "5c1ebce9",
   "metadata": {
    "ExecuteTime": {
     "end_time": "2022-01-11T23:02:00.395092Z",
     "start_time": "2022-01-11T23:02:00.386094Z"
    }
   },
   "outputs": [],
   "source": [
    "def jupyter_settings():\n",
    "    %matplotlib inline\n",
    "    %pylab inline\n",
    " \n",
    "    plt.style.use( 'bmh' )\n",
    "    plt.rcParams['figure.figsize'] = [20,10]\n",
    "    plt.rcParams['font.size'] = 24\n",
    "  \n",
    "    display( HTML( '<style>.container { width:100% !important; }</style>') )\n",
    "    pd.options.display.max_columns = None\n",
    "    pd.options.display.max_rows = 1000\n",
    "    pd.set_option( 'display.expand_frame_repr', False )\n",
    "  \n",
    "    sns.set()"
   ]
  },
  {
   "cell_type": "code",
   "execution_count": 4,
   "id": "6187561f",
   "metadata": {
    "ExecuteTime": {
     "end_time": "2022-01-11T23:02:00.800776Z",
     "start_time": "2022-01-11T23:02:00.697623Z"
    }
   },
   "outputs": [
    {
     "name": "stdout",
     "output_type": "stream",
     "text": [
      "Populating the interactive namespace from numpy and matplotlib\n"
     ]
    },
    {
     "data": {
      "text/html": [
       "<style>.container { width:100% !important; }</style>"
      ],
      "text/plain": [
       "<IPython.core.display.HTML object>"
      ]
     },
     "metadata": {},
     "output_type": "display_data"
    }
   ],
   "source": [
    "jupyter_settings()"
   ]
  },
  {
   "cell_type": "markdown",
   "id": "795a696a",
   "metadata": {},
   "source": [
    "# 1.0 Data Description"
   ]
  },
  {
   "cell_type": "code",
   "execution_count": 5,
   "id": "81241753",
   "metadata": {
    "ExecuteTime": {
     "end_time": "2022-01-11T23:02:03.757154Z",
     "start_time": "2022-01-11T23:02:03.747158Z"
    }
   },
   "outputs": [],
   "source": [
    "df1 = df_raw.copy()"
   ]
  },
  {
   "cell_type": "markdown",
   "id": "d1566c26",
   "metadata": {},
   "source": [
    "## 1.1 Data Dimensions"
   ]
  },
  {
   "cell_type": "code",
   "execution_count": 6,
   "id": "6753e5ca",
   "metadata": {
    "ExecuteTime": {
     "end_time": "2022-01-11T23:02:04.424188Z",
     "start_time": "2022-01-11T23:02:04.409195Z"
    }
   },
   "outputs": [
    {
     "name": "stdout",
     "output_type": "stream",
     "text": [
      "Number of rows: 2240\n",
      "Number of columns: 29\n"
     ]
    }
   ],
   "source": [
    "print('Number of rows: {}'.format(df1.shape[0]))\n",
    "print('Number of columns: {}'.format(df1.shape[1]))"
   ]
  },
  {
   "cell_type": "markdown",
   "id": "f334b7a6",
   "metadata": {},
   "source": [
    "## 1.2 Rename Columns"
   ]
  },
  {
   "cell_type": "code",
   "execution_count": 7,
   "id": "cd940215",
   "metadata": {
    "ExecuteTime": {
     "end_time": "2022-01-11T23:02:04.801367Z",
     "start_time": "2022-01-11T23:02:04.786356Z"
    }
   },
   "outputs": [],
   "source": [
    "df1.columns = df1.columns.str.lower()"
   ]
  },
  {
   "cell_type": "markdown",
   "id": "a5a9b6bf",
   "metadata": {},
   "source": [
    "## 1.3 Data Types"
   ]
  },
  {
   "cell_type": "code",
   "execution_count": 8,
   "id": "8e04b69d",
   "metadata": {
    "ExecuteTime": {
     "end_time": "2022-01-11T23:02:05.192378Z",
     "start_time": "2022-01-11T23:02:05.169387Z"
    },
    "scrolled": true
   },
   "outputs": [
    {
     "data": {
      "text/plain": [
       "id                       int64\n",
       "year_birth               int64\n",
       "education               object\n",
       "marital_status          object\n",
       "income                 float64\n",
       "kidhome                  int64\n",
       "teenhome                 int64\n",
       "dt_customer             object\n",
       "recency                  int64\n",
       "mntwines                 int64\n",
       "mntfruits                int64\n",
       "mntmeatproducts          int64\n",
       "mntfishproducts          int64\n",
       "mntsweetproducts         int64\n",
       "mntgoldprods             int64\n",
       "numdealspurchases        int64\n",
       "numwebpurchases          int64\n",
       "numcatalogpurchases      int64\n",
       "numstorepurchases        int64\n",
       "numwebvisitsmonth        int64\n",
       "acceptedcmp3             int64\n",
       "acceptedcmp4             int64\n",
       "acceptedcmp5             int64\n",
       "acceptedcmp1             int64\n",
       "acceptedcmp2             int64\n",
       "complain                 int64\n",
       "z_costcontact            int64\n",
       "z_revenue                int64\n",
       "response                 int64\n",
       "dtype: object"
      ]
     },
     "execution_count": 8,
     "metadata": {},
     "output_type": "execute_result"
    }
   ],
   "source": [
    "df1.dtypes"
   ]
  },
  {
   "cell_type": "markdown",
   "id": "253a21b1",
   "metadata": {},
   "source": [
    "## 1.4 Check N/A"
   ]
  },
  {
   "cell_type": "code",
   "execution_count": 9,
   "id": "aecff997",
   "metadata": {
    "ExecuteTime": {
     "end_time": "2022-01-11T23:02:05.537036Z",
     "start_time": "2022-01-11T23:02:05.520044Z"
    },
    "scrolled": true
   },
   "outputs": [
    {
     "data": {
      "text/plain": [
       "id                      0\n",
       "year_birth              0\n",
       "education               0\n",
       "marital_status          0\n",
       "income                 24\n",
       "kidhome                 0\n",
       "teenhome                0\n",
       "dt_customer             0\n",
       "recency                 0\n",
       "mntwines                0\n",
       "mntfruits               0\n",
       "mntmeatproducts         0\n",
       "mntfishproducts         0\n",
       "mntsweetproducts        0\n",
       "mntgoldprods            0\n",
       "numdealspurchases       0\n",
       "numwebpurchases         0\n",
       "numcatalogpurchases     0\n",
       "numstorepurchases       0\n",
       "numwebvisitsmonth       0\n",
       "acceptedcmp3            0\n",
       "acceptedcmp4            0\n",
       "acceptedcmp5            0\n",
       "acceptedcmp1            0\n",
       "acceptedcmp2            0\n",
       "complain                0\n",
       "z_costcontact           0\n",
       "z_revenue               0\n",
       "response                0\n",
       "dtype: int64"
      ]
     },
     "execution_count": 9,
     "metadata": {},
     "output_type": "execute_result"
    }
   ],
   "source": [
    "df1.isna().sum()"
   ]
  },
  {
   "cell_type": "markdown",
   "id": "acdf576e",
   "metadata": {},
   "source": [
    "## 1.5 Drop N/A"
   ]
  },
  {
   "cell_type": "code",
   "execution_count": 10,
   "id": "6c3d018d",
   "metadata": {
    "ExecuteTime": {
     "end_time": "2022-01-11T23:02:05.927252Z",
     "start_time": "2022-01-11T23:02:05.905266Z"
    }
   },
   "outputs": [
    {
     "name": "stdout",
     "output_type": "stream",
     "text": [
      "Removed data: 0.01\n"
     ]
    }
   ],
   "source": [
    "df1 = df1.dropna(subset=['income'])\n",
    "print('Removed data: {:.2f}'.format(1-(df1.shape[0]/df_raw.shape[0])))"
   ]
  },
  {
   "cell_type": "markdown",
   "id": "22f570e9",
   "metadata": {},
   "source": [
    "## 1.6 Change data types"
   ]
  },
  {
   "cell_type": "code",
   "execution_count": 11,
   "id": "0b443f71",
   "metadata": {
    "ExecuteTime": {
     "end_time": "2022-01-11T23:02:06.298072Z",
     "start_time": "2022-01-11T23:02:06.273065Z"
    }
   },
   "outputs": [],
   "source": [
    "#dt_customer\n",
    "df1['dt_customer'] = pd.to_datetime(df1['dt_customer'], format='%d-%m-%Y')"
   ]
  },
  {
   "cell_type": "markdown",
   "id": "5277733c",
   "metadata": {},
   "source": [
    "## 1.7 Descriptive Statistics"
   ]
  },
  {
   "cell_type": "code",
   "execution_count": 12,
   "id": "f66b622a",
   "metadata": {
    "ExecuteTime": {
     "end_time": "2022-01-11T23:02:06.669054Z",
     "start_time": "2022-01-11T23:02:06.650064Z"
    }
   },
   "outputs": [],
   "source": [
    "num_attributes = df1.select_dtypes(include=['int64', 'float64'])\n",
    "cat_attributes = df1.select_dtypes(exclude=['int64', 'float64', 'datetime64[ns]'])"
   ]
  },
  {
   "cell_type": "markdown",
   "id": "9c251ade",
   "metadata": {},
   "source": [
    "### 1.7.1 Numerical Attributes"
   ]
  },
  {
   "cell_type": "code",
   "execution_count": 13,
   "id": "39d5e897",
   "metadata": {
    "ExecuteTime": {
     "end_time": "2022-01-11T23:02:07.185999Z",
     "start_time": "2022-01-11T23:02:07.058072Z"
    }
   },
   "outputs": [],
   "source": [
    "#central tendency - mean, median\n",
    "ct1 = pd.DataFrame(num_attributes.apply(np.mean)).T\n",
    "ct2 = pd.DataFrame(num_attributes.apply(np.median)).T\n",
    "\n",
    "#dispersion - std, min, max, range, skew, kurtosis\n",
    "d1 = pd.DataFrame(num_attributes.apply(np.std)).T\n",
    "d2 = pd.DataFrame(num_attributes.apply(min)).T\n",
    "d3 = pd.DataFrame(num_attributes.apply(max)).T\n",
    "d4 = pd.DataFrame(num_attributes.apply(lambda x: x.max() - x.min())).T\n",
    "d5 = pd.DataFrame(num_attributes.apply(lambda x: x.skew())).T\n",
    "d6 = pd.DataFrame(num_attributes.apply(lambda x: x.kurtosis())).T\n",
    "\n",
    "#concat\n",
    "n = pd.concat([d2, d3, d4, ct1, ct2, d1, d5, d6]).T.reset_index()\n",
    "n.columns = ['attributes', 'min', 'max', 'range', 'mean', 'median', 'std', 'skew', 'kurtosis']"
   ]
  },
  {
   "cell_type": "code",
   "execution_count": 14,
   "id": "5907ef30",
   "metadata": {
    "ExecuteTime": {
     "end_time": "2022-01-11T23:02:07.701336Z",
     "start_time": "2022-01-11T23:02:07.642345Z"
    },
    "scrolled": true
   },
   "outputs": [
    {
     "data": {
      "text/html": [
       "<div>\n",
       "<style scoped>\n",
       "    .dataframe tbody tr th:only-of-type {\n",
       "        vertical-align: middle;\n",
       "    }\n",
       "\n",
       "    .dataframe tbody tr th {\n",
       "        vertical-align: top;\n",
       "    }\n",
       "\n",
       "    .dataframe thead th {\n",
       "        text-align: right;\n",
       "    }\n",
       "</style>\n",
       "<table border=\"1\" class=\"dataframe\">\n",
       "  <thead>\n",
       "    <tr style=\"text-align: right;\">\n",
       "      <th></th>\n",
       "      <th>attributes</th>\n",
       "      <th>min</th>\n",
       "      <th>max</th>\n",
       "      <th>range</th>\n",
       "      <th>mean</th>\n",
       "      <th>median</th>\n",
       "      <th>std</th>\n",
       "      <th>skew</th>\n",
       "      <th>kurtosis</th>\n",
       "    </tr>\n",
       "  </thead>\n",
       "  <tbody>\n",
       "    <tr>\n",
       "      <th>0</th>\n",
       "      <td>id</td>\n",
       "      <td>0.0</td>\n",
       "      <td>11191.0</td>\n",
       "      <td>11191.0</td>\n",
       "      <td>5588.353339</td>\n",
       "      <td>5458.5</td>\n",
       "      <td>3248.643030</td>\n",
       "      <td>0.040459</td>\n",
       "      <td>-1.189677</td>\n",
       "    </tr>\n",
       "    <tr>\n",
       "      <th>1</th>\n",
       "      <td>year_birth</td>\n",
       "      <td>1893.0</td>\n",
       "      <td>1996.0</td>\n",
       "      <td>103.0</td>\n",
       "      <td>1968.820397</td>\n",
       "      <td>1970.0</td>\n",
       "      <td>11.982849</td>\n",
       "      <td>-0.353661</td>\n",
       "      <td>0.734670</td>\n",
       "    </tr>\n",
       "    <tr>\n",
       "      <th>2</th>\n",
       "      <td>income</td>\n",
       "      <td>1730.0</td>\n",
       "      <td>666666.0</td>\n",
       "      <td>664936.0</td>\n",
       "      <td>52247.251354</td>\n",
       "      <td>51381.5</td>\n",
       "      <td>25167.396174</td>\n",
       "      <td>6.763487</td>\n",
       "      <td>159.636700</td>\n",
       "    </tr>\n",
       "    <tr>\n",
       "      <th>3</th>\n",
       "      <td>kidhome</td>\n",
       "      <td>0.0</td>\n",
       "      <td>2.0</td>\n",
       "      <td>2.0</td>\n",
       "      <td>0.441787</td>\n",
       "      <td>0.0</td>\n",
       "      <td>0.536775</td>\n",
       "      <td>0.635610</td>\n",
       "      <td>-0.791164</td>\n",
       "    </tr>\n",
       "    <tr>\n",
       "      <th>4</th>\n",
       "      <td>teenhome</td>\n",
       "      <td>0.0</td>\n",
       "      <td>2.0</td>\n",
       "      <td>2.0</td>\n",
       "      <td>0.505415</td>\n",
       "      <td>0.0</td>\n",
       "      <td>0.544058</td>\n",
       "      <td>0.407553</td>\n",
       "      <td>-0.989619</td>\n",
       "    </tr>\n",
       "    <tr>\n",
       "      <th>5</th>\n",
       "      <td>recency</td>\n",
       "      <td>0.0</td>\n",
       "      <td>99.0</td>\n",
       "      <td>99.0</td>\n",
       "      <td>49.012635</td>\n",
       "      <td>49.0</td>\n",
       "      <td>28.941819</td>\n",
       "      <td>0.001648</td>\n",
       "      <td>-1.199777</td>\n",
       "    </tr>\n",
       "    <tr>\n",
       "      <th>6</th>\n",
       "      <td>mntwines</td>\n",
       "      <td>0.0</td>\n",
       "      <td>1493.0</td>\n",
       "      <td>1493.0</td>\n",
       "      <td>305.091606</td>\n",
       "      <td>174.5</td>\n",
       "      <td>337.251800</td>\n",
       "      <td>1.170720</td>\n",
       "      <td>0.582741</td>\n",
       "    </tr>\n",
       "    <tr>\n",
       "      <th>7</th>\n",
       "      <td>mntfruits</td>\n",
       "      <td>0.0</td>\n",
       "      <td>199.0</td>\n",
       "      <td>199.0</td>\n",
       "      <td>26.356047</td>\n",
       "      <td>8.0</td>\n",
       "      <td>39.784937</td>\n",
       "      <td>2.101658</td>\n",
       "      <td>4.054082</td>\n",
       "    </tr>\n",
       "    <tr>\n",
       "      <th>8</th>\n",
       "      <td>mntmeatproducts</td>\n",
       "      <td>0.0</td>\n",
       "      <td>1725.0</td>\n",
       "      <td>1725.0</td>\n",
       "      <td>166.995939</td>\n",
       "      <td>68.0</td>\n",
       "      <td>224.232662</td>\n",
       "      <td>2.025577</td>\n",
       "      <td>5.055477</td>\n",
       "    </tr>\n",
       "    <tr>\n",
       "      <th>9</th>\n",
       "      <td>mntfishproducts</td>\n",
       "      <td>0.0</td>\n",
       "      <td>259.0</td>\n",
       "      <td>259.0</td>\n",
       "      <td>37.637635</td>\n",
       "      <td>12.0</td>\n",
       "      <td>54.739727</td>\n",
       "      <td>1.916369</td>\n",
       "      <td>3.076476</td>\n",
       "    </tr>\n",
       "    <tr>\n",
       "      <th>10</th>\n",
       "      <td>mntsweetproducts</td>\n",
       "      <td>0.0</td>\n",
       "      <td>262.0</td>\n",
       "      <td>262.0</td>\n",
       "      <td>27.028881</td>\n",
       "      <td>8.0</td>\n",
       "      <td>41.062777</td>\n",
       "      <td>2.103328</td>\n",
       "      <td>4.106141</td>\n",
       "    </tr>\n",
       "    <tr>\n",
       "      <th>11</th>\n",
       "      <td>mntgoldprods</td>\n",
       "      <td>0.0</td>\n",
       "      <td>321.0</td>\n",
       "      <td>321.0</td>\n",
       "      <td>43.965253</td>\n",
       "      <td>24.5</td>\n",
       "      <td>51.803722</td>\n",
       "      <td>1.839231</td>\n",
       "      <td>3.156342</td>\n",
       "    </tr>\n",
       "    <tr>\n",
       "      <th>12</th>\n",
       "      <td>numdealspurchases</td>\n",
       "      <td>0.0</td>\n",
       "      <td>15.0</td>\n",
       "      <td>15.0</td>\n",
       "      <td>2.323556</td>\n",
       "      <td>2.0</td>\n",
       "      <td>1.923282</td>\n",
       "      <td>2.415272</td>\n",
       "      <td>8.974490</td>\n",
       "    </tr>\n",
       "    <tr>\n",
       "      <th>13</th>\n",
       "      <td>numwebpurchases</td>\n",
       "      <td>0.0</td>\n",
       "      <td>27.0</td>\n",
       "      <td>27.0</td>\n",
       "      <td>4.085289</td>\n",
       "      <td>4.0</td>\n",
       "      <td>2.740333</td>\n",
       "      <td>1.197037</td>\n",
       "      <td>4.072137</td>\n",
       "    </tr>\n",
       "    <tr>\n",
       "      <th>14</th>\n",
       "      <td>numcatalogpurchases</td>\n",
       "      <td>0.0</td>\n",
       "      <td>28.0</td>\n",
       "      <td>28.0</td>\n",
       "      <td>2.671029</td>\n",
       "      <td>2.0</td>\n",
       "      <td>2.926073</td>\n",
       "      <td>1.881075</td>\n",
       "      <td>8.067126</td>\n",
       "    </tr>\n",
       "    <tr>\n",
       "      <th>15</th>\n",
       "      <td>numstorepurchases</td>\n",
       "      <td>0.0</td>\n",
       "      <td>13.0</td>\n",
       "      <td>13.0</td>\n",
       "      <td>5.800993</td>\n",
       "      <td>5.0</td>\n",
       "      <td>3.250051</td>\n",
       "      <td>0.701826</td>\n",
       "      <td>-0.626462</td>\n",
       "    </tr>\n",
       "    <tr>\n",
       "      <th>16</th>\n",
       "      <td>numwebvisitsmonth</td>\n",
       "      <td>0.0</td>\n",
       "      <td>20.0</td>\n",
       "      <td>20.0</td>\n",
       "      <td>5.319043</td>\n",
       "      <td>6.0</td>\n",
       "      <td>2.424811</td>\n",
       "      <td>0.218043</td>\n",
       "      <td>1.852577</td>\n",
       "    </tr>\n",
       "    <tr>\n",
       "      <th>17</th>\n",
       "      <td>acceptedcmp3</td>\n",
       "      <td>0.0</td>\n",
       "      <td>1.0</td>\n",
       "      <td>1.0</td>\n",
       "      <td>0.073556</td>\n",
       "      <td>0.0</td>\n",
       "      <td>0.261047</td>\n",
       "      <td>3.269397</td>\n",
       "      <td>8.696805</td>\n",
       "    </tr>\n",
       "    <tr>\n",
       "      <th>18</th>\n",
       "      <td>acceptedcmp4</td>\n",
       "      <td>0.0</td>\n",
       "      <td>1.0</td>\n",
       "      <td>1.0</td>\n",
       "      <td>0.074007</td>\n",
       "      <td>0.0</td>\n",
       "      <td>0.261783</td>\n",
       "      <td>3.256758</td>\n",
       "      <td>8.614248</td>\n",
       "    </tr>\n",
       "    <tr>\n",
       "      <th>19</th>\n",
       "      <td>acceptedcmp5</td>\n",
       "      <td>0.0</td>\n",
       "      <td>1.0</td>\n",
       "      <td>1.0</td>\n",
       "      <td>0.073105</td>\n",
       "      <td>0.0</td>\n",
       "      <td>0.260308</td>\n",
       "      <td>3.282143</td>\n",
       "      <td>8.780388</td>\n",
       "    </tr>\n",
       "    <tr>\n",
       "      <th>20</th>\n",
       "      <td>acceptedcmp1</td>\n",
       "      <td>0.0</td>\n",
       "      <td>1.0</td>\n",
       "      <td>1.0</td>\n",
       "      <td>0.064079</td>\n",
       "      <td>0.0</td>\n",
       "      <td>0.244894</td>\n",
       "      <td>3.562482</td>\n",
       "      <td>10.700936</td>\n",
       "    </tr>\n",
       "    <tr>\n",
       "      <th>21</th>\n",
       "      <td>acceptedcmp2</td>\n",
       "      <td>0.0</td>\n",
       "      <td>1.0</td>\n",
       "      <td>1.0</td>\n",
       "      <td>0.013538</td>\n",
       "      <td>0.0</td>\n",
       "      <td>0.115562</td>\n",
       "      <td>8.424753</td>\n",
       "      <td>69.038772</td>\n",
       "    </tr>\n",
       "    <tr>\n",
       "      <th>22</th>\n",
       "      <td>complain</td>\n",
       "      <td>0.0</td>\n",
       "      <td>1.0</td>\n",
       "      <td>1.0</td>\n",
       "      <td>0.009477</td>\n",
       "      <td>0.0</td>\n",
       "      <td>0.096885</td>\n",
       "      <td>10.132737</td>\n",
       "      <td>100.763293</td>\n",
       "    </tr>\n",
       "    <tr>\n",
       "      <th>23</th>\n",
       "      <td>z_costcontact</td>\n",
       "      <td>3.0</td>\n",
       "      <td>3.0</td>\n",
       "      <td>0.0</td>\n",
       "      <td>3.000000</td>\n",
       "      <td>3.0</td>\n",
       "      <td>0.000000</td>\n",
       "      <td>0.000000</td>\n",
       "      <td>0.000000</td>\n",
       "    </tr>\n",
       "    <tr>\n",
       "      <th>24</th>\n",
       "      <td>z_revenue</td>\n",
       "      <td>11.0</td>\n",
       "      <td>11.0</td>\n",
       "      <td>0.0</td>\n",
       "      <td>11.000000</td>\n",
       "      <td>11.0</td>\n",
       "      <td>0.000000</td>\n",
       "      <td>0.000000</td>\n",
       "      <td>0.000000</td>\n",
       "    </tr>\n",
       "    <tr>\n",
       "      <th>25</th>\n",
       "      <td>response</td>\n",
       "      <td>0.0</td>\n",
       "      <td>1.0</td>\n",
       "      <td>1.0</td>\n",
       "      <td>0.150271</td>\n",
       "      <td>0.0</td>\n",
       "      <td>0.357337</td>\n",
       "      <td>1.958748</td>\n",
       "      <td>1.838352</td>\n",
       "    </tr>\n",
       "  </tbody>\n",
       "</table>\n",
       "</div>"
      ],
      "text/plain": [
       "             attributes     min       max     range          mean   median           std       skew    kurtosis\n",
       "0                    id     0.0   11191.0   11191.0   5588.353339   5458.5   3248.643030   0.040459   -1.189677\n",
       "1            year_birth  1893.0    1996.0     103.0   1968.820397   1970.0     11.982849  -0.353661    0.734670\n",
       "2                income  1730.0  666666.0  664936.0  52247.251354  51381.5  25167.396174   6.763487  159.636700\n",
       "3               kidhome     0.0       2.0       2.0      0.441787      0.0      0.536775   0.635610   -0.791164\n",
       "4              teenhome     0.0       2.0       2.0      0.505415      0.0      0.544058   0.407553   -0.989619\n",
       "5               recency     0.0      99.0      99.0     49.012635     49.0     28.941819   0.001648   -1.199777\n",
       "6              mntwines     0.0    1493.0    1493.0    305.091606    174.5    337.251800   1.170720    0.582741\n",
       "7             mntfruits     0.0     199.0     199.0     26.356047      8.0     39.784937   2.101658    4.054082\n",
       "8       mntmeatproducts     0.0    1725.0    1725.0    166.995939     68.0    224.232662   2.025577    5.055477\n",
       "9       mntfishproducts     0.0     259.0     259.0     37.637635     12.0     54.739727   1.916369    3.076476\n",
       "10     mntsweetproducts     0.0     262.0     262.0     27.028881      8.0     41.062777   2.103328    4.106141\n",
       "11         mntgoldprods     0.0     321.0     321.0     43.965253     24.5     51.803722   1.839231    3.156342\n",
       "12    numdealspurchases     0.0      15.0      15.0      2.323556      2.0      1.923282   2.415272    8.974490\n",
       "13      numwebpurchases     0.0      27.0      27.0      4.085289      4.0      2.740333   1.197037    4.072137\n",
       "14  numcatalogpurchases     0.0      28.0      28.0      2.671029      2.0      2.926073   1.881075    8.067126\n",
       "15    numstorepurchases     0.0      13.0      13.0      5.800993      5.0      3.250051   0.701826   -0.626462\n",
       "16    numwebvisitsmonth     0.0      20.0      20.0      5.319043      6.0      2.424811   0.218043    1.852577\n",
       "17         acceptedcmp3     0.0       1.0       1.0      0.073556      0.0      0.261047   3.269397    8.696805\n",
       "18         acceptedcmp4     0.0       1.0       1.0      0.074007      0.0      0.261783   3.256758    8.614248\n",
       "19         acceptedcmp5     0.0       1.0       1.0      0.073105      0.0      0.260308   3.282143    8.780388\n",
       "20         acceptedcmp1     0.0       1.0       1.0      0.064079      0.0      0.244894   3.562482   10.700936\n",
       "21         acceptedcmp2     0.0       1.0       1.0      0.013538      0.0      0.115562   8.424753   69.038772\n",
       "22             complain     0.0       1.0       1.0      0.009477      0.0      0.096885  10.132737  100.763293\n",
       "23        z_costcontact     3.0       3.0       0.0      3.000000      3.0      0.000000   0.000000    0.000000\n",
       "24            z_revenue    11.0      11.0       0.0     11.000000     11.0      0.000000   0.000000    0.000000\n",
       "25             response     0.0       1.0       1.0      0.150271      0.0      0.357337   1.958748    1.838352"
      ]
     },
     "execution_count": 14,
     "metadata": {},
     "output_type": "execute_result"
    }
   ],
   "source": [
    "n"
   ]
  },
  {
   "cell_type": "code",
   "execution_count": 15,
   "id": "cc16160a",
   "metadata": {
    "ExecuteTime": {
     "end_time": "2022-01-11T23:02:09.025434Z",
     "start_time": "2022-01-11T23:02:08.097448Z"
    },
    "scrolled": true
   },
   "outputs": [
    {
     "data": {
      "image/png": "[encoded data removed]",
      "text/plain": [
       "<Figure size 360x360 with 1 Axes>"
      ]
     },
     "metadata": {},
     "output_type": "display_data"
    }
   ],
   "source": [
    "sns.displot(data=num_attributes, x=\"income\");"
   ]
  },
  {
   "cell_type": "code",
   "execution_count": 16,
   "id": "fbbaccaa",
   "metadata": {
    "ExecuteTime": {
     "end_time": "2022-01-11T23:02:09.825834Z",
     "start_time": "2022-01-11T23:02:09.409214Z"
    },
    "scrolled": true
   },
   "outputs": [
    {
     "data": {
      "image/png": "[encoded data removed]",
      "text/plain": [
       "<Figure size 360x360 with 1 Axes>"
      ]
     },
     "metadata": {},
     "output_type": "display_data"
    }
   ],
   "source": [
    "sns.displot(data=num_attributes, x=\"year_birth\");"
   ]
  },
  {
   "cell_type": "markdown",
   "id": "57a2863b",
   "metadata": {},
   "source": [
    "### 1.7.2 Categorical Attributes"
   ]
  },
  {
   "cell_type": "code",
   "execution_count": 17,
   "id": "4ccf6184",
   "metadata": {
    "ExecuteTime": {
     "end_time": "2022-01-11T23:02:10.579900Z",
     "start_time": "2022-01-11T23:02:10.234098Z"
    },
    "scrolled": false
   },
   "outputs": [
    {
     "data": {
      "text/plain": [
       "<AxesSubplot:xlabel='education', ylabel='income'>"
      ]
     },
     "execution_count": 17,
     "metadata": {},
     "output_type": "execute_result"
    },
    {
     "data": {
      "image/png": "[encoded data removed]",
      "text/plain": [
       "<Figure size 1440x720 with 1 Axes>"
      ]
     },
     "metadata": {},
     "output_type": "display_data"
    }
   ],
   "source": [
    "sns.boxplot(x=\"education\", y=\"income\", data=df1, palette=\"Set3\")"
   ]
  },
  {
   "cell_type": "code",
   "execution_count": 18,
   "id": "854c5192",
   "metadata": {
    "ExecuteTime": {
     "end_time": "2022-01-11T23:02:11.412647Z",
     "start_time": "2022-01-11T23:02:10.978205Z"
    }
   },
   "outputs": [
    {
     "data": {
      "text/plain": [
       "<AxesSubplot:xlabel='marital_status', ylabel='income'>"
      ]
     },
     "execution_count": 18,
     "metadata": {},
     "output_type": "execute_result"
    },
    {
     "data": {
      "image/png": "[encoded data removed]",
      "text/plain": [
       "<Figure size 1440x720 with 1 Axes>"
      ]
     },
     "metadata": {},
     "output_type": "display_data"
    }
   ],
   "source": [
    "sns.boxplot(x=\"marital_status\", y=\"income\", data=df1, palette=\"Set3\")"
   ]
  },
  {
   "cell_type": "markdown",
   "id": "3896ec76",
   "metadata": {},
   "source": [
    "# 2.0 Data Filtering"
   ]
  },
  {
   "cell_type": "code",
   "execution_count": 19,
   "id": "75624ef5",
   "metadata": {
    "ExecuteTime": {
     "end_time": "2022-01-11T23:02:14.693154Z",
     "start_time": "2022-01-11T23:02:14.681136Z"
    }
   },
   "outputs": [],
   "source": [
    "df2 = df1.copy()"
   ]
  },
  {
   "cell_type": "code",
   "execution_count": 83,
   "id": "bcdecf72",
   "metadata": {
    "ExecuteTime": {
     "end_time": "2022-01-12T00:11:42.270600Z",
     "start_time": "2022-01-12T00:11:42.225602Z"
    }
   },
   "outputs": [
    {
     "ename": "KeyError",
     "evalue": "\"['z_costcontact' 'z_revenue'] not found in axis\"",
     "output_type": "error",
     "traceback": [
      "\u001b[1;31m---------------------------------------------------------------------------\u001b[0m",
      "\u001b[1;31mKeyError\u001b[0m                                  Traceback (most recent call last)",
      "\u001b[1;32m<ipython-input-83-e963f9ec5113>\u001b[0m in \u001b[0;36m<module>\u001b[1;34m\u001b[0m\n\u001b[0;32m      1\u001b[0m \u001b[1;31m#drop z_ columns\u001b[0m\u001b[1;33m\u001b[0m\u001b[1;33m\u001b[0m\u001b[1;33m\u001b[0m\u001b[0m\n\u001b[1;32m----> 2\u001b[1;33m \u001b[0mdf2\u001b[0m \u001b[1;33m=\u001b[0m \u001b[0mdf2\u001b[0m\u001b[1;33m.\u001b[0m\u001b[0mdrop\u001b[0m\u001b[1;33m(\u001b[0m\u001b[0mcolumns\u001b[0m\u001b[1;33m=\u001b[0m\u001b[1;33m[\u001b[0m\u001b[1;34m'z_costcontact'\u001b[0m\u001b[1;33m,\u001b[0m \u001b[1;34m'z_revenue'\u001b[0m\u001b[1;33m]\u001b[0m\u001b[1;33m)\u001b[0m\u001b[1;33m\u001b[0m\u001b[1;33m\u001b[0m\u001b[0m\n\u001b[0m\u001b[0;32m      3\u001b[0m \u001b[1;31m#replace marital_status 'alone', 'absurd' e 'yolo' to 'single'\u001b[0m\u001b[1;33m\u001b[0m\u001b[1;33m\u001b[0m\u001b[1;33m\u001b[0m\u001b[0m\n\u001b[0;32m      4\u001b[0m \u001b[0mdf2\u001b[0m\u001b[1;33m[\u001b[0m\u001b[1;34m'marital_status'\u001b[0m\u001b[1;33m]\u001b[0m \u001b[1;33m=\u001b[0m \u001b[0mdf2\u001b[0m\u001b[1;33m[\u001b[0m\u001b[1;34m'marital_status'\u001b[0m\u001b[1;33m]\u001b[0m\u001b[1;33m.\u001b[0m\u001b[0mreplace\u001b[0m\u001b[1;33m(\u001b[0m\u001b[1;33m[\u001b[0m\u001b[1;34m'Absurd'\u001b[0m\u001b[1;33m,\u001b[0m \u001b[1;34m'Alone'\u001b[0m\u001b[1;33m,\u001b[0m \u001b[1;34m'YOLO'\u001b[0m\u001b[1;33m]\u001b[0m\u001b[1;33m,\u001b[0m \u001b[1;34m'Single'\u001b[0m\u001b[1;33m)\u001b[0m\u001b[1;33m\u001b[0m\u001b[1;33m\u001b[0m\u001b[0m\n\u001b[0;32m      5\u001b[0m \u001b[1;31m#delete outlier with income = 666666\u001b[0m\u001b[1;33m\u001b[0m\u001b[1;33m\u001b[0m\u001b[1;33m\u001b[0m\u001b[0m\n",
      "\u001b[1;32m~\\anaconda3\\lib\\site-packages\\pandas\\core\\frame.py\u001b[0m in \u001b[0;36mdrop\u001b[1;34m(self, labels, axis, index, columns, level, inplace, errors)\u001b[0m\n\u001b[0;32m   4306\u001b[0m                 \u001b[0mweight\u001b[0m  \u001b[1;36m1.0\u001b[0m     \u001b[1;36m0.8\u001b[0m\u001b[1;33m\u001b[0m\u001b[1;33m\u001b[0m\u001b[0m\n\u001b[0;32m   4307\u001b[0m         \"\"\"\n\u001b[1;32m-> 4308\u001b[1;33m         return super().drop(\n\u001b[0m\u001b[0;32m   4309\u001b[0m             \u001b[0mlabels\u001b[0m\u001b[1;33m=\u001b[0m\u001b[0mlabels\u001b[0m\u001b[1;33m,\u001b[0m\u001b[1;33m\u001b[0m\u001b[1;33m\u001b[0m\u001b[0m\n\u001b[0;32m   4310\u001b[0m             \u001b[0maxis\u001b[0m\u001b[1;33m=\u001b[0m\u001b[0maxis\u001b[0m\u001b[1;33m,\u001b[0m\u001b[1;33m\u001b[0m\u001b[1;33m\u001b[0m\u001b[0m\n",
      "\u001b[1;32m~\\anaconda3\\lib\\site-packages\\pandas\\core\\generic.py\u001b[0m in \u001b[0;36mdrop\u001b[1;34m(self, labels, axis, index, columns, level, inplace, errors)\u001b[0m\n\u001b[0;32m   4151\u001b[0m         \u001b[1;32mfor\u001b[0m \u001b[0maxis\u001b[0m\u001b[1;33m,\u001b[0m \u001b[0mlabels\u001b[0m \u001b[1;32min\u001b[0m \u001b[0maxes\u001b[0m\u001b[1;33m.\u001b[0m\u001b[0mitems\u001b[0m\u001b[1;33m(\u001b[0m\u001b[1;33m)\u001b[0m\u001b[1;33m:\u001b[0m\u001b[1;33m\u001b[0m\u001b[1;33m\u001b[0m\u001b[0m\n\u001b[0;32m   4152\u001b[0m             \u001b[1;32mif\u001b[0m \u001b[0mlabels\u001b[0m \u001b[1;32mis\u001b[0m \u001b[1;32mnot\u001b[0m \u001b[1;32mNone\u001b[0m\u001b[1;33m:\u001b[0m\u001b[1;33m\u001b[0m\u001b[1;33m\u001b[0m\u001b[0m\n\u001b[1;32m-> 4153\u001b[1;33m                 \u001b[0mobj\u001b[0m \u001b[1;33m=\u001b[0m \u001b[0mobj\u001b[0m\u001b[1;33m.\u001b[0m\u001b[0m_drop_axis\u001b[0m\u001b[1;33m(\u001b[0m\u001b[0mlabels\u001b[0m\u001b[1;33m,\u001b[0m \u001b[0maxis\u001b[0m\u001b[1;33m,\u001b[0m \u001b[0mlevel\u001b[0m\u001b[1;33m=\u001b[0m\u001b[0mlevel\u001b[0m\u001b[1;33m,\u001b[0m \u001b[0merrors\u001b[0m\u001b[1;33m=\u001b[0m\u001b[0merrors\u001b[0m\u001b[1;33m)\u001b[0m\u001b[1;33m\u001b[0m\u001b[1;33m\u001b[0m\u001b[0m\n\u001b[0m\u001b[0;32m   4154\u001b[0m \u001b[1;33m\u001b[0m\u001b[0m\n\u001b[0;32m   4155\u001b[0m         \u001b[1;32mif\u001b[0m \u001b[0minplace\u001b[0m\u001b[1;33m:\u001b[0m\u001b[1;33m\u001b[0m\u001b[1;33m\u001b[0m\u001b[0m\n",
      "\u001b[1;32m~\\anaconda3\\lib\\site-packages\\pandas\\core\\generic.py\u001b[0m in \u001b[0;36m_drop_axis\u001b[1;34m(self, labels, axis, level, errors)\u001b[0m\n\u001b[0;32m   4186\u001b[0m                 \u001b[0mnew_axis\u001b[0m \u001b[1;33m=\u001b[0m \u001b[0maxis\u001b[0m\u001b[1;33m.\u001b[0m\u001b[0mdrop\u001b[0m\u001b[1;33m(\u001b[0m\u001b[0mlabels\u001b[0m\u001b[1;33m,\u001b[0m \u001b[0mlevel\u001b[0m\u001b[1;33m=\u001b[0m\u001b[0mlevel\u001b[0m\u001b[1;33m,\u001b[0m \u001b[0merrors\u001b[0m\u001b[1;33m=\u001b[0m\u001b[0merrors\u001b[0m\u001b[1;33m)\u001b[0m\u001b[1;33m\u001b[0m\u001b[1;33m\u001b[0m\u001b[0m\n\u001b[0;32m   4187\u001b[0m             \u001b[1;32melse\u001b[0m\u001b[1;33m:\u001b[0m\u001b[1;33m\u001b[0m\u001b[1;33m\u001b[0m\u001b[0m\n\u001b[1;32m-> 4188\u001b[1;33m                 \u001b[0mnew_axis\u001b[0m \u001b[1;33m=\u001b[0m \u001b[0maxis\u001b[0m\u001b[1;33m.\u001b[0m\u001b[0mdrop\u001b[0m\u001b[1;33m(\u001b[0m\u001b[0mlabels\u001b[0m\u001b[1;33m,\u001b[0m \u001b[0merrors\u001b[0m\u001b[1;33m=\u001b[0m\u001b[0merrors\u001b[0m\u001b[1;33m)\u001b[0m\u001b[1;33m\u001b[0m\u001b[1;33m\u001b[0m\u001b[0m\n\u001b[0m\u001b[0;32m   4189\u001b[0m             \u001b[0mresult\u001b[0m \u001b[1;33m=\u001b[0m \u001b[0mself\u001b[0m\u001b[1;33m.\u001b[0m\u001b[0mreindex\u001b[0m\u001b[1;33m(\u001b[0m\u001b[1;33m**\u001b[0m\u001b[1;33m{\u001b[0m\u001b[0maxis_name\u001b[0m\u001b[1;33m:\u001b[0m \u001b[0mnew_axis\u001b[0m\u001b[1;33m}\u001b[0m\u001b[1;33m)\u001b[0m\u001b[1;33m\u001b[0m\u001b[1;33m\u001b[0m\u001b[0m\n\u001b[0;32m   4190\u001b[0m \u001b[1;33m\u001b[0m\u001b[0m\n",
      "\u001b[1;32m~\\anaconda3\\lib\\site-packages\\pandas\\core\\indexes\\base.py\u001b[0m in \u001b[0;36mdrop\u001b[1;34m(self, labels, errors)\u001b[0m\n\u001b[0;32m   5589\u001b[0m         \u001b[1;32mif\u001b[0m \u001b[0mmask\u001b[0m\u001b[1;33m.\u001b[0m\u001b[0many\u001b[0m\u001b[1;33m(\u001b[0m\u001b[1;33m)\u001b[0m\u001b[1;33m:\u001b[0m\u001b[1;33m\u001b[0m\u001b[1;33m\u001b[0m\u001b[0m\n\u001b[0;32m   5590\u001b[0m             \u001b[1;32mif\u001b[0m \u001b[0merrors\u001b[0m \u001b[1;33m!=\u001b[0m \u001b[1;34m\"ignore\"\u001b[0m\u001b[1;33m:\u001b[0m\u001b[1;33m\u001b[0m\u001b[1;33m\u001b[0m\u001b[0m\n\u001b[1;32m-> 5591\u001b[1;33m                 \u001b[1;32mraise\u001b[0m \u001b[0mKeyError\u001b[0m\u001b[1;33m(\u001b[0m\u001b[1;34mf\"{labels[mask]} not found in axis\"\u001b[0m\u001b[1;33m)\u001b[0m\u001b[1;33m\u001b[0m\u001b[1;33m\u001b[0m\u001b[0m\n\u001b[0m\u001b[0;32m   5592\u001b[0m             \u001b[0mindexer\u001b[0m \u001b[1;33m=\u001b[0m \u001b[0mindexer\u001b[0m\u001b[1;33m[\u001b[0m\u001b[1;33m~\u001b[0m\u001b[0mmask\u001b[0m\u001b[1;33m]\u001b[0m\u001b[1;33m\u001b[0m\u001b[1;33m\u001b[0m\u001b[0m\n\u001b[0;32m   5593\u001b[0m         \u001b[1;32mreturn\u001b[0m \u001b[0mself\u001b[0m\u001b[1;33m.\u001b[0m\u001b[0mdelete\u001b[0m\u001b[1;33m(\u001b[0m\u001b[0mindexer\u001b[0m\u001b[1;33m)\u001b[0m\u001b[1;33m\u001b[0m\u001b[1;33m\u001b[0m\u001b[0m\n",
      "\u001b[1;31mKeyError\u001b[0m: \"['z_costcontact' 'z_revenue'] not found in axis\""
     ]
    }
   ],
   "source": [
    "#drop z_ columns\n",
    "df2 = df2.drop(columns=['z_costcontact', 'z_revenue'])\n",
    "#replace marital_status 'alone', 'absurd' e 'yolo' to 'single'\n",
    "df2['marital_status'] = df2['marital_status'].replace(['Absurd', 'Alone', 'YOLO'], 'Single')\n",
    "#delete outlier with income = 666666\n",
    "df4.drop(df4.loc[df4['income'] == 666666, :].index, inplace = True)"
   ]
  },
  {
   "cell_type": "markdown",
   "id": "d239a1d4",
   "metadata": {},
   "source": [
    "# 3.0 Feature Engineering"
   ]
  },
  {
   "cell_type": "code",
   "execution_count": 21,
   "id": "ca540fbd",
   "metadata": {
    "ExecuteTime": {
     "end_time": "2022-01-11T23:02:16.319071Z",
     "start_time": "2022-01-11T23:02:16.313075Z"
    }
   },
   "outputs": [],
   "source": [
    "df3 = df2.copy()"
   ]
  },
  {
   "cell_type": "code",
   "execution_count": 22,
   "id": "5c91b864",
   "metadata": {
    "ExecuteTime": {
     "end_time": "2022-01-11T23:02:17.007137Z",
     "start_time": "2022-01-11T23:02:16.978154Z"
    },
    "code_folding": []
   },
   "outputs": [],
   "source": [
    "#monetary (total amount spend)\n",
    "df3['mnttotal'] = df3['mntwines'] + df3['mntfruits'] + df3['mntmeatproducts'] + df3['mntfishproducts'] + df3['mntsweetproducts'] + df3['mntgoldprods']\n",
    "\n",
    "#total number of purchases\n",
    "df3['numtotalpurchases'] = df3['numwebpurchases'] + df3['numcatalogpurchases'] + df3['numstorepurchases'] + df3['numwebvisitsmonth']\n",
    "\n",
    "#database generation date\n",
    "df3['final_date'] = pd.to_datetime('2014-08-18')\n",
    "\n",
    "#==========frequency============\n",
    "#enrollment date - final_date = total days since the person is a client\n",
    "df3['total_days'] = (df3['final_date'] - df3['dt_customer']).dt.days\n",
    "\n",
    "#total days - recency = total period (days) that the person has been on store\n",
    "df3['on_store'] = df3['total_days'] - df3['recency']\n",
    "\n",
    "#on_store / number purchases = frequency (de quanto em quantos dias a pessoa fez uma compra)\n",
    "df3['frequency'] = np.round(df3['on_store'] / df3['numtotalpurchases'])\n",
    "\n",
    "#remove clients with 0 total purchases\n",
    "df3 = df3[df3['numtotalpurchases'] != 0]"
   ]
  },
  {
   "cell_type": "code",
   "execution_count": null,
   "id": "8a3e2b5b",
   "metadata": {
    "ExecuteTime": {
     "end_time": "2022-01-10T23:38:23.556817Z",
     "start_time": "2022-01-10T23:38:23.548844Z"
    }
   },
   "outputs": [],
   "source": [
    "#finding the database generation date\n",
    "#df3['dt_customer'].min()\n",
    "#df3.loc[df3['dt_customer'] == '2014-06-29', :]\n",
    "#selecting the customer with more recency days\n",
    "#df3.loc[df3['id'] == 7300, 'dt_customer']\n",
    "#adding the total of days since last purchase to the date of first purchase\n",
    "#df3.loc[df3['id'] == 7300, 'dt_customer'] + timedelta(days=50)"
   ]
  },
  {
   "cell_type": "markdown",
   "id": "549fd994",
   "metadata": {},
   "source": [
    "## 3.1 RFM "
   ]
  },
  {
   "cell_type": "code",
   "execution_count": null,
   "id": "85df8cbc",
   "metadata": {
    "ExecuteTime": {
     "end_time": "2022-01-05T00:09:50.038896Z",
     "start_time": "2022-01-05T00:09:50.009912Z"
    },
    "scrolled": true
   },
   "outputs": [],
   "source": [
    "#df_rfm = (df3[['id', 'recency', 'frequency', 'mnttotal']])\n",
    "#df_rfm"
   ]
  },
  {
   "cell_type": "markdown",
   "id": "90400cab",
   "metadata": {},
   "source": [
    "# 4.0 EDA (Exploratory Data Analysis)"
   ]
  },
  {
   "cell_type": "code",
   "execution_count": 23,
   "id": "6e2292b5",
   "metadata": {
    "ExecuteTime": {
     "end_time": "2022-01-11T23:02:21.736132Z",
     "start_time": "2022-01-11T23:02:21.722139Z"
    }
   },
   "outputs": [],
   "source": [
    "df4 = df3.copy()"
   ]
  },
  {
   "cell_type": "code",
   "execution_count": null,
   "id": "a091c1d9",
   "metadata": {
    "ExecuteTime": {
     "end_time": "2022-01-11T10:02:48.832671Z",
     "start_time": "2022-01-11T10:00:46.645035Z"
    },
    "scrolled": true
   },
   "outputs": [],
   "source": [
    "profile = ProfileReport(df4)\n",
    "#profile.to_file('output_v3.html')\n",
    "profile.to_notebook_iframe()"
   ]
  },
  {
   "cell_type": "markdown",
   "id": "20e0c6f4",
   "metadata": {},
   "source": [
    "## H01 Married customers should spend more"
   ]
  },
  {
   "cell_type": "code",
   "execution_count": 24,
   "id": "29c0f174",
   "metadata": {
    "ExecuteTime": {
     "end_time": "2022-01-11T23:02:24.951573Z",
     "start_time": "2022-01-11T23:02:24.513109Z"
    }
   },
   "outputs": [
    {
     "data": {
      "text/plain": [
       "<AxesSubplot:xlabel='marital_status', ylabel='mnttotal'>"
      ]
     },
     "execution_count": 24,
     "metadata": {},
     "output_type": "execute_result"
    },
    {
     "data": {
      "image/png": "[encoded data removed]",
      "text/plain": [
       "<Figure size 1440x720 with 1 Axes>"
      ]
     },
     "metadata": {},
     "output_type": "display_data"
    }
   ],
   "source": [
    "sns.barplot(x='marital_status', y='mnttotal', data=df4, palette='Blues_d')"
   ]
  },
  {
   "cell_type": "markdown",
   "id": "09a72844",
   "metadata": {},
   "source": [
    "## H02 Customers with kids should buy more"
   ]
  },
  {
   "cell_type": "code",
   "execution_count": 26,
   "id": "eff66e9e",
   "metadata": {
    "ExecuteTime": {
     "end_time": "2022-01-11T23:02:37.178176Z",
     "start_time": "2022-01-11T23:02:36.633200Z"
    }
   },
   "outputs": [
    {
     "data": {
      "image/png": "[encoded data removed]",
      "text/plain": [
       "<Figure size 1440x720 with 1 Axes>"
      ]
     },
     "metadata": {},
     "output_type": "display_data"
    }
   ],
   "source": [
    "a = df4[['kidhome', 'numtotalpurchases']].groupby('kidhome').sum().reset_index()\n",
    "sns.barplot(x='kidhome', y='numtotalpurchases', data=a);"
   ]
  },
  {
   "cell_type": "markdown",
   "id": "b9f7e306",
   "metadata": {},
   "source": [
    "## H03 Single customers should buy more webpurchases"
   ]
  },
  {
   "cell_type": "code",
   "execution_count": 28,
   "id": "fda82af9",
   "metadata": {
    "ExecuteTime": {
     "end_time": "2022-01-11T23:04:10.106037Z",
     "start_time": "2022-01-11T23:04:09.833195Z"
    }
   },
   "outputs": [
    {
     "data": {
      "image/png": "[encoded data removed]",
      "text/plain": [
       "<Figure size 1440x720 with 1 Axes>"
      ]
     },
     "metadata": {},
     "output_type": "display_data"
    }
   ],
   "source": [
    "a = df4[['marital_status', 'numwebpurchases']].groupby('marital_status').sum().reset_index()\n",
    "sns.barplot(x='marital_status', y='numwebpurchases', data=a);"
   ]
  },
  {
   "cell_type": "markdown",
   "id": "18be79df",
   "metadata": {},
   "source": [
    "## H04 Customers with PhD should have bigger incomes"
   ]
  },
  {
   "cell_type": "code",
   "execution_count": 46,
   "id": "3fd0233c",
   "metadata": {
    "ExecuteTime": {
     "end_time": "2022-01-11T23:41:22.755189Z",
     "start_time": "2022-01-11T23:41:22.506332Z"
    }
   },
   "outputs": [
    {
     "data": {
      "image/png": "[encoded data removed]",
      "text/plain": [
       "<Figure size 1440x720 with 1 Axes>"
      ]
     },
     "metadata": {},
     "output_type": "display_data"
    }
   ],
   "source": [
    "a = df4[['education', 'income']].groupby('education').mean().reset_index().sort_values(by='income', ascending=False)\n",
    "sns.barplot(x='education', y='income', data=a);"
   ]
  },
  {
   "cell_type": "markdown",
   "id": "6b99a581",
   "metadata": {},
   "source": [
    "## H05 Customers with teenhome should spend more on sweet products"
   ]
  },
  {
   "cell_type": "code",
   "execution_count": 48,
   "id": "704f11db",
   "metadata": {
    "ExecuteTime": {
     "end_time": "2022-01-11T23:43:22.730972Z",
     "start_time": "2022-01-11T23:43:22.482118Z"
    },
    "scrolled": false
   },
   "outputs": [
    {
     "data": {
      "image/png": "[encoded data removed]",
      "text/plain": [
       "<Figure size 1440x720 with 1 Axes>"
      ]
     },
     "metadata": {},
     "output_type": "display_data"
    }
   ],
   "source": [
    "a = df4[['teenhome', 'mntsweetproducts']].groupby('teenhome').sum().reset_index().sort_values(by='mntsweetproducts', ascending=False)\n",
    "sns.barplot(x='teenhome', y='mntsweetproducts', data=a);"
   ]
  },
  {
   "cell_type": "markdown",
   "id": "b4a2f04e",
   "metadata": {},
   "source": [
    "## H06 Older customers should have smaller recency"
   ]
  },
  {
   "cell_type": "code",
   "execution_count": 53,
   "id": "139ef608",
   "metadata": {
    "ExecuteTime": {
     "end_time": "2022-01-11T23:46:25.154293Z",
     "start_time": "2022-01-11T23:46:23.229091Z"
    }
   },
   "outputs": [
    {
     "data": {
      "image/png": "[encoded data removed]",
      "text/plain": [
       "<Figure size 1440x720 with 1 Axes>"
      ]
     },
     "metadata": {},
     "output_type": "display_data"
    }
   ],
   "source": [
    "a = df4[['year_birth', 'recency']].groupby('year_birth').sum().reset_index().sort_values(by='recency', ascending=False)\n",
    "sns.barplot(x='year_birth', y='recency', data=a);\n",
    "plt.xticks(rotation=90);"
   ]
  },
  {
   "cell_type": "markdown",
   "id": "3a6ed065",
   "metadata": {},
   "source": [
    "# 6.0 Data Preparation"
   ]
  },
  {
   "cell_type": "markdown",
   "id": "790a0288",
   "metadata": {
    "heading_collapsed": true
   },
   "source": [
    "# 7.0 Feature Selection"
   ]
  },
  {
   "cell_type": "markdown",
   "id": "ec30f000",
   "metadata": {
    "heading_collapsed": true
   },
   "source": [
    "# 8.0 Hyperparameter Fine-Tuning"
   ]
  },
  {
   "cell_type": "code",
   "execution_count": null,
   "id": "9765f3e0",
   "metadata": {
    "ExecuteTime": {
     "end_time": "2022-01-05T00:10:08.403591Z",
     "start_time": "2022-01-05T00:10:08.388955Z"
    },
    "hidden": true
   },
   "outputs": [],
   "source": [
    "X = df_rfm.copy()"
   ]
  },
  {
   "cell_type": "code",
   "execution_count": null,
   "id": "20ed42b8",
   "metadata": {
    "ExecuteTime": {
     "end_time": "2022-01-05T00:10:09.034983Z",
     "start_time": "2022-01-05T00:10:09.030007Z"
    },
    "hidden": true
   },
   "outputs": [],
   "source": [
    "clusters = [2, 3, 4, 5, 6]"
   ]
  },
  {
   "cell_type": "markdown",
   "id": "bcd13744",
   "metadata": {
    "heading_collapsed": true,
    "hidden": true
   },
   "source": [
    "## 8.1 Within-cluster Sum of Square (WSS) "
   ]
  },
  {
   "cell_type": "markdown",
   "id": "409b840c",
   "metadata": {
    "hidden": true
   },
   "source": [
    "WSS = o quão unidos/juntos os pontos de um mesmo cluster estão."
   ]
  },
  {
   "cell_type": "code",
   "execution_count": null,
   "id": "c90342d2",
   "metadata": {
    "ExecuteTime": {
     "end_time": "2022-01-05T00:10:12.322652Z",
     "start_time": "2022-01-05T00:10:10.964764Z"
    },
    "hidden": true
   },
   "outputs": [],
   "source": [
    "wss = []\n",
    "for k in clusters:\n",
    "    #model definition\n",
    "    kmeans = c.KMeans(init='random', n_clusters=k, n_init=10, max_iter=300, random_state=42)\n",
    "    \n",
    "    #model training\n",
    "    kmeans.fit(X)\n",
    "    \n",
    "    #validation\n",
    "    wss.append(kmeans.inertia_)\n",
    "\n",
    "#plot wss - Elbow Method\n",
    "plt.plot(clusters, wss, linestyle='--', marker='o', color='b')\n",
    "plt.xlabel('K')\n",
    "plt.ylabel('WSS')\n",
    "plt.title('WSS x K')\n",
    "plt.show()"
   ]
  },
  {
   "cell_type": "code",
   "execution_count": null,
   "id": "84ad8e5b",
   "metadata": {
    "ExecuteTime": {
     "end_time": "2022-01-05T00:10:14.978320Z",
     "start_time": "2022-01-05T00:10:12.912638Z"
    },
    "hidden": true
   },
   "outputs": [],
   "source": [
    "kmeans = KElbowVisualizer(c.KMeans(), k=clusters, timing=False)\n",
    "kmeans.fit(X);\n",
    "kmeans.show()"
   ]
  },
  {
   "cell_type": "markdown",
   "id": "7891785e",
   "metadata": {
    "heading_collapsed": true,
    "hidden": true
   },
   "source": [
    "## 8.2 Silhouette Score"
   ]
  },
  {
   "cell_type": "markdown",
   "id": "68c8f844",
   "metadata": {
    "hidden": true
   },
   "source": [
    "SS = o quão distante um cluster está do outro."
   ]
  },
  {
   "cell_type": "code",
   "execution_count": null,
   "id": "78a00979",
   "metadata": {
    "ExecuteTime": {
     "end_time": "2022-01-05T00:10:55.604542Z",
     "start_time": "2022-01-05T00:10:53.010344Z"
    },
    "hidden": true
   },
   "outputs": [],
   "source": [
    "kmeans = KElbowVisualizer(c.KMeans(), k=clusters, metric='silhouette', timing=False)\n",
    "kmeans.fit(X)\n",
    "kmeans.show()"
   ]
  },
  {
   "cell_type": "markdown",
   "id": "b08d9a77",
   "metadata": {
    "heading_collapsed": true
   },
   "source": [
    "# 9.0 Model Training"
   ]
  },
  {
   "cell_type": "code",
   "execution_count": null,
   "id": "4fbd65c3",
   "metadata": {
    "ExecuteTime": {
     "end_time": "2022-01-05T00:25:25.323444Z",
     "start_time": "2022-01-05T00:25:25.178844Z"
    },
    "hidden": true
   },
   "outputs": [],
   "source": [
    "#model definition\n",
    "kmeans = c.KMeans(init='random', n_clusters=3, n_init=10, max_iter=300, random_state=42)\n",
    "    \n",
    "#model training\n",
    "kmeans.fit(X)\n",
    "    \n",
    "#model predict\n",
    "labels = kmeans.predict(X)"
   ]
  },
  {
   "cell_type": "markdown",
   "id": "33aab630",
   "metadata": {
    "heading_collapsed": true,
    "hidden": true
   },
   "source": [
    "## 9.1 Cluster Validation"
   ]
  },
  {
   "cell_type": "code",
   "execution_count": null,
   "id": "9e3e0ccf",
   "metadata": {
    "ExecuteTime": {
     "end_time": "2022-01-05T00:25:26.148532Z",
     "start_time": "2022-01-05T00:25:26.006612Z"
    },
    "hidden": true
   },
   "outputs": [],
   "source": [
    "#WSS (within-cluster sum of square)\n",
    "print('WSS values: {}'.format(kmeans.inertia_))\n",
    "\n",
    "#SS (silhouette score)\n",
    "print('SS value: {}'.format(m.silhouette_score(X, labels, metric='euclidean')))"
   ]
  },
  {
   "cell_type": "markdown",
   "id": "b137f395",
   "metadata": {
    "heading_collapsed": true
   },
   "source": [
    "# 10.0 Cluster Analysis"
   ]
  },
  {
   "cell_type": "code",
   "execution_count": null,
   "id": "664bd61b",
   "metadata": {
    "ExecuteTime": {
     "end_time": "2022-01-05T00:25:26.834015Z",
     "start_time": "2022-01-05T00:25:26.807009Z"
    },
    "hidden": true
   },
   "outputs": [],
   "source": [
    "df10 = X.copy()\n",
    "df10['cluster'] = labels\n",
    "df10.head()"
   ]
  },
  {
   "cell_type": "markdown",
   "id": "6347c4f1",
   "metadata": {
    "heading_collapsed": true,
    "hidden": true
   },
   "source": [
    "## 10.1 Visual Inspection"
   ]
  },
  {
   "cell_type": "code",
   "execution_count": null,
   "id": "767f3f82",
   "metadata": {
    "ExecuteTime": {
     "end_time": "2022-01-05T00:25:28.100731Z",
     "start_time": "2022-01-05T00:25:27.473345Z"
    },
    "hidden": true,
    "scrolled": false
   },
   "outputs": [],
   "source": [
    "visualizer = SilhouetteVisualizer(kmeans, colors='yellowbrick')\n",
    "visualizer.fit(X)\n",
    "visualizer.finalize()"
   ]
  },
  {
   "cell_type": "markdown",
   "id": "d3789dfa",
   "metadata": {
    "heading_collapsed": true,
    "hidden": true
   },
   "source": [
    "## 10.2 2D Plot "
   ]
  },
  {
   "cell_type": "code",
   "execution_count": null,
   "id": "ce8033f8",
   "metadata": {
    "ExecuteTime": {
     "end_time": "2022-01-05T00:25:29.101137Z",
     "start_time": "2022-01-05T00:25:29.089143Z"
    },
    "hidden": true
   },
   "outputs": [],
   "source": [
    "#sns.pairplot(df10, hue='cluster')"
   ]
  },
  {
   "cell_type": "markdown",
   "id": "1643724c",
   "metadata": {
    "heading_collapsed": true,
    "hidden": true
   },
   "source": [
    "## 10.3 UMAP "
   ]
  },
  {
   "cell_type": "code",
   "execution_count": null,
   "id": "3c961a34",
   "metadata": {
    "ExecuteTime": {
     "end_time": "2022-01-05T00:25:41.282301Z",
     "start_time": "2022-01-05T00:25:29.748046Z"
    },
    "hidden": true
   },
   "outputs": [],
   "source": [
    "reducer = umap.UMAP(n_neighbors=30, random_state=42)\n",
    "embedding = reducer.fit_transform(X)\n",
    "df_viz = df10.copy()\n",
    "\n",
    "#embedding\n",
    "df_viz['embedding_x'] = embedding[:, 0]\n",
    "df_viz['embedding_y'] = embedding[:, 1]\n",
    "\n",
    "#plot UMAP\n",
    "sns.scatterplot(x='embedding_x', y='embedding_y',\n",
    "               hue='cluster',\n",
    "               palette=sns.color_palette('hls', n_colors=len(df_viz['cluster'].unique())),\n",
    "               data=df_viz)"
   ]
  },
  {
   "cell_type": "markdown",
   "id": "5186b90e",
   "metadata": {
    "heading_collapsed": true
   },
   "source": [
    "# 11.0 Cluster Exploratory Data Analysis"
   ]
  },
  {
   "cell_type": "code",
   "execution_count": null,
   "id": "f213b082",
   "metadata": {
    "ExecuteTime": {
     "end_time": "2022-01-05T00:25:41.831513Z",
     "start_time": "2022-01-05T00:25:41.816798Z"
    },
    "hidden": true
   },
   "outputs": [],
   "source": [
    "df11 = df10.copy()\n",
    "df11['id'] = df4['id']\n",
    "df11['income'] = df4['income']\n",
    "df11['numtotalpurchases'] = df4['numtotalpurchases']"
   ]
  },
  {
   "cell_type": "code",
   "execution_count": null,
   "id": "6306bd48",
   "metadata": {
    "ExecuteTime": {
     "end_time": "2022-01-05T00:25:42.381649Z",
     "start_time": "2022-01-05T00:25:42.350757Z"
    },
    "hidden": true
   },
   "outputs": [],
   "source": [
    "df11.head()"
   ]
  },
  {
   "cell_type": "code",
   "execution_count": null,
   "id": "109e6a91",
   "metadata": {
    "ExecuteTime": {
     "end_time": "2022-01-05T00:25:42.992762Z",
     "start_time": "2022-01-05T00:25:42.933741Z"
    },
    "hidden": true
   },
   "outputs": [],
   "source": [
    "#number of customers\n",
    "df_cluster = df11[['id', 'cluster']].groupby('cluster').count().reset_index()\n",
    "df_cluster['perc_customers'] = 100*(df_cluster['id']/df_cluster['id'].sum())\n",
    "\n",
    "#avg_income\n",
    "df_avg_income = df11[['income', 'cluster']].groupby('cluster').mean().reset_index()\n",
    "df_cluster = pd.merge(df_cluster, df_avg_income, how='inner', on='cluster')\n",
    "\n",
    "#avg_recency\n",
    "df_avg_recency = df11[['recency', 'cluster']].groupby('cluster').mean().reset_index()\n",
    "df_cluster = pd.merge(df_cluster, df_avg_recency, how='inner', on='cluster')\n",
    "\n",
    "#avg_total_spend\n",
    "df_avg_spend = df11[['mnttotal', 'cluster']].groupby('cluster').mean().reset_index()\n",
    "df_cluster = pd.merge(df_cluster, df_avg_spend, how='inner', on='cluster')\n",
    "\n",
    "#avg_total_purchases\n",
    "df_avg_purchases = df11[['numtotalpurchases', 'cluster']].groupby('cluster').mean().reset_index()\n",
    "df_cluster = pd.merge(df_cluster, df_avg_purchases, how='inner', on='cluster')\n",
    "\n",
    "#avg_frequency\n",
    "df_avg_frequency = df11[['frequency', 'cluster']].groupby('cluster').mean().reset_index()\n",
    "df_cluster = pd.merge(df_cluster, df_avg_frequency, how='inner', on='cluster')"
   ]
  },
  {
   "cell_type": "code",
   "execution_count": null,
   "id": "6f420905",
   "metadata": {
    "ExecuteTime": {
     "end_time": "2022-01-05T00:25:43.559609Z",
     "start_time": "2022-01-05T00:25:43.544197Z"
    },
    "hidden": true
   },
   "outputs": [],
   "source": [
    "#number of customers\n",
    "#df_cluster = df11[['id', 'cluster']].groupby('cluster').count().reset_index()\n",
    "#df_cluster['perc_customers'] = 100*(df_cluster['id']/df_cluster['id'].sum())\n",
    "\n",
    "#avg_income\n",
    "#df_avg_income = df11[['income', 'cluster']].groupby('cluster').mean().reset_index()\n",
    "#df_cluster = pd.merge(df_cluster, df_avg_income, how='inner', on='cluster')\n",
    "\n",
    "#avg_recency\n",
    "#df_avg_recency = df11[['recency', 'cluster']].groupby('cluster').mean().reset_index()\n",
    "#df_cluster = pd.merge(df_cluster, df_avg_recency, how='inner', on='cluster')\n",
    "\n",
    "#avg_total_spend\n",
    "#df_avg_spend = df11[['mnttotal', 'cluster']].groupby('cluster').mean().reset_index()\n",
    "#df_cluster = pd.merge(df_cluster, df_avg_spend, how='inner', on='cluster')\n",
    "\n",
    "#avg_total_purchases\n",
    "#df_avg_purchases = df11[['numtotalpurchases', 'cluster']].groupby('cluster').mean().reset_index()\n",
    "#df_cluster = pd.merge(df_cluster, df_avg_purchases, how='inner', on='cluster')\n",
    "\n",
    "#avg_kids\n",
    "#df_avg_kids = df11[['kidhome', 'cluster']].groupby('cluster').mean().reset_index()\n",
    "#df_cluster = pd.merge(df_cluster, df_avg_kids, how='inner', on='cluster')\n",
    "\n",
    "#avg_teen\n",
    "#df_avg_teen = df11[['teenhome', 'cluster']].groupby('cluster').mean().reset_index()\n",
    "#df_cluster = pd.merge(df_cluster, df_avg_teen, how='inner', on='cluster')"
   ]
  },
  {
   "cell_type": "code",
   "execution_count": null,
   "id": "ffe7f246",
   "metadata": {
    "ExecuteTime": {
     "end_time": "2022-01-05T00:25:44.182300Z",
     "start_time": "2022-01-05T00:25:44.142592Z"
    },
    "hidden": true
   },
   "outputs": [],
   "source": [
    "df_cluster.head()"
   ]
  },
  {
   "cell_type": "markdown",
   "id": "a491588e",
   "metadata": {
    "heading_collapsed": true
   },
   "source": [
    "# 12.0 Deploy"
   ]
  },
  {
   "cell_type": "code",
   "execution_count": null,
   "id": "b13981c4",
   "metadata": {
    "hidden": true
   },
   "outputs": [],
   "source": []
  },
  {
   "cell_type": "code",
   "execution_count": null,
   "id": "b7c9186a",
   "metadata": {
    "hidden": true
   },
   "outputs": [],
   "source": []
  }
 ],
 "metadata": {
  "kernelspec": {
   "display_name": "Python 3",
   "language": "python",
   "name": "python3"
  },
  "language_info": {
   "codemirror_mode": {
    "name": "ipython",
    "version": 3
   },
   "file_extension": ".py",
   "mimetype": "text/x-python",
   "name": "python",
   "nbconvert_exporter": "python",
   "pygments_lexer": "ipython3",
   "version": "3.8.8"
  },
  "varInspector": {
   "cols": {
    "lenName": 16,
    "lenType": 16,
    "lenVar": 40
   },
   "kernels_config": {
    "python": {
     "delete_cmd_postfix": "",
     "delete_cmd_prefix": "del ",
     "library": "var_list.py",
     "varRefreshCmd": "print(var_dic_list())"
    },
    "r": {
     "delete_cmd_postfix": ") ",
     "delete_cmd_prefix": "rm(",
     "library": "var_list.r",
     "varRefreshCmd": "cat(var_dic_list()) "
    }
   },
   "types_to_exclude": [
    "module",
    "function",
    "builtin_function_or_method",
    "instance",
    "_Feature"
   ],
   "window_display": false
  }
 },
 "nbformat": 4,
 "nbformat_minor": 5
}
