{
 "cells": [
  {
   "cell_type": "markdown",
   "id": "38aa8ed3",
   "metadata": {
    "heading_collapsed": true
   },
   "source": [
    "# 0.0 IoT Planning"
   ]
  },
  {
   "cell_type": "markdown",
   "id": "0f6f0410",
   "metadata": {
    "heading_collapsed": true,
    "hidden": true
   },
   "source": [
    "## Input"
   ]
  },
  {
   "cell_type": "markdown",
   "id": "a56cdb18",
   "metadata": {
    "hidden": true
   },
   "source": [
    "**1.** Problem Statement\n",
    "\n",
    "Customer Personality Analysis is a detailed analysis of a company’s ideal customers. It helps a business to better understand its customers and makes it easier for them to modify products according to the specific needs, behaviors and concerns of different types of customers.\n",
    "\n",
    "Customer personality analysis helps a business to modify its product based on its target customers from different types of customer segments. For example, instead of spending money to market a new product to every customer in the company’s database, a company can analyze which customer segment is most likely to buy the product and then market the product only on that particular segment.\n",
    "\n",
    "**2.** Dataset\n",
    "\n",
    "Information about customer's of a particularly store. "
   ]
  },
  {
   "cell_type": "markdown",
   "id": "a7ddcd8f",
   "metadata": {
    "heading_collapsed": true,
    "hidden": true
   },
   "source": [
    "## Output"
   ]
  },
  {
   "cell_type": "markdown",
   "id": "28ff9af7",
   "metadata": {
    "hidden": true
   },
   "source": [
    "**1.** List of customers is specific cluster and cluster specifications.\n",
    "\n",
    "**2.** Report with business questions anwsers:\n",
    "- Who are the people eligible to participate in the Insiders program?\n",
    "- How many customers will be part of each group?\n",
    "- What are the main characteristics of customers in each group?\n",
    "- What percentage of revenue contribution comes from Insiders?\n",
    "- What are the group's revenue expectation for the coming months?\n",
    "- What are the conditions for a person to be eligible for Insiders?\n",
    "- What are the conditions for a person to be removed from Insiders?\n",
    "- What is the guarantee that the Insiders program is better than the rest of the base?\n",
    "- What actions can marketing time take to increase revenue?"
   ]
  },
  {
   "cell_type": "markdown",
   "id": "23e49369",
   "metadata": {
    "heading_collapsed": true,
    "hidden": true
   },
   "source": [
    "## Tasks"
   ]
  },
  {
   "cell_type": "markdown",
   "id": "c2373e5f",
   "metadata": {
    "hidden": true
   },
   "source": [
    "- O que será considerado para definir os 'clientes mais valiosos'? \n",
    "    - Faturamento\n",
    "    - Alto ticket médio\n",
    "    - Alto LTV\n",
    "    - Baixa recência\n",
    "    - Alto basket size\n",
    "    - Baixa probabilidade de churn\n",
    "    - Visualização de campanhas\n",
    "    - Engajamento em campanhas\n",
    "    \n",
    "    \n",
    "- Caracteristicas em comum dos clientes em um cluster\n",
    "    - idade\n",
    "    - localização\n",
    "    - income\n",
    "    - familia\n",
    "    - compras\n",
    "    - engajamento de campanhas\n",
    "    \n",
    "    \n",
    "- Média de valor gasto e número de compras por cluster"
   ]
  },
  {
   "cell_type": "markdown",
   "id": "9984eb2a",
   "metadata": {},
   "source": [
    "# 1.0 Imports"
   ]
  },
  {
   "cell_type": "code",
   "execution_count": 1,
   "id": "692cf02e",
   "metadata": {
    "ExecuteTime": {
     "end_time": "2021-12-07T01:07:25.309313Z",
     "start_time": "2021-12-07T01:07:20.132085Z"
    }
   },
   "outputs": [],
   "source": [
    "import pandas as pd\n",
    "from pycaret.regression import *"
   ]
  },
  {
   "cell_type": "markdown",
   "id": "0e0b1436",
   "metadata": {},
   "source": [
    "## 1.1 Load Data "
   ]
  },
  {
   "cell_type": "code",
   "execution_count": 2,
   "id": "30a775bd",
   "metadata": {
    "ExecuteTime": {
     "end_time": "2021-12-07T01:07:25.356826Z",
     "start_time": "2021-12-07T01:07:25.309313Z"
    }
   },
   "outputs": [],
   "source": [
    "df_raw = pd.read_csv('data/marketing_campaign.csv', header=0, sep='\\t') "
   ]
  },
  {
   "cell_type": "markdown",
   "id": "795a696a",
   "metadata": {},
   "source": [
    "# 2.0 Data Description"
   ]
  },
  {
   "cell_type": "code",
   "execution_count": 3,
   "id": "81241753",
   "metadata": {
    "ExecuteTime": {
     "end_time": "2021-12-07T01:07:25.372821Z",
     "start_time": "2021-12-07T01:07:25.362824Z"
    }
   },
   "outputs": [],
   "source": [
    "df1 = df_raw.copy()"
   ]
  },
  {
   "cell_type": "markdown",
   "id": "d1566c26",
   "metadata": {},
   "source": [
    "## 2.1 Data Dimensions"
   ]
  },
  {
   "cell_type": "code",
   "execution_count": 4,
   "id": "6753e5ca",
   "metadata": {
    "ExecuteTime": {
     "end_time": "2021-12-07T01:07:25.388817Z",
     "start_time": "2021-12-07T01:07:25.376816Z"
    }
   },
   "outputs": [
    {
     "name": "stdout",
     "output_type": "stream",
     "text": [
      "Number of rows: 2240\n",
      "Number of columns: 29\n"
     ]
    }
   ],
   "source": [
    "print('Number of rows: {}'.format(df1.shape[0]))\n",
    "print('Number of columns: {}'.format(df1.shape[1]))"
   ]
  },
  {
   "cell_type": "markdown",
   "id": "f334b7a6",
   "metadata": {},
   "source": [
    "## 2.2 Rename Columns"
   ]
  },
  {
   "cell_type": "code",
   "execution_count": 5,
   "id": "cd940215",
   "metadata": {
    "ExecuteTime": {
     "end_time": "2021-12-07T01:07:25.422790Z",
     "start_time": "2021-12-07T01:07:25.393807Z"
    }
   },
   "outputs": [],
   "source": [
    "df1.columns = df1.columns.str.lower()"
   ]
  },
  {
   "cell_type": "markdown",
   "id": "a5a9b6bf",
   "metadata": {},
   "source": [
    "## 2.3 Data Types"
   ]
  },
  {
   "cell_type": "code",
   "execution_count": 6,
   "id": "8e04b69d",
   "metadata": {
    "ExecuteTime": {
     "end_time": "2021-12-07T01:07:25.544747Z",
     "start_time": "2021-12-07T01:07:25.426789Z"
    }
   },
   "outputs": [
    {
     "data": {
      "text/plain": [
       "id                       int64\n",
       "year_birth               int64\n",
       "education               object\n",
       "marital_status          object\n",
       "income                 float64\n",
       "kidhome                  int64\n",
       "teenhome                 int64\n",
       "dt_customer             object\n",
       "recency                  int64\n",
       "mntwines                 int64\n",
       "mntfruits                int64\n",
       "mntmeatproducts          int64\n",
       "mntfishproducts          int64\n",
       "mntsweetproducts         int64\n",
       "mntgoldprods             int64\n",
       "numdealspurchases        int64\n",
       "numwebpurchases          int64\n",
       "numcatalogpurchases      int64\n",
       "numstorepurchases        int64\n",
       "numwebvisitsmonth        int64\n",
       "acceptedcmp3             int64\n",
       "acceptedcmp4             int64\n",
       "acceptedcmp5             int64\n",
       "acceptedcmp1             int64\n",
       "acceptedcmp2             int64\n",
       "complain                 int64\n",
       "z_costcontact            int64\n",
       "z_revenue                int64\n",
       "response                 int64\n",
       "dtype: object"
      ]
     },
     "execution_count": 6,
     "metadata": {},
     "output_type": "execute_result"
    }
   ],
   "source": [
    "df1.dtypes"
   ]
  },
  {
   "cell_type": "markdown",
   "id": "253a21b1",
   "metadata": {},
   "source": [
    "## 2.4 Check N/A"
   ]
  },
  {
   "cell_type": "code",
   "execution_count": 7,
   "id": "aecff997",
   "metadata": {
    "ExecuteTime": {
     "end_time": "2021-12-07T01:07:25.656663Z",
     "start_time": "2021-12-07T01:07:25.547729Z"
    },
    "scrolled": true
   },
   "outputs": [
    {
     "data": {
      "text/plain": [
       "id                      0\n",
       "year_birth              0\n",
       "education               0\n",
       "marital_status          0\n",
       "income                 24\n",
       "kidhome                 0\n",
       "teenhome                0\n",
       "dt_customer             0\n",
       "recency                 0\n",
       "mntwines                0\n",
       "mntfruits               0\n",
       "mntmeatproducts         0\n",
       "mntfishproducts         0\n",
       "mntsweetproducts        0\n",
       "mntgoldprods            0\n",
       "numdealspurchases       0\n",
       "numwebpurchases         0\n",
       "numcatalogpurchases     0\n",
       "numstorepurchases       0\n",
       "numwebvisitsmonth       0\n",
       "acceptedcmp3            0\n",
       "acceptedcmp4            0\n",
       "acceptedcmp5            0\n",
       "acceptedcmp1            0\n",
       "acceptedcmp2            0\n",
       "complain                0\n",
       "z_costcontact           0\n",
       "z_revenue               0\n",
       "response                0\n",
       "dtype: int64"
      ]
     },
     "execution_count": 7,
     "metadata": {},
     "output_type": "execute_result"
    }
   ],
   "source": [
    "df1.isna().sum()"
   ]
  },
  {
   "cell_type": "markdown",
   "id": "acdf576e",
   "metadata": {},
   "source": [
    "## 2.5 Replace N/A"
   ]
  },
  {
   "cell_type": "code",
   "execution_count": 8,
   "id": "6c3d018d",
   "metadata": {
    "ExecuteTime": {
     "end_time": "2021-12-07T01:07:25.688644Z",
     "start_time": "2021-12-07T01:07:25.661662Z"
    }
   },
   "outputs": [
    {
     "name": "stdout",
     "output_type": "stream",
     "text": [
      "Removed data: 0.01\n"
     ]
    }
   ],
   "source": [
    "df1 = df1.dropna(subset=['income'])\n",
    "print('Removed data: {:.2f}'.format(1-(df1.shape[0]/df_raw.shape[0])))"
   ]
  },
  {
   "cell_type": "markdown",
   "id": "22f570e9",
   "metadata": {},
   "source": [
    "## 2.6 Change data types"
   ]
  },
  {
   "cell_type": "code",
   "execution_count": 9,
   "id": "0b443f71",
   "metadata": {
    "ExecuteTime": {
     "end_time": "2021-12-07T01:07:25.719630Z",
     "start_time": "2021-12-07T01:07:25.697641Z"
    }
   },
   "outputs": [],
   "source": [
    "#dt_customer\n",
    "df1['dt_customer'] = pd.to_datetime(df1['dt_customer'], format='%d-%m-%Y')"
   ]
  },
  {
   "cell_type": "markdown",
   "id": "5277733c",
   "metadata": {},
   "source": [
    "## 2.7 Descriptive Statistics"
   ]
  },
  {
   "cell_type": "code",
   "execution_count": null,
   "id": "f66b622a",
   "metadata": {},
   "outputs": [],
   "source": []
  },
  {
   "cell_type": "markdown",
   "id": "b08d9a77",
   "metadata": {},
   "source": [
    "# 3.0 Model Training"
   ]
  },
  {
   "cell_type": "code",
   "execution_count": 15,
   "id": "66fe1bdd",
   "metadata": {
    "ExecuteTime": {
     "end_time": "2021-12-07T01:10:13.915943Z",
     "start_time": "2021-12-07T01:10:13.905953Z"
    }
   },
   "outputs": [],
   "source": [
    "df3 = df1.copy()"
   ]
  },
  {
   "cell_type": "code",
   "execution_count": 18,
   "id": "ac6a4f99",
   "metadata": {
    "ExecuteTime": {
     "end_time": "2021-12-07T01:11:44.720453Z",
     "start_time": "2021-12-07T01:11:44.697463Z"
    }
   },
   "outputs": [
    {
     "ename": "TypeError",
     "evalue": "setup() missing 1 required positional argument: 'target'",
     "output_type": "error",
     "traceback": [
      "\u001b[1;31m---------------------------------------------------------------------------\u001b[0m",
      "\u001b[1;31mTypeError\u001b[0m                                 Traceback (most recent call last)",
      "\u001b[1;32m~\\AppData\\Local\\Temp/ipykernel_9292/1841116962.py\u001b[0m in \u001b[0;36m<module>\u001b[1;34m\u001b[0m\n\u001b[1;32m----> 1\u001b[1;33m \u001b[0mclustering\u001b[0m \u001b[1;33m=\u001b[0m \u001b[0msetup\u001b[0m\u001b[1;33m(\u001b[0m\u001b[0mdata\u001b[0m\u001b[1;33m=\u001b[0m\u001b[0mdf3\u001b[0m\u001b[1;33m)\u001b[0m\u001b[1;33m\u001b[0m\u001b[1;33m\u001b[0m\u001b[0m\n\u001b[0m",
      "\u001b[1;31mTypeError\u001b[0m: setup() missing 1 required positional argument: 'target'"
     ]
    }
   ],
   "source": []
  },
  {
   "cell_type": "code",
   "execution_count": null,
   "id": "b13981c4",
   "metadata": {},
   "outputs": [],
   "source": []
  }
 ],
 "metadata": {
  "kernelspec": {
   "display_name": "Python 3 (ipykernel)",
   "language": "python",
   "name": "python3"
  },
  "language_info": {
   "codemirror_mode": {
    "name": "ipython",
    "version": 3
   },
   "file_extension": ".py",
   "mimetype": "text/x-python",
   "name": "python",
   "nbconvert_exporter": "python",
   "pygments_lexer": "ipython3",
   "version": "3.8.12"
  },
  "varInspector": {
   "cols": {
    "lenName": 16,
    "lenType": 16,
    "lenVar": 40
   },
   "kernels_config": {
    "python": {
     "delete_cmd_postfix": "",
     "delete_cmd_prefix": "del ",
     "library": "var_list.py",
     "varRefreshCmd": "print(var_dic_list())"
    },
    "r": {
     "delete_cmd_postfix": ") ",
     "delete_cmd_prefix": "rm(",
     "library": "var_list.r",
     "varRefreshCmd": "cat(var_dic_list()) "
    }
   },
   "types_to_exclude": [
    "module",
    "function",
    "builtin_function_or_method",
    "instance",
    "_Feature"
   ],
   "window_display": false
  }
 },
 "nbformat": 4,
 "nbformat_minor": 5
}
