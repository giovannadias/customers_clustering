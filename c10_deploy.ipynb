{
 "cells": [
  {
   "cell_type": "markdown",
   "id": "9984eb2a",
   "metadata": {},
   "source": [
    "# 1.0 Imports"
   ]
  },
  {
   "cell_type": "code",
   "execution_count": 1,
   "id": "692cf02e",
   "metadata": {
    "ExecuteTime": {
     "end_time": "2022-01-28T00:26:28.796833Z",
     "start_time": "2022-01-28T00:26:13.152686Z"
    }
   },
   "outputs": [],
   "source": [
    "import pandas     as pd\n",
    "import numpy      as np\n",
    "import seaborn    as sns\n",
    "import umap.umap_ as umap\n",
    "\n",
    "from matplotlib                import pyplot as plt\n",
    "from IPython.display           import Image\n",
    "from datetime                  import timedelta\n",
    "from pycaret.regression        import *\n",
    "from sklearn                   import cluster as c\n",
    "from sklearn                   import metrics as m\n",
    "from sklearn                   import ensemble as en\n",
    "from sklearn                   import mixture as mx\n",
    "from sklearn                   import decomposition as dd\n",
    "from sklearn.manifold          import TSNE\n",
    "from pandas_profiling          import ProfileReport\n",
    "from sklearn.preprocessing     import MinMaxScaler, LabelEncoder, RobustScaler, StandardScaler"
   ]
  },
  {
   "cell_type": "markdown",
   "id": "0e0b1436",
   "metadata": {},
   "source": [
    "## 0.1 Load Data "
   ]
  },
  {
   "cell_type": "code",
   "execution_count": 2,
   "id": "30a775bd",
   "metadata": {
    "ExecuteTime": {
     "end_time": "2022-01-28T00:26:28.843420Z",
     "start_time": "2022-01-28T00:26:28.800834Z"
    }
   },
   "outputs": [],
   "source": [
    "df_raw = pd.read_csv('data/marketing_campaign.csv', header=0, sep='\\t') "
   ]
  },
  {
   "cell_type": "markdown",
   "id": "795a696a",
   "metadata": {},
   "source": [
    "# 1.0 Data Description"
   ]
  },
  {
   "cell_type": "code",
   "execution_count": 3,
   "id": "81241753",
   "metadata": {
    "ExecuteTime": {
     "end_time": "2022-01-28T00:26:28.858929Z",
     "start_time": "2022-01-28T00:26:28.846423Z"
    }
   },
   "outputs": [],
   "source": [
    "df1 = df_raw.copy()"
   ]
  },
  {
   "cell_type": "markdown",
   "id": "d1566c26",
   "metadata": {},
   "source": [
    "## 1.1 Data Dimensions"
   ]
  },
  {
   "cell_type": "code",
   "execution_count": 4,
   "id": "6753e5ca",
   "metadata": {
    "ExecuteTime": {
     "end_time": "2022-01-28T00:26:28.874921Z",
     "start_time": "2022-01-28T00:26:28.861927Z"
    }
   },
   "outputs": [
    {
     "name": "stdout",
     "output_type": "stream",
     "text": [
      "Number of rows: 2240\n",
      "Number of columns: 29\n"
     ]
    }
   ],
   "source": [
    "print('Number of rows: {}'.format(df1.shape[0]))\n",
    "print('Number of columns: {}'.format(df1.shape[1]))"
   ]
  },
  {
   "cell_type": "markdown",
   "id": "f334b7a6",
   "metadata": {},
   "source": [
    "## 1.2 Rename Columns"
   ]
  },
  {
   "cell_type": "code",
   "execution_count": 5,
   "id": "cd940215",
   "metadata": {
    "ExecuteTime": {
     "end_time": "2022-01-28T00:26:28.890908Z",
     "start_time": "2022-01-28T00:26:28.878918Z"
    }
   },
   "outputs": [],
   "source": [
    "df1.columns = df1.columns.str.lower()"
   ]
  },
  {
   "cell_type": "markdown",
   "id": "a5a9b6bf",
   "metadata": {},
   "source": [
    "## 1.3 Data Types"
   ]
  },
  {
   "cell_type": "code",
   "execution_count": 6,
   "id": "8e04b69d",
   "metadata": {
    "ExecuteTime": {
     "end_time": "2022-01-28T00:26:28.922895Z",
     "start_time": "2022-01-28T00:26:28.893908Z"
    },
    "scrolled": true
   },
   "outputs": [
    {
     "data": {
      "text/plain": [
       "id                       int64\n",
       "year_birth               int64\n",
       "education               object\n",
       "marital_status          object\n",
       "income                 float64\n",
       "kidhome                  int64\n",
       "teenhome                 int64\n",
       "dt_customer             object\n",
       "recency                  int64\n",
       "mntwines                 int64\n",
       "mntfruits                int64\n",
       "mntmeatproducts          int64\n",
       "mntfishproducts          int64\n",
       "mntsweetproducts         int64\n",
       "mntgoldprods             int64\n",
       "numdealspurchases        int64\n",
       "numwebpurchases          int64\n",
       "numcatalogpurchases      int64\n",
       "numstorepurchases        int64\n",
       "numwebvisitsmonth        int64\n",
       "acceptedcmp3             int64\n",
       "acceptedcmp4             int64\n",
       "acceptedcmp5             int64\n",
       "acceptedcmp1             int64\n",
       "acceptedcmp2             int64\n",
       "complain                 int64\n",
       "z_costcontact            int64\n",
       "z_revenue                int64\n",
       "response                 int64\n",
       "dtype: object"
      ]
     },
     "execution_count": 6,
     "metadata": {},
     "output_type": "execute_result"
    }
   ],
   "source": [
    "df1.dtypes"
   ]
  },
  {
   "cell_type": "markdown",
   "id": "253a21b1",
   "metadata": {},
   "source": [
    "## 1.4 Check N/A"
   ]
  },
  {
   "cell_type": "code",
   "execution_count": 7,
   "id": "aecff997",
   "metadata": {
    "ExecuteTime": {
     "end_time": "2022-01-28T00:26:28.953872Z",
     "start_time": "2022-01-28T00:26:28.929890Z"
    },
    "scrolled": true
   },
   "outputs": [
    {
     "data": {
      "text/plain": [
       "id                      0\n",
       "year_birth              0\n",
       "education               0\n",
       "marital_status          0\n",
       "income                 24\n",
       "kidhome                 0\n",
       "teenhome                0\n",
       "dt_customer             0\n",
       "recency                 0\n",
       "mntwines                0\n",
       "mntfruits               0\n",
       "mntmeatproducts         0\n",
       "mntfishproducts         0\n",
       "mntsweetproducts        0\n",
       "mntgoldprods            0\n",
       "numdealspurchases       0\n",
       "numwebpurchases         0\n",
       "numcatalogpurchases     0\n",
       "numstorepurchases       0\n",
       "numwebvisitsmonth       0\n",
       "acceptedcmp3            0\n",
       "acceptedcmp4            0\n",
       "acceptedcmp5            0\n",
       "acceptedcmp1            0\n",
       "acceptedcmp2            0\n",
       "complain                0\n",
       "z_costcontact           0\n",
       "z_revenue               0\n",
       "response                0\n",
       "dtype: int64"
      ]
     },
     "execution_count": 7,
     "metadata": {},
     "output_type": "execute_result"
    }
   ],
   "source": [
    "df1.isna().sum()"
   ]
  },
  {
   "cell_type": "markdown",
   "id": "acdf576e",
   "metadata": {},
   "source": [
    "## 1.5 Drop N/A"
   ]
  },
  {
   "cell_type": "code",
   "execution_count": 8,
   "id": "6c3d018d",
   "metadata": {
    "ExecuteTime": {
     "end_time": "2022-01-28T00:26:28.984856Z",
     "start_time": "2022-01-28T00:26:28.958871Z"
    }
   },
   "outputs": [
    {
     "name": "stdout",
     "output_type": "stream",
     "text": [
      "Removed data: 0.01\n"
     ]
    }
   ],
   "source": [
    "df1 = df1.dropna(subset=['income'])\n",
    "print('Removed data: {:.2f}'.format(1-(df1.shape[0]/df_raw.shape[0])))"
   ]
  },
  {
   "cell_type": "markdown",
   "id": "22f570e9",
   "metadata": {},
   "source": [
    "## 1.6 Change data types"
   ]
  },
  {
   "cell_type": "code",
   "execution_count": 9,
   "id": "0b443f71",
   "metadata": {
    "ExecuteTime": {
     "end_time": "2022-01-28T00:26:29.032832Z",
     "start_time": "2022-01-28T00:26:28.989854Z"
    }
   },
   "outputs": [],
   "source": [
    "#dt_customer\n",
    "df1['dt_customer'] = pd.to_datetime(df1['dt_customer'], format='%d-%m-%Y')"
   ]
  },
  {
   "cell_type": "markdown",
   "id": "5277733c",
   "metadata": {},
   "source": [
    "## 1.7 Descriptive Statistics"
   ]
  },
  {
   "cell_type": "code",
   "execution_count": 10,
   "id": "f66b622a",
   "metadata": {
    "ExecuteTime": {
     "end_time": "2022-01-28T00:26:29.080801Z",
     "start_time": "2022-01-28T00:26:29.040823Z"
    }
   },
   "outputs": [],
   "source": [
    "num_attributes = df1.select_dtypes(include=['int64', 'float64'])\n",
    "cat_attributes = df1.select_dtypes(exclude=['int64', 'float64', 'datetime64[ns]'])"
   ]
  },
  {
   "cell_type": "markdown",
   "id": "9c251ade",
   "metadata": {},
   "source": [
    "### 1.7.1 Numerical Attributes"
   ]
  },
  {
   "cell_type": "code",
   "execution_count": 11,
   "id": "39d5e897",
   "metadata": {
    "ExecuteTime": {
     "end_time": "2022-01-28T00:26:29.188794Z",
     "start_time": "2022-01-28T00:26:29.088799Z"
    }
   },
   "outputs": [],
   "source": [
    "#central tendency - mean, median\n",
    "ct1 = pd.DataFrame(num_attributes.apply(np.mean)).T\n",
    "ct2 = pd.DataFrame(num_attributes.apply(np.median)).T\n",
    "\n",
    "#dispersion - std, min, max, range, skew, kurtosis\n",
    "d1 = pd.DataFrame(num_attributes.apply(np.std)).T\n",
    "d2 = pd.DataFrame(num_attributes.apply(min)).T\n",
    "d3 = pd.DataFrame(num_attributes.apply(max)).T\n",
    "d4 = pd.DataFrame(num_attributes.apply(lambda x: x.max() - x.min())).T\n",
    "d5 = pd.DataFrame(num_attributes.apply(lambda x: x.skew())).T\n",
    "d6 = pd.DataFrame(num_attributes.apply(lambda x: x.kurtosis())).T\n",
    "\n",
    "#concat\n",
    "n = pd.concat([d2, d3, d4, ct1, ct2, d1, d5, d6]).T.reset_index()\n",
    "n.columns = ['attributes', 'min', 'max', 'range', 'mean', 'median', 'std', 'skew', 'kurtosis']"
   ]
  },
  {
   "cell_type": "code",
   "execution_count": 12,
   "id": "5907ef30",
   "metadata": {
    "ExecuteTime": {
     "end_time": "2022-01-28T00:26:29.236770Z",
     "start_time": "2022-01-28T00:26:29.190797Z"
    },
    "scrolled": true
   },
   "outputs": [
    {
     "data": {
      "text/html": [
       "<div>\n",
       "<style scoped>\n",
       "    .dataframe tbody tr th:only-of-type {\n",
       "        vertical-align: middle;\n",
       "    }\n",
       "\n",
       "    .dataframe tbody tr th {\n",
       "        vertical-align: top;\n",
       "    }\n",
       "\n",
       "    .dataframe thead th {\n",
       "        text-align: right;\n",
       "    }\n",
       "</style>\n",
       "<table border=\"1\" class=\"dataframe\">\n",
       "  <thead>\n",
       "    <tr style=\"text-align: right;\">\n",
       "      <th></th>\n",
       "      <th>attributes</th>\n",
       "      <th>min</th>\n",
       "      <th>max</th>\n",
       "      <th>range</th>\n",
       "      <th>mean</th>\n",
       "      <th>median</th>\n",
       "      <th>std</th>\n",
       "      <th>skew</th>\n",
       "      <th>kurtosis</th>\n",
       "    </tr>\n",
       "  </thead>\n",
       "  <tbody>\n",
       "    <tr>\n",
       "      <th>0</th>\n",
       "      <td>id</td>\n",
       "      <td>0.0</td>\n",
       "      <td>11191.0</td>\n",
       "      <td>11191.0</td>\n",
       "      <td>5588.353339</td>\n",
       "      <td>5458.5</td>\n",
       "      <td>3248.643030</td>\n",
       "      <td>0.040459</td>\n",
       "      <td>-1.189677</td>\n",
       "    </tr>\n",
       "    <tr>\n",
       "      <th>1</th>\n",
       "      <td>year_birth</td>\n",
       "      <td>1893.0</td>\n",
       "      <td>1996.0</td>\n",
       "      <td>103.0</td>\n",
       "      <td>1968.820397</td>\n",
       "      <td>1970.0</td>\n",
       "      <td>11.982849</td>\n",
       "      <td>-0.353661</td>\n",
       "      <td>0.734670</td>\n",
       "    </tr>\n",
       "    <tr>\n",
       "      <th>2</th>\n",
       "      <td>income</td>\n",
       "      <td>1730.0</td>\n",
       "      <td>666666.0</td>\n",
       "      <td>664936.0</td>\n",
       "      <td>52247.251354</td>\n",
       "      <td>51381.5</td>\n",
       "      <td>25167.396174</td>\n",
       "      <td>6.763487</td>\n",
       "      <td>159.636700</td>\n",
       "    </tr>\n",
       "    <tr>\n",
       "      <th>3</th>\n",
       "      <td>kidhome</td>\n",
       "      <td>0.0</td>\n",
       "      <td>2.0</td>\n",
       "      <td>2.0</td>\n",
       "      <td>0.441787</td>\n",
       "      <td>0.0</td>\n",
       "      <td>0.536775</td>\n",
       "      <td>0.635610</td>\n",
       "      <td>-0.791164</td>\n",
       "    </tr>\n",
       "    <tr>\n",
       "      <th>4</th>\n",
       "      <td>teenhome</td>\n",
       "      <td>0.0</td>\n",
       "      <td>2.0</td>\n",
       "      <td>2.0</td>\n",
       "      <td>0.505415</td>\n",
       "      <td>0.0</td>\n",
       "      <td>0.544058</td>\n",
       "      <td>0.407553</td>\n",
       "      <td>-0.989619</td>\n",
       "    </tr>\n",
       "    <tr>\n",
       "      <th>5</th>\n",
       "      <td>recency</td>\n",
       "      <td>0.0</td>\n",
       "      <td>99.0</td>\n",
       "      <td>99.0</td>\n",
       "      <td>49.012635</td>\n",
       "      <td>49.0</td>\n",
       "      <td>28.941819</td>\n",
       "      <td>0.001648</td>\n",
       "      <td>-1.199777</td>\n",
       "    </tr>\n",
       "    <tr>\n",
       "      <th>6</th>\n",
       "      <td>mntwines</td>\n",
       "      <td>0.0</td>\n",
       "      <td>1493.0</td>\n",
       "      <td>1493.0</td>\n",
       "      <td>305.091606</td>\n",
       "      <td>174.5</td>\n",
       "      <td>337.251800</td>\n",
       "      <td>1.170720</td>\n",
       "      <td>0.582741</td>\n",
       "    </tr>\n",
       "    <tr>\n",
       "      <th>7</th>\n",
       "      <td>mntfruits</td>\n",
       "      <td>0.0</td>\n",
       "      <td>199.0</td>\n",
       "      <td>199.0</td>\n",
       "      <td>26.356047</td>\n",
       "      <td>8.0</td>\n",
       "      <td>39.784937</td>\n",
       "      <td>2.101658</td>\n",
       "      <td>4.054082</td>\n",
       "    </tr>\n",
       "    <tr>\n",
       "      <th>8</th>\n",
       "      <td>mntmeatproducts</td>\n",
       "      <td>0.0</td>\n",
       "      <td>1725.0</td>\n",
       "      <td>1725.0</td>\n",
       "      <td>166.995939</td>\n",
       "      <td>68.0</td>\n",
       "      <td>224.232662</td>\n",
       "      <td>2.025577</td>\n",
       "      <td>5.055477</td>\n",
       "    </tr>\n",
       "    <tr>\n",
       "      <th>9</th>\n",
       "      <td>mntfishproducts</td>\n",
       "      <td>0.0</td>\n",
       "      <td>259.0</td>\n",
       "      <td>259.0</td>\n",
       "      <td>37.637635</td>\n",
       "      <td>12.0</td>\n",
       "      <td>54.739727</td>\n",
       "      <td>1.916369</td>\n",
       "      <td>3.076476</td>\n",
       "    </tr>\n",
       "    <tr>\n",
       "      <th>10</th>\n",
       "      <td>mntsweetproducts</td>\n",
       "      <td>0.0</td>\n",
       "      <td>262.0</td>\n",
       "      <td>262.0</td>\n",
       "      <td>27.028881</td>\n",
       "      <td>8.0</td>\n",
       "      <td>41.062777</td>\n",
       "      <td>2.103328</td>\n",
       "      <td>4.106141</td>\n",
       "    </tr>\n",
       "    <tr>\n",
       "      <th>11</th>\n",
       "      <td>mntgoldprods</td>\n",
       "      <td>0.0</td>\n",
       "      <td>321.0</td>\n",
       "      <td>321.0</td>\n",
       "      <td>43.965253</td>\n",
       "      <td>24.5</td>\n",
       "      <td>51.803722</td>\n",
       "      <td>1.839231</td>\n",
       "      <td>3.156342</td>\n",
       "    </tr>\n",
       "    <tr>\n",
       "      <th>12</th>\n",
       "      <td>numdealspurchases</td>\n",
       "      <td>0.0</td>\n",
       "      <td>15.0</td>\n",
       "      <td>15.0</td>\n",
       "      <td>2.323556</td>\n",
       "      <td>2.0</td>\n",
       "      <td>1.923282</td>\n",
       "      <td>2.415272</td>\n",
       "      <td>8.974490</td>\n",
       "    </tr>\n",
       "    <tr>\n",
       "      <th>13</th>\n",
       "      <td>numwebpurchases</td>\n",
       "      <td>0.0</td>\n",
       "      <td>27.0</td>\n",
       "      <td>27.0</td>\n",
       "      <td>4.085289</td>\n",
       "      <td>4.0</td>\n",
       "      <td>2.740333</td>\n",
       "      <td>1.197037</td>\n",
       "      <td>4.072137</td>\n",
       "    </tr>\n",
       "    <tr>\n",
       "      <th>14</th>\n",
       "      <td>numcatalogpurchases</td>\n",
       "      <td>0.0</td>\n",
       "      <td>28.0</td>\n",
       "      <td>28.0</td>\n",
       "      <td>2.671029</td>\n",
       "      <td>2.0</td>\n",
       "      <td>2.926073</td>\n",
       "      <td>1.881075</td>\n",
       "      <td>8.067126</td>\n",
       "    </tr>\n",
       "    <tr>\n",
       "      <th>15</th>\n",
       "      <td>numstorepurchases</td>\n",
       "      <td>0.0</td>\n",
       "      <td>13.0</td>\n",
       "      <td>13.0</td>\n",
       "      <td>5.800993</td>\n",
       "      <td>5.0</td>\n",
       "      <td>3.250051</td>\n",
       "      <td>0.701826</td>\n",
       "      <td>-0.626462</td>\n",
       "    </tr>\n",
       "    <tr>\n",
       "      <th>16</th>\n",
       "      <td>numwebvisitsmonth</td>\n",
       "      <td>0.0</td>\n",
       "      <td>20.0</td>\n",
       "      <td>20.0</td>\n",
       "      <td>5.319043</td>\n",
       "      <td>6.0</td>\n",
       "      <td>2.424811</td>\n",
       "      <td>0.218043</td>\n",
       "      <td>1.852577</td>\n",
       "    </tr>\n",
       "    <tr>\n",
       "      <th>17</th>\n",
       "      <td>acceptedcmp3</td>\n",
       "      <td>0.0</td>\n",
       "      <td>1.0</td>\n",
       "      <td>1.0</td>\n",
       "      <td>0.073556</td>\n",
       "      <td>0.0</td>\n",
       "      <td>0.261047</td>\n",
       "      <td>3.269397</td>\n",
       "      <td>8.696805</td>\n",
       "    </tr>\n",
       "    <tr>\n",
       "      <th>18</th>\n",
       "      <td>acceptedcmp4</td>\n",
       "      <td>0.0</td>\n",
       "      <td>1.0</td>\n",
       "      <td>1.0</td>\n",
       "      <td>0.074007</td>\n",
       "      <td>0.0</td>\n",
       "      <td>0.261783</td>\n",
       "      <td>3.256758</td>\n",
       "      <td>8.614248</td>\n",
       "    </tr>\n",
       "    <tr>\n",
       "      <th>19</th>\n",
       "      <td>acceptedcmp5</td>\n",
       "      <td>0.0</td>\n",
       "      <td>1.0</td>\n",
       "      <td>1.0</td>\n",
       "      <td>0.073105</td>\n",
       "      <td>0.0</td>\n",
       "      <td>0.260308</td>\n",
       "      <td>3.282143</td>\n",
       "      <td>8.780388</td>\n",
       "    </tr>\n",
       "    <tr>\n",
       "      <th>20</th>\n",
       "      <td>acceptedcmp1</td>\n",
       "      <td>0.0</td>\n",
       "      <td>1.0</td>\n",
       "      <td>1.0</td>\n",
       "      <td>0.064079</td>\n",
       "      <td>0.0</td>\n",
       "      <td>0.244894</td>\n",
       "      <td>3.562482</td>\n",
       "      <td>10.700936</td>\n",
       "    </tr>\n",
       "    <tr>\n",
       "      <th>21</th>\n",
       "      <td>acceptedcmp2</td>\n",
       "      <td>0.0</td>\n",
       "      <td>1.0</td>\n",
       "      <td>1.0</td>\n",
       "      <td>0.013538</td>\n",
       "      <td>0.0</td>\n",
       "      <td>0.115562</td>\n",
       "      <td>8.424753</td>\n",
       "      <td>69.038772</td>\n",
       "    </tr>\n",
       "    <tr>\n",
       "      <th>22</th>\n",
       "      <td>complain</td>\n",
       "      <td>0.0</td>\n",
       "      <td>1.0</td>\n",
       "      <td>1.0</td>\n",
       "      <td>0.009477</td>\n",
       "      <td>0.0</td>\n",
       "      <td>0.096885</td>\n",
       "      <td>10.132737</td>\n",
       "      <td>100.763293</td>\n",
       "    </tr>\n",
       "    <tr>\n",
       "      <th>23</th>\n",
       "      <td>z_costcontact</td>\n",
       "      <td>3.0</td>\n",
       "      <td>3.0</td>\n",
       "      <td>0.0</td>\n",
       "      <td>3.000000</td>\n",
       "      <td>3.0</td>\n",
       "      <td>0.000000</td>\n",
       "      <td>0.000000</td>\n",
       "      <td>0.000000</td>\n",
       "    </tr>\n",
       "    <tr>\n",
       "      <th>24</th>\n",
       "      <td>z_revenue</td>\n",
       "      <td>11.0</td>\n",
       "      <td>11.0</td>\n",
       "      <td>0.0</td>\n",
       "      <td>11.000000</td>\n",
       "      <td>11.0</td>\n",
       "      <td>0.000000</td>\n",
       "      <td>0.000000</td>\n",
       "      <td>0.000000</td>\n",
       "    </tr>\n",
       "    <tr>\n",
       "      <th>25</th>\n",
       "      <td>response</td>\n",
       "      <td>0.0</td>\n",
       "      <td>1.0</td>\n",
       "      <td>1.0</td>\n",
       "      <td>0.150271</td>\n",
       "      <td>0.0</td>\n",
       "      <td>0.357337</td>\n",
       "      <td>1.958748</td>\n",
       "      <td>1.838352</td>\n",
       "    </tr>\n",
       "  </tbody>\n",
       "</table>\n",
       "</div>"
      ],
      "text/plain": [
       "             attributes     min       max     range          mean   median  \\\n",
       "0                    id     0.0   11191.0   11191.0   5588.353339   5458.5   \n",
       "1            year_birth  1893.0    1996.0     103.0   1968.820397   1970.0   \n",
       "2                income  1730.0  666666.0  664936.0  52247.251354  51381.5   \n",
       "3               kidhome     0.0       2.0       2.0      0.441787      0.0   \n",
       "4              teenhome     0.0       2.0       2.0      0.505415      0.0   \n",
       "5               recency     0.0      99.0      99.0     49.012635     49.0   \n",
       "6              mntwines     0.0    1493.0    1493.0    305.091606    174.5   \n",
       "7             mntfruits     0.0     199.0     199.0     26.356047      8.0   \n",
       "8       mntmeatproducts     0.0    1725.0    1725.0    166.995939     68.0   \n",
       "9       mntfishproducts     0.0     259.0     259.0     37.637635     12.0   \n",
       "10     mntsweetproducts     0.0     262.0     262.0     27.028881      8.0   \n",
       "11         mntgoldprods     0.0     321.0     321.0     43.965253     24.5   \n",
       "12    numdealspurchases     0.0      15.0      15.0      2.323556      2.0   \n",
       "13      numwebpurchases     0.0      27.0      27.0      4.085289      4.0   \n",
       "14  numcatalogpurchases     0.0      28.0      28.0      2.671029      2.0   \n",
       "15    numstorepurchases     0.0      13.0      13.0      5.800993      5.0   \n",
       "16    numwebvisitsmonth     0.0      20.0      20.0      5.319043      6.0   \n",
       "17         acceptedcmp3     0.0       1.0       1.0      0.073556      0.0   \n",
       "18         acceptedcmp4     0.0       1.0       1.0      0.074007      0.0   \n",
       "19         acceptedcmp5     0.0       1.0       1.0      0.073105      0.0   \n",
       "20         acceptedcmp1     0.0       1.0       1.0      0.064079      0.0   \n",
       "21         acceptedcmp2     0.0       1.0       1.0      0.013538      0.0   \n",
       "22             complain     0.0       1.0       1.0      0.009477      0.0   \n",
       "23        z_costcontact     3.0       3.0       0.0      3.000000      3.0   \n",
       "24            z_revenue    11.0      11.0       0.0     11.000000     11.0   \n",
       "25             response     0.0       1.0       1.0      0.150271      0.0   \n",
       "\n",
       "             std       skew    kurtosis  \n",
       "0    3248.643030   0.040459   -1.189677  \n",
       "1      11.982849  -0.353661    0.734670  \n",
       "2   25167.396174   6.763487  159.636700  \n",
       "3       0.536775   0.635610   -0.791164  \n",
       "4       0.544058   0.407553   -0.989619  \n",
       "5      28.941819   0.001648   -1.199777  \n",
       "6     337.251800   1.170720    0.582741  \n",
       "7      39.784937   2.101658    4.054082  \n",
       "8     224.232662   2.025577    5.055477  \n",
       "9      54.739727   1.916369    3.076476  \n",
       "10     41.062777   2.103328    4.106141  \n",
       "11     51.803722   1.839231    3.156342  \n",
       "12      1.923282   2.415272    8.974490  \n",
       "13      2.740333   1.197037    4.072137  \n",
       "14      2.926073   1.881075    8.067126  \n",
       "15      3.250051   0.701826   -0.626462  \n",
       "16      2.424811   0.218043    1.852577  \n",
       "17      0.261047   3.269397    8.696805  \n",
       "18      0.261783   3.256758    8.614248  \n",
       "19      0.260308   3.282143    8.780388  \n",
       "20      0.244894   3.562482   10.700936  \n",
       "21      0.115562   8.424753   69.038772  \n",
       "22      0.096885  10.132737  100.763293  \n",
       "23      0.000000   0.000000    0.000000  \n",
       "24      0.000000   0.000000    0.000000  \n",
       "25      0.357337   1.958748    1.838352  "
      ]
     },
     "execution_count": 12,
     "metadata": {},
     "output_type": "execute_result"
    }
   ],
   "source": [
    "n"
   ]
  },
  {
   "cell_type": "code",
   "execution_count": 13,
   "id": "cc16160a",
   "metadata": {
    "ExecuteTime": {
     "end_time": "2022-01-28T00:26:29.778215Z",
     "start_time": "2022-01-28T00:26:29.238772Z"
    },
    "scrolled": true
   },
   "outputs": [],
   "source": [
    "sns.displot(data=num_attributes, x=\"income\");"
   ]
  },
  {
   "cell_type": "code",
   "execution_count": 14,
   "id": "fbbaccaa",
   "metadata": {
    "ExecuteTime": {
     "end_time": "2022-01-28T00:26:30.079233Z",
     "start_time": "2022-01-28T00:26:29.782218Z"
    },
    "scrolled": true
   },
   "outputs": [],
   "source": [
    "sns.displot(data=num_attributes, x=\"year_birth\");"
   ]
  },
  {
   "cell_type": "markdown",
   "id": "57a2863b",
   "metadata": {},
   "source": [
    "### 1.7.2 Categorical Attributes"
   ]
  },
  {
   "cell_type": "code",
   "execution_count": 15,
   "id": "4ccf6184",
   "metadata": {
    "ExecuteTime": {
     "end_time": "2022-01-28T00:26:30.237305Z",
     "start_time": "2022-01-28T00:26:30.087235Z"
    },
    "scrolled": false
   },
   "outputs": [
    {
     "data": {
      "text/plain": [
       "<AxesSubplot:xlabel='education', ylabel='income'>"
      ]
     },
     "execution_count": 15,
     "metadata": {},
     "output_type": "execute_result"
    }
   ],
   "source": [
    "sns.boxplot(x=\"education\", y=\"income\", data=df1, palette=\"Set3\")"
   ]
  },
  {
   "cell_type": "code",
   "execution_count": 16,
   "id": "854c5192",
   "metadata": {
    "ExecuteTime": {
     "end_time": "2022-01-28T00:26:30.426813Z",
     "start_time": "2022-01-28T00:26:30.239287Z"
    }
   },
   "outputs": [
    {
     "data": {
      "text/plain": [
       "<AxesSubplot:xlabel='marital_status', ylabel='income'>"
      ]
     },
     "execution_count": 16,
     "metadata": {},
     "output_type": "execute_result"
    }
   ],
   "source": [
    "sns.boxplot(x=\"marital_status\", y=\"income\", data=df1, palette=\"Set3\")"
   ]
  },
  {
   "cell_type": "markdown",
   "id": "3896ec76",
   "metadata": {},
   "source": [
    "# 2.0 Data Filtering"
   ]
  },
  {
   "cell_type": "code",
   "execution_count": 17,
   "id": "75624ef5",
   "metadata": {
    "ExecuteTime": {
     "end_time": "2022-01-28T00:26:30.441954Z",
     "start_time": "2022-01-28T00:26:30.428815Z"
    }
   },
   "outputs": [],
   "source": [
    "df2 = df1.copy()"
   ]
  },
  {
   "cell_type": "code",
   "execution_count": 18,
   "id": "bcdecf72",
   "metadata": {
    "ExecuteTime": {
     "end_time": "2022-01-28T00:26:30.472891Z",
     "start_time": "2022-01-28T00:26:30.444920Z"
    }
   },
   "outputs": [],
   "source": [
    "#drop z_ columns\n",
    "df2 = df2.drop(columns=['z_costcontact', 'z_revenue'])\n",
    "#replace marital_status 'alone', 'absurd' e 'yolo' to 'single'\n",
    "df2['marital_status'] = df2['marital_status'].replace(['Absurd', 'Alone', 'YOLO'], 'Single')\n",
    "#delete outlier with income = 666666\n",
    "df2.drop(df2.loc[df2['income'] == 666666, :].index, inplace = True)"
   ]
  },
  {
   "cell_type": "markdown",
   "id": "d239a1d4",
   "metadata": {},
   "source": [
    "# 3.0 Feature Engineering"
   ]
  },
  {
   "cell_type": "code",
   "execution_count": 19,
   "id": "ca540fbd",
   "metadata": {
    "ExecuteTime": {
     "end_time": "2022-01-28T00:26:30.488890Z",
     "start_time": "2022-01-28T00:26:30.474893Z"
    }
   },
   "outputs": [],
   "source": [
    "df3 = df2.copy()"
   ]
  },
  {
   "cell_type": "code",
   "execution_count": 20,
   "id": "5c91b864",
   "metadata": {
    "ExecuteTime": {
     "end_time": "2022-01-28T00:26:30.551884Z",
     "start_time": "2022-01-28T00:26:30.493885Z"
    },
    "code_folding": []
   },
   "outputs": [],
   "source": [
    "#monetary (total amount spend)\n",
    "df3['mnttotal'] = df3['mntwines'] + df3['mntfruits'] + df3['mntmeatproducts'] + df3['mntfishproducts'] + df3['mntsweetproducts'] + df3['mntgoldprods']\n",
    "\n",
    "#total number of purchases\n",
    "df3['numtotalpurchases'] = df3['numwebpurchases'] + df3['numcatalogpurchases'] + df3['numstorepurchases'] + df3['numwebvisitsmonth']\n",
    "\n",
    "#database generation date\n",
    "df3['final_date'] = pd.to_datetime('2014-08-18')\n",
    "\n",
    "#==========frequency============\n",
    "#enrollment date - final_date = total days since the person is a client\n",
    "df3['total_days'] = (df3['final_date'] - df3['dt_customer']).dt.days\n",
    "\n",
    "#total days - recency = total period (days) that the person has been on store\n",
    "df3['on_store'] = df3['total_days'] - df3['recency']\n",
    "\n",
    "#on_store / number purchases = frequency (de quanto em quantos dias a pessoa fez uma compra)\n",
    "df3['frequency'] = np.round(df3['on_store'] / df3['numtotalpurchases'])\n",
    "\n",
    "#remove clients with 0 total purchases\n",
    "df3 = df3[df3['numtotalpurchases'] != 0]\n",
    "\n",
    "#====================date================\n",
    "#day_customer\n",
    "df3['day_customer'] = df3['dt_customer'].dt.day\n",
    "\n",
    "#month_customer\n",
    "df3['month_customer'] = df3['dt_customer'].dt.month\n",
    "\n",
    "#year_customer\n",
    "df3['year_customer'] = df3['dt_customer'].dt.year\n",
    "\n",
    "#===================customers age===============\n",
    "df3['customer_age'] = df3['final_date'].dt.year - df3['year_birth']"
   ]
  },
  {
   "cell_type": "markdown",
   "id": "3a6ed065",
   "metadata": {},
   "source": [
    "# 5.0 Data Preparation"
   ]
  },
  {
   "cell_type": "code",
   "execution_count": 21,
   "id": "f8a304b3",
   "metadata": {
    "ExecuteTime": {
     "end_time": "2022-01-28T00:26:30.567896Z",
     "start_time": "2022-01-28T00:26:30.554881Z"
    }
   },
   "outputs": [],
   "source": [
    "df5 = df3.copy()\n",
    "df5_aux = df3.copy()"
   ]
  },
  {
   "cell_type": "markdown",
   "id": "14ee2f1a",
   "metadata": {},
   "source": [
    "## 5.1 Enconding"
   ]
  },
  {
   "cell_type": "code",
   "execution_count": 22,
   "id": "7684e150",
   "metadata": {
    "ExecuteTime": {
     "end_time": "2022-01-28T00:26:30.599631Z",
     "start_time": "2022-01-28T00:26:30.577868Z"
    }
   },
   "outputs": [],
   "source": [
    "le = LabelEncoder()\n",
    "\n",
    "#education\n",
    "df5['education'] = le.fit_transform(df5['education'])\n",
    "\n",
    "#marital_status\n",
    "df5['marital_status'] = le.fit_transform(df5['marital_status'])"
   ]
  },
  {
   "cell_type": "markdown",
   "id": "957963f2",
   "metadata": {},
   "source": [
    "## 5.2 Rescaling"
   ]
  },
  {
   "cell_type": "code",
   "execution_count": 23,
   "id": "611c3bed",
   "metadata": {
    "ExecuteTime": {
     "end_time": "2022-01-28T00:26:30.680584Z",
     "start_time": "2022-01-28T00:26:30.606626Z"
    }
   },
   "outputs": [],
   "source": [
    "mms = MinMaxScaler()\n",
    "rs = RobustScaler()\n",
    "ss = StandardScaler()\n",
    "\n",
    "#year_birth > robust scaler\n",
    "df5['year_birth'] = rs.fit_transform(df5[['year_birth']].values)\n",
    "\n",
    "#income > minmax scaler\n",
    "df5['income'] = ss.fit_transform(df5[['income']].values)\n",
    "\n",
    "#recency > minmax scaler\n",
    "df5['recency'] = ss.fit_transform(df5[['recency']].values)\n",
    "\n",
    "#mtnwines > minmax scaler \n",
    "df5['mntwines'] = ss.fit_transform(df5[['mntwines']].values)\n",
    "\n",
    "#mntfruits > minmax scaler \n",
    "df5['mntfruits'] = ss.fit_transform(df5[['mntfruits']].values)\n",
    "\n",
    "#mntmeatproducts > minmax scaler\n",
    "df5['mntmeatproducts'] = ss.fit_transform(df5[['mntmeatproducts']].values)\n",
    "\n",
    "#mntfishproducts > minmax scaler \n",
    "df5['mntfishproducts'] = ss.fit_transform(df5[['mntfishproducts']].values)\n",
    "\n",
    "#mntsweetproducts > minmax scaler \n",
    "df5['mntsweetproducts'] = ss.fit_transform(df5[['mntsweetproducts']].values)\n",
    "\n",
    "#mntgoldprods > minmax scaler \n",
    "df5['mntgoldprods'] = ss.fit_transform(df5[['mntgoldprods']].values)\n",
    "\n",
    "#numdealspurchases > minmax scaler \n",
    "df5['numdealspurchases'] = ss.fit_transform(df5[['numdealspurchases']].values)\n",
    "\n",
    "#numwebpurchases > minmax scaler \n",
    "df5['numwebpurchases'] = ss.fit_transform(df5[['numwebpurchases']].values)\n",
    "\n",
    "#numcatalogpurchases > minmax scaler \n",
    "df5['numcatalogpurchases'] = ss.fit_transform(df5[['numcatalogpurchases']].values)\n",
    "\n",
    "#numstorepurchases > minmax scaler\n",
    "df5['numstorepurchases'] = ss.fit_transform(df5[['numstorepurchases']].values)\n",
    "\n",
    "#numwebvisitsmonth > minmax scaler \n",
    "df5['numwebvisitsmonth'] = ss.fit_transform(df5[['numwebvisitsmonth']].values)\n",
    "\n",
    "#frequency > minmax scaler \n",
    "df5['frequency'] = ss.fit_transform(df5[['frequency']].values)\n",
    "\n",
    "#mnttotal > minmax scaler \n",
    "df5['mnttotal'] = ss.fit_transform(df5[['mnttotal']].values)\n",
    "\n",
    "#numtotalpurchases > minmax scaler \n",
    "df5['numtotalpurchases'] = ss.fit_transform(df5[['numtotalpurchases']].values)\n",
    "\n",
    "#customer_age > minmax scaler \n",
    "df5['customer_age'] = ss.fit_transform(df5[['customer_age']].values)"
   ]
  },
  {
   "cell_type": "markdown",
   "id": "24640200",
   "metadata": {},
   "source": [
    "## 5.3 Transformation"
   ]
  },
  {
   "cell_type": "code",
   "execution_count": 24,
   "id": "3fc3a215",
   "metadata": {
    "ExecuteTime": {
     "end_time": "2022-01-28T00:26:30.727556Z",
     "start_time": "2022-01-28T00:26:30.684580Z"
    }
   },
   "outputs": [],
   "source": [
    "#day\n",
    "df5['day_customer_sin'] =  df5['day_customer'].apply(lambda x: np.sin(x*(2 * np.pi/30)))\n",
    "df5['day_customer_cos'] =  df5['day_customer'].apply(lambda x: np.cos(x*(2 * np.pi/30)))\n",
    "\n",
    "#month\n",
    "df5['month_customer_sin'] =  df5['month_customer'].apply(lambda x: np.sin(x*(2 * np.pi/12)))\n",
    "df5['month_customer_cos'] =  df5['month_customer'].apply(lambda x: np.cos(x*(2 * np.pi/12)))\n",
    "\n",
    "#year\n",
    "df5['year_customer'] = rs.fit_transform(df5[['year_customer']].values)"
   ]
  },
  {
   "cell_type": "markdown",
   "id": "790a0288",
   "metadata": {},
   "source": [
    "# 6.0 Space Study"
   ]
  },
  {
   "cell_type": "code",
   "execution_count": 25,
   "id": "05765d1c",
   "metadata": {
    "ExecuteTime": {
     "end_time": "2022-01-28T00:26:30.743545Z",
     "start_time": "2022-01-28T00:26:30.730554Z"
    }
   },
   "outputs": [],
   "source": [
    "df6 = df5.drop(columns=['id', 'final_date','total_days','on_store', 'dt_customer'])\n",
    "X = df6.copy()"
   ]
  },
  {
   "cell_type": "markdown",
   "id": "72582545",
   "metadata": {},
   "source": [
    "## 6.1 Tree-Based Embedding"
   ]
  },
  {
   "cell_type": "code",
   "execution_count": 26,
   "id": "d7c1cdda",
   "metadata": {
    "ExecuteTime": {
     "end_time": "2022-01-28T00:26:33.679746Z",
     "start_time": "2022-01-28T00:26:30.746545Z"
    }
   },
   "outputs": [],
   "source": [
    "#train dataset\n",
    "X = df6.drop(columns=['mnttotal'], axis=1)\n",
    "y = df6['mnttotal']\n",
    "\n",
    "#model definition\n",
    "rf_model = en.RandomForestRegressor(n_estimators=100, random_state=42)\n",
    "\n",
    "#model training\n",
    "rf_model.fit(X, y)\n",
    "\n",
    "#dataframe leaf\n",
    "df_leaf = pd.DataFrame(rf_model.apply(X))"
   ]
  },
  {
   "cell_type": "code",
   "execution_count": 27,
   "id": "8de45ce4",
   "metadata": {
    "ExecuteTime": {
     "end_time": "2022-01-28T00:26:53.331101Z",
     "start_time": "2022-01-28T00:26:33.685743Z"
    }
   },
   "outputs": [
    {
     "data": {
      "text/plain": [
       "<AxesSubplot:xlabel='marital_status', ylabel='income'>"
      ]
     },
     "execution_count": 27,
     "metadata": {},
     "output_type": "execute_result"
    }
   ],
   "source": [
    "reducer = umap.UMAP(random_state=42)\n",
    "embedding = reducer.fit_transform(df_leaf)\n",
    "\n",
    "#embedding\n",
    "df_tree = pd.DataFrame()\n",
    "df_tree['embedding_x'] = embedding[:, 0]\n",
    "df_tree['embedding_y'] = embedding[:, 1]\n",
    "\n",
    "#plot UMAP\n",
    "sns.scatterplot(x='embedding_x', y='embedding_y',data=df_tree)"
   ]
  },
  {
   "cell_type": "code",
   "execution_count": 28,
   "id": "29728c32",
   "metadata": {
    "ExecuteTime": {
     "end_time": "2022-01-28T00:26:53.346117Z",
     "start_time": "2022-01-28T00:26:53.333103Z"
    }
   },
   "outputs": [],
   "source": [
    "df7 = df_tree.copy()\n",
    "X = df7.copy()"
   ]
  },
  {
   "cell_type": "markdown",
   "id": "b349e8b6",
   "metadata": {},
   "source": [
    "## 9.1 Final Model"
   ]
  },
  {
   "cell_type": "code",
   "execution_count": 29,
   "id": "0bb23866",
   "metadata": {
    "ExecuteTime": {
     "end_time": "2022-01-28T00:26:53.661975Z",
     "start_time": "2022-01-28T00:26:53.351098Z"
    },
    "code_folding": []
   },
   "outputs": [],
   "source": [
    "kmeans_list = []\n",
    "#model definition\n",
    "kmeans = c.KMeans(init='random', n_clusters=4, n_init=10, max_iter=300, random_state=42)\n",
    "\n",
    "#model training\n",
    "kmeans.fit(X)\n",
    "\n",
    "#model predict\n",
    "labels = kmeans.predict(X)\n",
    "\n",
    "#performance\n",
    "sil = m.silhouette_score(X, labels, metric='euclidean')\n",
    "kmeans_list.append(sil)"
   ]
  },
  {
   "cell_type": "markdown",
   "id": "5186b90e",
   "metadata": {},
   "source": [
    "# 11.0 Cluster Exploratory Data Analysis"
   ]
  },
  {
   "cell_type": "code",
   "execution_count": 30,
   "id": "f213b082",
   "metadata": {
    "ExecuteTime": {
     "end_time": "2022-01-28T00:26:53.677950Z",
     "start_time": "2022-01-28T00:26:53.663956Z"
    }
   },
   "outputs": [],
   "source": [
    "df11 = df3.copy()\n",
    "df11['cluster'] = labels"
   ]
  },
  {
   "cell_type": "code",
   "execution_count": 31,
   "id": "6f420905",
   "metadata": {
    "ExecuteTime": {
     "end_time": "2022-01-28T00:26:53.772933Z",
     "start_time": "2022-01-28T00:26:53.681949Z"
    }
   },
   "outputs": [],
   "source": [
    "#number of customers\n",
    "df_cluster = df11[['id', 'cluster']].groupby('cluster').count().reset_index()\n",
    "df_cluster['perc_customers'] = 100*(df_cluster['id']/df_cluster['id'].sum())\n",
    "\n",
    "#avg_income\n",
    "df_avg_income = df11[['income', 'cluster']].groupby('cluster').mean().reset_index()\n",
    "df_cluster = pd.merge(df_cluster, df_avg_income, how='inner', on='cluster')\n",
    "\n",
    "#avg_recency\n",
    "df_avg_recency = df11[['recency', 'cluster']].groupby('cluster').mean().reset_index()\n",
    "df_cluster = pd.merge(df_cluster, df_avg_recency, how='inner', on='cluster')\n",
    "\n",
    "#avg_numdealspurchases\n",
    "df_avg_numdealspurchases = df11[['numdealspurchases', 'cluster']].groupby('cluster').mean().reset_index()\n",
    "df_cluster = pd.merge(df_cluster, df_avg_numdealspurchases, how='inner', on='cluster')\n",
    "\n",
    "#avg_total_spend\n",
    "df_avg_spend = df11[['mnttotal', 'cluster']].groupby('cluster').mean().reset_index()\n",
    "df_cluster = pd.merge(df_cluster, df_avg_spend, how='inner', on='cluster')\n",
    "\n",
    "#avg_total_purchases\n",
    "df_avg_purchases = df11[['numtotalpurchases', 'cluster']].groupby('cluster').mean().reset_index()\n",
    "df_cluster = pd.merge(df_cluster, df_avg_purchases, how='inner', on='cluster')\n",
    "\n",
    "#avg_age\n",
    "df_avg_age = df11[['customer_age', 'cluster']].groupby('cluster').mean().reset_index()\n",
    "df_cluster = pd.merge(df_cluster, df_avg_age, how='inner', on='cluster')"
   ]
  },
  {
   "cell_type": "code",
   "execution_count": 32,
   "id": "ffe7f246",
   "metadata": {
    "ExecuteTime": {
     "end_time": "2022-01-28T00:26:53.804914Z",
     "start_time": "2022-01-28T00:26:53.775931Z"
    },
    "scrolled": true
   },
   "outputs": [
    {
     "data": {
      "text/html": [
       "<div>\n",
       "<style scoped>\n",
       "    .dataframe tbody tr th:only-of-type {\n",
       "        vertical-align: middle;\n",
       "    }\n",
       "\n",
       "    .dataframe tbody tr th {\n",
       "        vertical-align: top;\n",
       "    }\n",
       "\n",
       "    .dataframe thead th {\n",
       "        text-align: right;\n",
       "    }\n",
       "</style>\n",
       "<table border=\"1\" class=\"dataframe\">\n",
       "  <thead>\n",
       "    <tr style=\"text-align: right;\">\n",
       "      <th></th>\n",
       "      <th>cluster</th>\n",
       "      <th>id</th>\n",
       "      <th>perc_customers</th>\n",
       "      <th>income</th>\n",
       "      <th>recency</th>\n",
       "      <th>numdealspurchases</th>\n",
       "      <th>mnttotal</th>\n",
       "      <th>numtotalpurchases</th>\n",
       "      <th>customer_age</th>\n",
       "    </tr>\n",
       "  </thead>\n",
       "  <tbody>\n",
       "    <tr>\n",
       "      <th>0</th>\n",
       "      <td>0</td>\n",
       "      <td>556</td>\n",
       "      <td>25.124266</td>\n",
       "      <td>31589.944245</td>\n",
       "      <td>48.748201</td>\n",
       "      <td>1.661871</td>\n",
       "      <td>42.541367</td>\n",
       "      <td>10.940647</td>\n",
       "      <td>42.070144</td>\n",
       "    </tr>\n",
       "    <tr>\n",
       "      <th>1</th>\n",
       "      <td>1</td>\n",
       "      <td>589</td>\n",
       "      <td>26.615454</td>\n",
       "      <td>75021.412564</td>\n",
       "      <td>49.923599</td>\n",
       "      <td>1.755518</td>\n",
       "      <td>1436.224109</td>\n",
       "      <td>23.293718</td>\n",
       "      <td>46.365025</td>\n",
       "    </tr>\n",
       "    <tr>\n",
       "      <th>2</th>\n",
       "      <td>2</td>\n",
       "      <td>532</td>\n",
       "      <td>24.039765</td>\n",
       "      <td>59033.804511</td>\n",
       "      <td>48.500000</td>\n",
       "      <td>3.362782</td>\n",
       "      <td>704.372180</td>\n",
       "      <td>22.671053</td>\n",
       "      <td>47.669173</td>\n",
       "    </tr>\n",
       "    <tr>\n",
       "      <th>3</th>\n",
       "      <td>3</td>\n",
       "      <td>536</td>\n",
       "      <td>24.220515</td>\n",
       "      <td>40382.070896</td>\n",
       "      <td>48.716418</td>\n",
       "      <td>2.608209</td>\n",
       "      <td>188.223881</td>\n",
       "      <td>14.434701</td>\n",
       "      <td>44.621269</td>\n",
       "    </tr>\n",
       "  </tbody>\n",
       "</table>\n",
       "</div>"
      ],
      "text/plain": [
       "   cluster   id  perc_customers        income    recency  numdealspurchases  \\\n",
       "0        0  556       25.124266  31589.944245  48.748201           1.661871   \n",
       "1        1  589       26.615454  75021.412564  49.923599           1.755518   \n",
       "2        2  532       24.039765  59033.804511  48.500000           3.362782   \n",
       "3        3  536       24.220515  40382.070896  48.716418           2.608209   \n",
       "\n",
       "      mnttotal  numtotalpurchases  customer_age  \n",
       "0    42.541367          10.940647     42.070144  \n",
       "1  1436.224109          23.293718     46.365025  \n",
       "2   704.372180          22.671053     47.669173  \n",
       "3   188.223881          14.434701     44.621269  "
      ]
     },
     "execution_count": 32,
     "metadata": {},
     "output_type": "execute_result"
    }
   ],
   "source": [
    "df_cluster.head()"
   ]
  },
  {
   "cell_type": "markdown",
   "id": "4e534aee",
   "metadata": {},
   "source": [
    "# 12.0 Deploy"
   ]
  },
  {
   "cell_type": "code",
   "execution_count": 33,
   "id": "65e2c6ba",
   "metadata": {
    "ExecuteTime": {
     "end_time": "2022-01-28T00:26:53.820909Z",
     "start_time": "2022-01-28T00:26:53.807913Z"
    }
   },
   "outputs": [],
   "source": [
    "drop_columns = ['dt_customer', 'final_date', 'total_days', 'on_store','frequency','day_customer','month_customer','year_customer']\n",
    "df11 = df11.drop(drop_columns, axis=1)\n",
    "df12 = df11.copy()"
   ]
  },
  {
   "cell_type": "code",
   "execution_count": 34,
   "id": "f6b190b8",
   "metadata": {
    "ExecuteTime": {
     "end_time": "2022-01-28T00:26:54.230580Z",
     "start_time": "2022-01-28T00:26:53.826904Z"
    }
   },
   "outputs": [],
   "source": [
    "import sqlite3\n",
    "from sqlalchemy import create_engine"
   ]
  },
  {
   "cell_type": "markdown",
   "id": "c629e021",
   "metadata": {},
   "source": [
    "## 12.1 Insert into SQLITE "
   ]
  },
  {
   "cell_type": "code",
   "execution_count": 39,
   "id": "60d972bb",
   "metadata": {
    "ExecuteTime": {
     "end_time": "2022-01-28T00:32:34.212978Z",
     "start_time": "2022-01-28T00:32:34.197999Z"
    }
   },
   "outputs": [
    {
     "data": {
      "text/plain": [
       "id                       int64\n",
       "year_birth               int64\n",
       "education               object\n",
       "marital_status          object\n",
       "income                 float64\n",
       "kidhome                  int64\n",
       "teenhome                 int64\n",
       "recency                  int64\n",
       "mntwines                 int64\n",
       "mntfruits                int64\n",
       "mntmeatproducts          int64\n",
       "mntfishproducts          int64\n",
       "mntsweetproducts         int64\n",
       "mntgoldprods             int64\n",
       "numdealspurchases        int64\n",
       "numwebpurchases          int64\n",
       "numcatalogpurchases      int64\n",
       "numstorepurchases        int64\n",
       "numwebvisitsmonth        int64\n",
       "acceptedcmp3             int64\n",
       "acceptedcmp4             int64\n",
       "acceptedcmp5             int64\n",
       "acceptedcmp1             int64\n",
       "acceptedcmp2             int64\n",
       "complain                 int64\n",
       "response                 int64\n",
       "mnttotal                 int64\n",
       "numtotalpurchases        int64\n",
       "customer_age             int64\n",
       "cluster                  int32\n",
       "dtype: object"
      ]
     },
     "execution_count": 39,
     "metadata": {},
     "output_type": "execute_result"
    }
   ],
   "source": [
    "df12.dtypes"
   ]
  },
  {
   "cell_type": "code",
   "execution_count": 40,
   "id": "dfdf22a2",
   "metadata": {
    "ExecuteTime": {
     "end_time": "2022-01-28T00:35:12.781212Z",
     "start_time": "2022-01-28T00:35:12.268976Z"
    }
   },
   "outputs": [],
   "source": [
    "#create table\n",
    "query_create_table_clusters = \"\"\"\n",
    "   CREATE TABLE clusters (\n",
    "   id                  INTEGER,                       \n",
    "   year_birth          INTEGER,               \n",
    "   education           TEXT,               \n",
    "   marital_status      TEXT,           \n",
    "   income              REAL,                 \n",
    "   kidhome             INTEGER,                  \n",
    "   teenhome            INTEGER,                 \n",
    "   recency             INTEGER,                  \n",
    "   mntwines            INTEGER,                 \n",
    "   mntfruits           INTEGER,                \n",
    "   mntmeatproducts     INTEGER,          \n",
    "   mntfishproducts     INTEGER,          \n",
    "   mntsweetproducts    INTEGER,         \n",
    "   mntgoldprods        INTEGER,             \n",
    "   numdealspurchases   INTEGER,        \n",
    "   numwebpurchases     INTEGER,          \n",
    "   numcatalogpurchases INTEGER,      \n",
    "   numstorepurchases   INTEGER,        \n",
    "   numwebvisitsmonth   INTEGER,        \n",
    "   acceptedcmp3        INTEGER,             \n",
    "   acceptedcmp4        INTEGER,             \n",
    "   acceptedcmp5        INTEGER,             \n",
    "   acceptedcmp1        INTEGER,             \n",
    "   acceptedcmp2        INTEGER,             \n",
    "   complain            INTEGER,                 \n",
    "   response            INTEGER,                 \n",
    "   mnttotal            INTEGER,                 \n",
    "   numtotalpurchases   INTEGER,\n",
    "   customer_age        INTEGER,\n",
    "   cluster             INTEGER)\n",
    "\"\"\"\n",
    "\n",
    "conn = sqlite3.connect('customers_clustering_db.sqlite')\n",
    "conn.execute(query_create_table_clusters)\n",
    "conn.commit()\n",
    "\n",
    "#insert data\n",
    "conn = create_engine('sqlite:///customers_clustering_db.sqlite')\n",
    "df12.to_sql('clusters', con=conn, if_exists='append', index=False)"
   ]
  },
  {
   "cell_type": "code",
   "execution_count": 41,
   "id": "848c831a",
   "metadata": {
    "ExecuteTime": {
     "end_time": "2022-01-28T00:35:32.467932Z",
     "start_time": "2022-01-28T00:35:32.356998Z"
    }
   },
   "outputs": [],
   "source": [
    "#consulting database\n",
    "query = \"\"\"\n",
    "    SELECT * FROM clusters\n",
    "\"\"\"\n",
    "\n",
    "df = pd.read_sql_query(query, conn)"
   ]
  }
 ],
 "metadata": {
  "kernelspec": {
   "display_name": "Python 3",
   "language": "python",
   "name": "python3"
  },
  "language_info": {
   "codemirror_mode": {
    "name": "ipython",
    "version": 3
   },
   "file_extension": ".py",
   "mimetype": "text/x-python",
   "name": "python",
   "nbconvert_exporter": "python",
   "pygments_lexer": "ipython3",
   "version": "3.8.8"
  },
  "varInspector": {
   "cols": {
    "lenName": 16,
    "lenType": 16,
    "lenVar": 40
   },
   "kernels_config": {
    "python": {
     "delete_cmd_postfix": "",
     "delete_cmd_prefix": "del ",
     "library": "var_list.py",
     "varRefreshCmd": "print(var_dic_list())"
    },
    "r": {
     "delete_cmd_postfix": ") ",
     "delete_cmd_prefix": "rm(",
     "library": "var_list.r",
     "varRefreshCmd": "cat(var_dic_list()) "
    }
   },
   "types_to_exclude": [
    "module",
    "function",
    "builtin_function_or_method",
    "instance",
    "_Feature"
   ],
   "window_display": false
  }
 },
 "nbformat": 4,
 "nbformat_minor": 5
}
