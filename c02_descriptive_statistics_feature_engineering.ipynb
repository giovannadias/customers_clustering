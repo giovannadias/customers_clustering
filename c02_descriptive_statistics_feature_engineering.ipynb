{
 "cells": [
  {
   "cell_type": "markdown",
   "id": "38aa8ed3",
   "metadata": {
    "heading_collapsed": true
   },
   "source": [
    "# 0.0 IoT Planning"
   ]
  },
  {
   "cell_type": "markdown",
   "id": "0f6f0410",
   "metadata": {
    "heading_collapsed": true,
    "hidden": true
   },
   "source": [
    "## Input"
   ]
  },
  {
   "cell_type": "markdown",
   "id": "a56cdb18",
   "metadata": {
    "hidden": true
   },
   "source": [
    "**1.** Problem Statement\n",
    "\n",
    "Customer Personality Analysis is a detailed analysis of a company’s ideal customers. It helps a business to better understand its customers and makes it easier for them to modify products according to the specific needs, behaviors and concerns of different types of customers.\n",
    "\n",
    "Customer personality analysis helps a business to modify its product based on its target customers from different types of customer segments. For example, instead of spending money to market a new product to every customer in the company’s database, a company can analyze which customer segment is most likely to buy the product and then market the product only on that particular segment.\n",
    "\n",
    "**2.** Dataset\n",
    "\n",
    "Information about customer's of a particularly store. "
   ]
  },
  {
   "cell_type": "markdown",
   "id": "a7ddcd8f",
   "metadata": {
    "heading_collapsed": true,
    "hidden": true
   },
   "source": [
    "## Output"
   ]
  },
  {
   "cell_type": "markdown",
   "id": "28ff9af7",
   "metadata": {
    "hidden": true
   },
   "source": [
    "**1.** List of customers is specific cluster and cluster specifications.\n",
    "\n",
    "**2.** Report with business questions anwsers:\n",
    "- Who are the people eligible to participate in the Insiders program?\n",
    "- How many customers will be part of each group?\n",
    "- What are the main characteristics of customers in each group?\n",
    "- What percentage of revenue contribution comes from Insiders?\n",
    "- What are the group's revenue expectation for the coming months?\n",
    "- What are the conditions for a person to be eligible for Insiders?\n",
    "- What are the conditions for a person to be removed from Insiders?\n",
    "- What is the guarantee that the Insiders program is better than the rest of the base?\n",
    "- What actions can marketing time take to increase revenue?"
   ]
  },
  {
   "cell_type": "markdown",
   "id": "23e49369",
   "metadata": {
    "heading_collapsed": true,
    "hidden": true
   },
   "source": [
    "## Tasks"
   ]
  },
  {
   "cell_type": "markdown",
   "id": "c2373e5f",
   "metadata": {
    "hidden": true
   },
   "source": [
    "- O que será considerado para definir os 'clientes mais valiosos'? \n",
    "    - Faturamento\n",
    "    - Alto ticket médio\n",
    "    - Alto LTV\n",
    "    - Baixa recência\n",
    "    - Alto basket size\n",
    "    - Baixa probabilidade de churn\n",
    "    - Visualização de campanhas\n",
    "    - Engajamento em campanhas\n",
    "    \n",
    "    \n",
    "- Caracteristicas em comum dos clientes em um cluster\n",
    "    - idade\n",
    "    - localização\n",
    "    - income\n",
    "    - familia\n",
    "    - compras\n",
    "    - engajamento de campanhas\n",
    "    \n",
    "    \n",
    "- Média de valor gasto e número de compras por cluster"
   ]
  },
  {
   "cell_type": "markdown",
   "id": "9984eb2a",
   "metadata": {},
   "source": [
    "# 1.0 Imports"
   ]
  },
  {
   "cell_type": "code",
   "execution_count": 1,
   "id": "692cf02e",
   "metadata": {
    "ExecuteTime": {
     "end_time": "2022-01-03T23:37:59.665593Z",
     "start_time": "2022-01-03T23:37:43.705935Z"
    }
   },
   "outputs": [],
   "source": [
    "import pandas  as pd\n",
    "import numpy   as np\n",
    "import seaborn as sns\n",
    "import umap.umap_ as umap\n",
    "\n",
    "\n",
    "from matplotlib          import pyplot as plt\n",
    "from pycaret.regression  import *\n",
    "from sklearn             import cluster as c\n",
    "from sklearn             import metrics as m\n",
    "from yellowbrick.cluster import KElbowVisualizer, SilhouetteVisualizer"
   ]
  },
  {
   "cell_type": "markdown",
   "id": "0e0b1436",
   "metadata": {},
   "source": [
    "## 0.1 Load Data "
   ]
  },
  {
   "cell_type": "code",
   "execution_count": 2,
   "id": "30a775bd",
   "metadata": {
    "ExecuteTime": {
     "end_time": "2022-01-03T23:37:59.743481Z",
     "start_time": "2022-01-03T23:37:59.668555Z"
    }
   },
   "outputs": [],
   "source": [
    "df_raw = pd.read_csv('data/marketing_campaign.csv', header=0, sep='\\t') "
   ]
  },
  {
   "cell_type": "markdown",
   "id": "2811593f",
   "metadata": {
    "heading_collapsed": true
   },
   "source": [
    "## 0.2 Data Dictionary"
   ]
  },
  {
   "cell_type": "markdown",
   "id": "ce0f644b",
   "metadata": {
    "hidden": true
   },
   "source": [
    "Attributes\n",
    "\n",
    "**People**\n",
    "- ID: Customer's unique identifier\n",
    "- Year_Birth: Customer's birth year\n",
    "- Education: Customer's education level\n",
    "- Marital_Status: Customer's marital status\n",
    "- Income: Customer's yearly household income\n",
    "- Kidhome: Number of children in customer's household\n",
    "- Teenhome: Number of teenagers in customer's household\n",
    "- Dt_Customer: Date of customer's enrollment with the company\n",
    "- Recency: Number of days since customer's last purchase\n",
    "- Complain: 1 if the customer complained in the last 2 years, 0 otherwise\n",
    "\n",
    "**Products**\n",
    "- MntWines: Amount spent on wine in last 2 years\n",
    "- MntFruits: Amount spent on fruits in last 2 years\n",
    "- MntMeatProducts: Amount spent on meat in last 2 years\n",
    "- MntFishProducts: Amount spent on fish in last 2 years\n",
    "- MntSweetProducts: Amount spent on sweets in last 2 years\n",
    "- MntGoldProds: Amount spent on gold in last 2 years\n",
    "\n",
    "**Promotion**\n",
    "- NumDealsPurchases: Number of purchases made with a discount\n",
    "- AcceptedCmp1: 1 if customer accepted the offer in the 1st campaign, 0 otherwise\n",
    "- AcceptedCmp2: 1 if customer accepted the offer in the 2nd campaign, 0 otherwise\n",
    "- AcceptedCmp3: 1 if customer accepted the offer in the 3rd campaign, 0 otherwise\n",
    "- AcceptedCmp4: 1 if customer accepted the offer in the 4th campaign, 0 otherwise\n",
    "- AcceptedCmp5: 1 if customer accepted the offer in the 5th campaign, 0 otherwise\n",
    "- Response: 1 if customer accepted the offer in the last campaign, 0 otherwise\n",
    "\n",
    "**Place**\n",
    "- NumWebPurchases: Number of purchases made through the company’s website\n",
    "- NumCatalogPurchases: Number of purchases made using a catalogue\n",
    "- NumStorePurchases: Number of purchases made directly in stores\n",
    "- NumWebVisitsMonth: Number of visits to company’s website in the last month"
   ]
  },
  {
   "cell_type": "markdown",
   "id": "795a696a",
   "metadata": {},
   "source": [
    "# 1.0 Data Description"
   ]
  },
  {
   "cell_type": "code",
   "execution_count": 3,
   "id": "81241753",
   "metadata": {
    "ExecuteTime": {
     "end_time": "2022-01-03T23:37:59.758576Z",
     "start_time": "2022-01-03T23:37:59.746447Z"
    }
   },
   "outputs": [],
   "source": [
    "df1 = df_raw.copy()"
   ]
  },
  {
   "cell_type": "markdown",
   "id": "d1566c26",
   "metadata": {},
   "source": [
    "## 1.1 Data Dimensions"
   ]
  },
  {
   "cell_type": "code",
   "execution_count": 4,
   "id": "6753e5ca",
   "metadata": {
    "ExecuteTime": {
     "end_time": "2022-01-03T23:37:59.774513Z",
     "start_time": "2022-01-03T23:37:59.761488Z"
    }
   },
   "outputs": [
    {
     "name": "stdout",
     "output_type": "stream",
     "text": [
      "Number of rows: 2240\n",
      "Number of columns: 29\n"
     ]
    }
   ],
   "source": [
    "print('Number of rows: {}'.format(df1.shape[0]))\n",
    "print('Number of columns: {}'.format(df1.shape[1]))"
   ]
  },
  {
   "cell_type": "markdown",
   "id": "f334b7a6",
   "metadata": {},
   "source": [
    "## 1.2 Rename Columns"
   ]
  },
  {
   "cell_type": "code",
   "execution_count": 5,
   "id": "cd940215",
   "metadata": {
    "ExecuteTime": {
     "end_time": "2022-01-03T23:37:59.837331Z",
     "start_time": "2022-01-03T23:37:59.778480Z"
    }
   },
   "outputs": [],
   "source": [
    "df1.columns = df1.columns.str.lower()"
   ]
  },
  {
   "cell_type": "markdown",
   "id": "a5a9b6bf",
   "metadata": {},
   "source": [
    "## 1.3 Data Types"
   ]
  },
  {
   "cell_type": "code",
   "execution_count": 6,
   "id": "8e04b69d",
   "metadata": {
    "ExecuteTime": {
     "end_time": "2022-01-03T23:37:59.868382Z",
     "start_time": "2022-01-03T23:37:59.840314Z"
    },
    "scrolled": true
   },
   "outputs": [
    {
     "data": {
      "text/plain": [
       "id                       int64\n",
       "year_birth               int64\n",
       "education               object\n",
       "marital_status          object\n",
       "income                 float64\n",
       "kidhome                  int64\n",
       "teenhome                 int64\n",
       "dt_customer             object\n",
       "recency                  int64\n",
       "mntwines                 int64\n",
       "mntfruits                int64\n",
       "mntmeatproducts          int64\n",
       "mntfishproducts          int64\n",
       "mntsweetproducts         int64\n",
       "mntgoldprods             int64\n",
       "numdealspurchases        int64\n",
       "numwebpurchases          int64\n",
       "numcatalogpurchases      int64\n",
       "numstorepurchases        int64\n",
       "numwebvisitsmonth        int64\n",
       "acceptedcmp3             int64\n",
       "acceptedcmp4             int64\n",
       "acceptedcmp5             int64\n",
       "acceptedcmp1             int64\n",
       "acceptedcmp2             int64\n",
       "complain                 int64\n",
       "z_costcontact            int64\n",
       "z_revenue                int64\n",
       "response                 int64\n",
       "dtype: object"
      ]
     },
     "execution_count": 6,
     "metadata": {},
     "output_type": "execute_result"
    }
   ],
   "source": [
    "df1.dtypes"
   ]
  },
  {
   "cell_type": "markdown",
   "id": "253a21b1",
   "metadata": {},
   "source": [
    "## 1.4 Check N/A"
   ]
  },
  {
   "cell_type": "code",
   "execution_count": 7,
   "id": "aecff997",
   "metadata": {
    "ExecuteTime": {
     "end_time": "2022-01-03T23:37:59.883251Z",
     "start_time": "2022-01-03T23:37:59.871257Z"
    },
    "scrolled": true
   },
   "outputs": [
    {
     "data": {
      "text/plain": [
       "id                      0\n",
       "year_birth              0\n",
       "education               0\n",
       "marital_status          0\n",
       "income                 24\n",
       "kidhome                 0\n",
       "teenhome                0\n",
       "dt_customer             0\n",
       "recency                 0\n",
       "mntwines                0\n",
       "mntfruits               0\n",
       "mntmeatproducts         0\n",
       "mntfishproducts         0\n",
       "mntsweetproducts        0\n",
       "mntgoldprods            0\n",
       "numdealspurchases       0\n",
       "numwebpurchases         0\n",
       "numcatalogpurchases     0\n",
       "numstorepurchases       0\n",
       "numwebvisitsmonth       0\n",
       "acceptedcmp3            0\n",
       "acceptedcmp4            0\n",
       "acceptedcmp5            0\n",
       "acceptedcmp1            0\n",
       "acceptedcmp2            0\n",
       "complain                0\n",
       "z_costcontact           0\n",
       "z_revenue               0\n",
       "response                0\n",
       "dtype: int64"
      ]
     },
     "execution_count": 7,
     "metadata": {},
     "output_type": "execute_result"
    }
   ],
   "source": [
    "df1.isna().sum()"
   ]
  },
  {
   "cell_type": "markdown",
   "id": "acdf576e",
   "metadata": {},
   "source": [
    "## 1.5 Replace N/A"
   ]
  },
  {
   "cell_type": "code",
   "execution_count": 8,
   "id": "6c3d018d",
   "metadata": {
    "ExecuteTime": {
     "end_time": "2022-01-03T23:37:59.977428Z",
     "start_time": "2022-01-03T23:37:59.889247Z"
    }
   },
   "outputs": [
    {
     "name": "stdout",
     "output_type": "stream",
     "text": [
      "Removed data: 0.01\n"
     ]
    }
   ],
   "source": [
    "df1 = df1.dropna(subset=['income'])\n",
    "print('Removed data: {:.2f}'.format(1-(df1.shape[0]/df_raw.shape[0])))"
   ]
  },
  {
   "cell_type": "markdown",
   "id": "22f570e9",
   "metadata": {},
   "source": [
    "## 1.6 Change data types"
   ]
  },
  {
   "cell_type": "code",
   "execution_count": 9,
   "id": "0b443f71",
   "metadata": {
    "ExecuteTime": {
     "end_time": "2022-01-03T23:38:00.069515Z",
     "start_time": "2022-01-03T23:37:59.980404Z"
    }
   },
   "outputs": [],
   "source": [
    "#dt_customer\n",
    "df1['dt_customer'] = pd.to_datetime(df1['dt_customer'], format='%d-%m-%Y')"
   ]
  },
  {
   "cell_type": "markdown",
   "id": "5277733c",
   "metadata": {},
   "source": [
    "## 1.7 Descriptive Statistics"
   ]
  },
  {
   "cell_type": "code",
   "execution_count": 10,
   "id": "f66b622a",
   "metadata": {
    "ExecuteTime": {
     "end_time": "2022-01-03T23:38:00.085534Z",
     "start_time": "2022-01-03T23:38:00.072519Z"
    }
   },
   "outputs": [],
   "source": [
    "num_attributes = df1.select_dtypes(include=['int64', 'float64'])\n",
    "cat_attributes = df1.select_dtypes(exclude=['int64', 'float64', 'datetime64[ns]'])"
   ]
  },
  {
   "cell_type": "markdown",
   "id": "9c251ade",
   "metadata": {},
   "source": [
    "### 1.7.1 Numerical Attributes"
   ]
  },
  {
   "cell_type": "code",
   "execution_count": 11,
   "id": "39d5e897",
   "metadata": {
    "ExecuteTime": {
     "end_time": "2022-01-03T23:38:00.257780Z",
     "start_time": "2022-01-03T23:38:00.088509Z"
    }
   },
   "outputs": [],
   "source": [
    "#central tendency - mean, median\n",
    "ct1 = pd.DataFrame(num_attributes.apply(np.mean)).T\n",
    "ct2 = pd.DataFrame(num_attributes.apply(np.median)).T\n",
    "\n",
    "#dispersion - std, min, max, range, skew, kurtosis\n",
    "d1 = pd.DataFrame(num_attributes.apply(np.std)).T\n",
    "d2 = pd.DataFrame(num_attributes.apply(min)).T\n",
    "d3 = pd.DataFrame(num_attributes.apply(max)).T\n",
    "d4 = pd.DataFrame(num_attributes.apply(lambda x: x.max() - x.min())).T\n",
    "d5 = pd.DataFrame(num_attributes.apply(lambda x: x.skew())).T\n",
    "d6 = pd.DataFrame(num_attributes.apply(lambda x: x.kurtosis())).T\n",
    "\n",
    "#concat\n",
    "n = pd.concat([d2, d3, d4, ct1, ct2, d1, d5, d6]).T.reset_index()\n",
    "n.columns = ['attributes', 'min', 'max', 'range', 'mean', 'median', 'std', 'skew', 'kurtosis']"
   ]
  },
  {
   "cell_type": "code",
   "execution_count": 12,
   "id": "5907ef30",
   "metadata": {
    "ExecuteTime": {
     "end_time": "2022-01-03T23:38:00.305238Z",
     "start_time": "2022-01-03T23:38:00.260723Z"
    },
    "scrolled": true
   },
   "outputs": [
    {
     "data": {
      "text/html": [
       "<div>\n",
       "<style scoped>\n",
       "    .dataframe tbody tr th:only-of-type {\n",
       "        vertical-align: middle;\n",
       "    }\n",
       "\n",
       "    .dataframe tbody tr th {\n",
       "        vertical-align: top;\n",
       "    }\n",
       "\n",
       "    .dataframe thead th {\n",
       "        text-align: right;\n",
       "    }\n",
       "</style>\n",
       "<table border=\"1\" class=\"dataframe\">\n",
       "  <thead>\n",
       "    <tr style=\"text-align: right;\">\n",
       "      <th></th>\n",
       "      <th>attributes</th>\n",
       "      <th>min</th>\n",
       "      <th>max</th>\n",
       "      <th>range</th>\n",
       "      <th>mean</th>\n",
       "      <th>median</th>\n",
       "      <th>std</th>\n",
       "      <th>skew</th>\n",
       "      <th>kurtosis</th>\n",
       "    </tr>\n",
       "  </thead>\n",
       "  <tbody>\n",
       "    <tr>\n",
       "      <th>0</th>\n",
       "      <td>id</td>\n",
       "      <td>0.0</td>\n",
       "      <td>11191.0</td>\n",
       "      <td>11191.0</td>\n",
       "      <td>5588.353339</td>\n",
       "      <td>5458.5</td>\n",
       "      <td>3248.643030</td>\n",
       "      <td>0.040459</td>\n",
       "      <td>-1.189677</td>\n",
       "    </tr>\n",
       "    <tr>\n",
       "      <th>1</th>\n",
       "      <td>year_birth</td>\n",
       "      <td>1893.0</td>\n",
       "      <td>1996.0</td>\n",
       "      <td>103.0</td>\n",
       "      <td>1968.820397</td>\n",
       "      <td>1970.0</td>\n",
       "      <td>11.982849</td>\n",
       "      <td>-0.353661</td>\n",
       "      <td>0.734670</td>\n",
       "    </tr>\n",
       "    <tr>\n",
       "      <th>2</th>\n",
       "      <td>income</td>\n",
       "      <td>1730.0</td>\n",
       "      <td>666666.0</td>\n",
       "      <td>664936.0</td>\n",
       "      <td>52247.251354</td>\n",
       "      <td>51381.5</td>\n",
       "      <td>25167.396174</td>\n",
       "      <td>6.763487</td>\n",
       "      <td>159.636700</td>\n",
       "    </tr>\n",
       "    <tr>\n",
       "      <th>3</th>\n",
       "      <td>kidhome</td>\n",
       "      <td>0.0</td>\n",
       "      <td>2.0</td>\n",
       "      <td>2.0</td>\n",
       "      <td>0.441787</td>\n",
       "      <td>0.0</td>\n",
       "      <td>0.536775</td>\n",
       "      <td>0.635610</td>\n",
       "      <td>-0.791164</td>\n",
       "    </tr>\n",
       "    <tr>\n",
       "      <th>4</th>\n",
       "      <td>teenhome</td>\n",
       "      <td>0.0</td>\n",
       "      <td>2.0</td>\n",
       "      <td>2.0</td>\n",
       "      <td>0.505415</td>\n",
       "      <td>0.0</td>\n",
       "      <td>0.544058</td>\n",
       "      <td>0.407553</td>\n",
       "      <td>-0.989619</td>\n",
       "    </tr>\n",
       "    <tr>\n",
       "      <th>5</th>\n",
       "      <td>recency</td>\n",
       "      <td>0.0</td>\n",
       "      <td>99.0</td>\n",
       "      <td>99.0</td>\n",
       "      <td>49.012635</td>\n",
       "      <td>49.0</td>\n",
       "      <td>28.941819</td>\n",
       "      <td>0.001648</td>\n",
       "      <td>-1.199777</td>\n",
       "    </tr>\n",
       "    <tr>\n",
       "      <th>6</th>\n",
       "      <td>mntwines</td>\n",
       "      <td>0.0</td>\n",
       "      <td>1493.0</td>\n",
       "      <td>1493.0</td>\n",
       "      <td>305.091606</td>\n",
       "      <td>174.5</td>\n",
       "      <td>337.251800</td>\n",
       "      <td>1.170720</td>\n",
       "      <td>0.582741</td>\n",
       "    </tr>\n",
       "    <tr>\n",
       "      <th>7</th>\n",
       "      <td>mntfruits</td>\n",
       "      <td>0.0</td>\n",
       "      <td>199.0</td>\n",
       "      <td>199.0</td>\n",
       "      <td>26.356047</td>\n",
       "      <td>8.0</td>\n",
       "      <td>39.784937</td>\n",
       "      <td>2.101658</td>\n",
       "      <td>4.054082</td>\n",
       "    </tr>\n",
       "    <tr>\n",
       "      <th>8</th>\n",
       "      <td>mntmeatproducts</td>\n",
       "      <td>0.0</td>\n",
       "      <td>1725.0</td>\n",
       "      <td>1725.0</td>\n",
       "      <td>166.995939</td>\n",
       "      <td>68.0</td>\n",
       "      <td>224.232662</td>\n",
       "      <td>2.025577</td>\n",
       "      <td>5.055477</td>\n",
       "    </tr>\n",
       "    <tr>\n",
       "      <th>9</th>\n",
       "      <td>mntfishproducts</td>\n",
       "      <td>0.0</td>\n",
       "      <td>259.0</td>\n",
       "      <td>259.0</td>\n",
       "      <td>37.637635</td>\n",
       "      <td>12.0</td>\n",
       "      <td>54.739727</td>\n",
       "      <td>1.916369</td>\n",
       "      <td>3.076476</td>\n",
       "    </tr>\n",
       "    <tr>\n",
       "      <th>10</th>\n",
       "      <td>mntsweetproducts</td>\n",
       "      <td>0.0</td>\n",
       "      <td>262.0</td>\n",
       "      <td>262.0</td>\n",
       "      <td>27.028881</td>\n",
       "      <td>8.0</td>\n",
       "      <td>41.062777</td>\n",
       "      <td>2.103328</td>\n",
       "      <td>4.106141</td>\n",
       "    </tr>\n",
       "    <tr>\n",
       "      <th>11</th>\n",
       "      <td>mntgoldprods</td>\n",
       "      <td>0.0</td>\n",
       "      <td>321.0</td>\n",
       "      <td>321.0</td>\n",
       "      <td>43.965253</td>\n",
       "      <td>24.5</td>\n",
       "      <td>51.803722</td>\n",
       "      <td>1.839231</td>\n",
       "      <td>3.156342</td>\n",
       "    </tr>\n",
       "    <tr>\n",
       "      <th>12</th>\n",
       "      <td>numdealspurchases</td>\n",
       "      <td>0.0</td>\n",
       "      <td>15.0</td>\n",
       "      <td>15.0</td>\n",
       "      <td>2.323556</td>\n",
       "      <td>2.0</td>\n",
       "      <td>1.923282</td>\n",
       "      <td>2.415272</td>\n",
       "      <td>8.974490</td>\n",
       "    </tr>\n",
       "    <tr>\n",
       "      <th>13</th>\n",
       "      <td>numwebpurchases</td>\n",
       "      <td>0.0</td>\n",
       "      <td>27.0</td>\n",
       "      <td>27.0</td>\n",
       "      <td>4.085289</td>\n",
       "      <td>4.0</td>\n",
       "      <td>2.740333</td>\n",
       "      <td>1.197037</td>\n",
       "      <td>4.072137</td>\n",
       "    </tr>\n",
       "    <tr>\n",
       "      <th>14</th>\n",
       "      <td>numcatalogpurchases</td>\n",
       "      <td>0.0</td>\n",
       "      <td>28.0</td>\n",
       "      <td>28.0</td>\n",
       "      <td>2.671029</td>\n",
       "      <td>2.0</td>\n",
       "      <td>2.926073</td>\n",
       "      <td>1.881075</td>\n",
       "      <td>8.067126</td>\n",
       "    </tr>\n",
       "    <tr>\n",
       "      <th>15</th>\n",
       "      <td>numstorepurchases</td>\n",
       "      <td>0.0</td>\n",
       "      <td>13.0</td>\n",
       "      <td>13.0</td>\n",
       "      <td>5.800993</td>\n",
       "      <td>5.0</td>\n",
       "      <td>3.250051</td>\n",
       "      <td>0.701826</td>\n",
       "      <td>-0.626462</td>\n",
       "    </tr>\n",
       "    <tr>\n",
       "      <th>16</th>\n",
       "      <td>numwebvisitsmonth</td>\n",
       "      <td>0.0</td>\n",
       "      <td>20.0</td>\n",
       "      <td>20.0</td>\n",
       "      <td>5.319043</td>\n",
       "      <td>6.0</td>\n",
       "      <td>2.424811</td>\n",
       "      <td>0.218043</td>\n",
       "      <td>1.852577</td>\n",
       "    </tr>\n",
       "    <tr>\n",
       "      <th>17</th>\n",
       "      <td>acceptedcmp3</td>\n",
       "      <td>0.0</td>\n",
       "      <td>1.0</td>\n",
       "      <td>1.0</td>\n",
       "      <td>0.073556</td>\n",
       "      <td>0.0</td>\n",
       "      <td>0.261047</td>\n",
       "      <td>3.269397</td>\n",
       "      <td>8.696805</td>\n",
       "    </tr>\n",
       "    <tr>\n",
       "      <th>18</th>\n",
       "      <td>acceptedcmp4</td>\n",
       "      <td>0.0</td>\n",
       "      <td>1.0</td>\n",
       "      <td>1.0</td>\n",
       "      <td>0.074007</td>\n",
       "      <td>0.0</td>\n",
       "      <td>0.261783</td>\n",
       "      <td>3.256758</td>\n",
       "      <td>8.614248</td>\n",
       "    </tr>\n",
       "    <tr>\n",
       "      <th>19</th>\n",
       "      <td>acceptedcmp5</td>\n",
       "      <td>0.0</td>\n",
       "      <td>1.0</td>\n",
       "      <td>1.0</td>\n",
       "      <td>0.073105</td>\n",
       "      <td>0.0</td>\n",
       "      <td>0.260308</td>\n",
       "      <td>3.282143</td>\n",
       "      <td>8.780388</td>\n",
       "    </tr>\n",
       "    <tr>\n",
       "      <th>20</th>\n",
       "      <td>acceptedcmp1</td>\n",
       "      <td>0.0</td>\n",
       "      <td>1.0</td>\n",
       "      <td>1.0</td>\n",
       "      <td>0.064079</td>\n",
       "      <td>0.0</td>\n",
       "      <td>0.244894</td>\n",
       "      <td>3.562482</td>\n",
       "      <td>10.700936</td>\n",
       "    </tr>\n",
       "    <tr>\n",
       "      <th>21</th>\n",
       "      <td>acceptedcmp2</td>\n",
       "      <td>0.0</td>\n",
       "      <td>1.0</td>\n",
       "      <td>1.0</td>\n",
       "      <td>0.013538</td>\n",
       "      <td>0.0</td>\n",
       "      <td>0.115562</td>\n",
       "      <td>8.424753</td>\n",
       "      <td>69.038772</td>\n",
       "    </tr>\n",
       "    <tr>\n",
       "      <th>22</th>\n",
       "      <td>complain</td>\n",
       "      <td>0.0</td>\n",
       "      <td>1.0</td>\n",
       "      <td>1.0</td>\n",
       "      <td>0.009477</td>\n",
       "      <td>0.0</td>\n",
       "      <td>0.096885</td>\n",
       "      <td>10.132737</td>\n",
       "      <td>100.763293</td>\n",
       "    </tr>\n",
       "    <tr>\n",
       "      <th>23</th>\n",
       "      <td>z_costcontact</td>\n",
       "      <td>3.0</td>\n",
       "      <td>3.0</td>\n",
       "      <td>0.0</td>\n",
       "      <td>3.000000</td>\n",
       "      <td>3.0</td>\n",
       "      <td>0.000000</td>\n",
       "      <td>0.000000</td>\n",
       "      <td>0.000000</td>\n",
       "    </tr>\n",
       "    <tr>\n",
       "      <th>24</th>\n",
       "      <td>z_revenue</td>\n",
       "      <td>11.0</td>\n",
       "      <td>11.0</td>\n",
       "      <td>0.0</td>\n",
       "      <td>11.000000</td>\n",
       "      <td>11.0</td>\n",
       "      <td>0.000000</td>\n",
       "      <td>0.000000</td>\n",
       "      <td>0.000000</td>\n",
       "    </tr>\n",
       "    <tr>\n",
       "      <th>25</th>\n",
       "      <td>response</td>\n",
       "      <td>0.0</td>\n",
       "      <td>1.0</td>\n",
       "      <td>1.0</td>\n",
       "      <td>0.150271</td>\n",
       "      <td>0.0</td>\n",
       "      <td>0.357337</td>\n",
       "      <td>1.958748</td>\n",
       "      <td>1.838352</td>\n",
       "    </tr>\n",
       "  </tbody>\n",
       "</table>\n",
       "</div>"
      ],
      "text/plain": [
       "             attributes     min       max     range          mean   median  \\\n",
       "0                    id     0.0   11191.0   11191.0   5588.353339   5458.5   \n",
       "1            year_birth  1893.0    1996.0     103.0   1968.820397   1970.0   \n",
       "2                income  1730.0  666666.0  664936.0  52247.251354  51381.5   \n",
       "3               kidhome     0.0       2.0       2.0      0.441787      0.0   \n",
       "4              teenhome     0.0       2.0       2.0      0.505415      0.0   \n",
       "5               recency     0.0      99.0      99.0     49.012635     49.0   \n",
       "6              mntwines     0.0    1493.0    1493.0    305.091606    174.5   \n",
       "7             mntfruits     0.0     199.0     199.0     26.356047      8.0   \n",
       "8       mntmeatproducts     0.0    1725.0    1725.0    166.995939     68.0   \n",
       "9       mntfishproducts     0.0     259.0     259.0     37.637635     12.0   \n",
       "10     mntsweetproducts     0.0     262.0     262.0     27.028881      8.0   \n",
       "11         mntgoldprods     0.0     321.0     321.0     43.965253     24.5   \n",
       "12    numdealspurchases     0.0      15.0      15.0      2.323556      2.0   \n",
       "13      numwebpurchases     0.0      27.0      27.0      4.085289      4.0   \n",
       "14  numcatalogpurchases     0.0      28.0      28.0      2.671029      2.0   \n",
       "15    numstorepurchases     0.0      13.0      13.0      5.800993      5.0   \n",
       "16    numwebvisitsmonth     0.0      20.0      20.0      5.319043      6.0   \n",
       "17         acceptedcmp3     0.0       1.0       1.0      0.073556      0.0   \n",
       "18         acceptedcmp4     0.0       1.0       1.0      0.074007      0.0   \n",
       "19         acceptedcmp5     0.0       1.0       1.0      0.073105      0.0   \n",
       "20         acceptedcmp1     0.0       1.0       1.0      0.064079      0.0   \n",
       "21         acceptedcmp2     0.0       1.0       1.0      0.013538      0.0   \n",
       "22             complain     0.0       1.0       1.0      0.009477      0.0   \n",
       "23        z_costcontact     3.0       3.0       0.0      3.000000      3.0   \n",
       "24            z_revenue    11.0      11.0       0.0     11.000000     11.0   \n",
       "25             response     0.0       1.0       1.0      0.150271      0.0   \n",
       "\n",
       "             std       skew    kurtosis  \n",
       "0    3248.643030   0.040459   -1.189677  \n",
       "1      11.982849  -0.353661    0.734670  \n",
       "2   25167.396174   6.763487  159.636700  \n",
       "3       0.536775   0.635610   -0.791164  \n",
       "4       0.544058   0.407553   -0.989619  \n",
       "5      28.941819   0.001648   -1.199777  \n",
       "6     337.251800   1.170720    0.582741  \n",
       "7      39.784937   2.101658    4.054082  \n",
       "8     224.232662   2.025577    5.055477  \n",
       "9      54.739727   1.916369    3.076476  \n",
       "10     41.062777   2.103328    4.106141  \n",
       "11     51.803722   1.839231    3.156342  \n",
       "12      1.923282   2.415272    8.974490  \n",
       "13      2.740333   1.197037    4.072137  \n",
       "14      2.926073   1.881075    8.067126  \n",
       "15      3.250051   0.701826   -0.626462  \n",
       "16      2.424811   0.218043    1.852577  \n",
       "17      0.261047   3.269397    8.696805  \n",
       "18      0.261783   3.256758    8.614248  \n",
       "19      0.260308   3.282143    8.780388  \n",
       "20      0.244894   3.562482   10.700936  \n",
       "21      0.115562   8.424753   69.038772  \n",
       "22      0.096885  10.132737  100.763293  \n",
       "23      0.000000   0.000000    0.000000  \n",
       "24      0.000000   0.000000    0.000000  \n",
       "25      0.357337   1.958748    1.838352  "
      ]
     },
     "execution_count": 12,
     "metadata": {},
     "output_type": "execute_result"
    }
   ],
   "source": [
    "n"
   ]
  },
  {
   "cell_type": "code",
   "execution_count": 13,
   "id": "cc16160a",
   "metadata": {
    "ExecuteTime": {
     "end_time": "2022-01-03T23:38:01.237861Z",
     "start_time": "2022-01-03T23:38:00.308236Z"
    },
    "scrolled": true
   },
   "outputs": [
    {
     "data": {
      "image/png": "[encoded data removed]",
      "text/plain": [
       "<Figure size 360x360 with 1 Axes>"
      ]
     },
     "metadata": {},
     "output_type": "display_data"
    }
   ],
   "source": [
    "sns.displot(data=num_attributes, x=\"income\");"
   ]
  },
  {
   "cell_type": "code",
   "execution_count": 14,
   "id": "fbbaccaa",
   "metadata": {
    "ExecuteTime": {
     "end_time": "2022-01-03T23:38:01.641681Z",
     "start_time": "2022-01-03T23:38:01.240856Z"
    },
    "scrolled": true
   },
   "outputs": [
    {
     "data": {
      "image/png": "[encoded data removed]",
      "text/plain": [
       "<Figure size 360x360 with 1 Axes>"
      ]
     },
     "metadata": {},
     "output_type": "display_data"
    }
   ],
   "source": [
    "sns.displot(data=num_attributes, x=\"year_birth\");"
   ]
  },
  {
   "cell_type": "markdown",
   "id": "57a2863b",
   "metadata": {},
   "source": [
    "### 1.7.2 Categorical Attributes"
   ]
  },
  {
   "cell_type": "code",
   "execution_count": 15,
   "id": "4ccf6184",
   "metadata": {
    "ExecuteTime": {
     "end_time": "2022-01-03T23:38:01.890664Z",
     "start_time": "2022-01-03T23:38:01.644635Z"
    },
    "scrolled": false
   },
   "outputs": [
    {
     "data": {
      "text/plain": [
       "<AxesSubplot:xlabel='education', ylabel='income'>"
      ]
     },
     "execution_count": 15,
     "metadata": {},
     "output_type": "execute_result"
    },
    {
     "data": {
      "image/png": "[encoded data removed]",
      "text/plain": [
       "<Figure size 576x396 with 1 Axes>"
      ]
     },
     "metadata": {},
     "output_type": "display_data"
    }
   ],
   "source": [
    "sns.boxplot(x=\"education\", y=\"income\", data=df1, palette=\"Set3\")"
   ]
  },
  {
   "cell_type": "code",
   "execution_count": 16,
   "id": "854c5192",
   "metadata": {
    "ExecuteTime": {
     "end_time": "2022-01-03T23:38:02.201194Z",
     "start_time": "2022-01-03T23:38:01.893514Z"
    }
   },
   "outputs": [
    {
     "data": {
      "text/plain": [
       "<AxesSubplot:xlabel='marital_status', ylabel='income'>"
      ]
     },
     "execution_count": 16,
     "metadata": {},
     "output_type": "execute_result"
    },
    {
     "data": {
      "image/png": "[encoded data removed]",
      "text/plain": [
       "<Figure size 576x396 with 1 Axes>"
      ]
     },
     "metadata": {},
     "output_type": "display_data"
    }
   ],
   "source": [
    "sns.boxplot(x=\"marital_status\", y=\"income\", data=df1, palette=\"Set3\")"
   ]
  },
  {
   "cell_type": "markdown",
   "id": "3896ec76",
   "metadata": {},
   "source": [
    "# 2.0 Data Filtering"
   ]
  },
  {
   "cell_type": "code",
   "execution_count": 17,
   "id": "75624ef5",
   "metadata": {
    "ExecuteTime": {
     "end_time": "2022-01-03T23:38:02.216455Z",
     "start_time": "2022-01-03T23:38:02.204199Z"
    }
   },
   "outputs": [],
   "source": [
    "df2 = df1.copy()"
   ]
  },
  {
   "cell_type": "code",
   "execution_count": 18,
   "id": "bcdecf72",
   "metadata": {
    "ExecuteTime": {
     "end_time": "2022-01-03T23:38:02.231506Z",
     "start_time": "2022-01-03T23:38:02.219460Z"
    }
   },
   "outputs": [],
   "source": [
    "#drop z_ columns\n",
    "df2 = df2.drop(columns=['z_costcontact', 'z_revenue'])"
   ]
  },
  {
   "cell_type": "markdown",
   "id": "d239a1d4",
   "metadata": {},
   "source": [
    "# 3.0 Feature Engineering"
   ]
  },
  {
   "cell_type": "code",
   "execution_count": 19,
   "id": "ca540fbd",
   "metadata": {
    "ExecuteTime": {
     "end_time": "2022-01-03T23:38:02.323698Z",
     "start_time": "2022-01-03T23:38:02.233448Z"
    }
   },
   "outputs": [],
   "source": [
    "df3 = df2.copy()"
   ]
  },
  {
   "cell_type": "code",
   "execution_count": 20,
   "id": "5c91b864",
   "metadata": {
    "ExecuteTime": {
     "end_time": "2022-01-03T23:38:02.369678Z",
     "start_time": "2022-01-03T23:38:02.331649Z"
    }
   },
   "outputs": [],
   "source": [
    "#total amount spend\n",
    "df3['mnttotal'] = df3['mntwines'] + df3['mntfruits'] + df3['mntmeatproducts'] + df3['mntfishproducts'] + df3['mntsweetproducts'] + df3['mntgoldprods']\n",
    "\n",
    "#total number of purchases\n",
    "df3['numtotalpurchases'] = df3['numwebpurchases'] + df3['numcatalogpurchases'] + df3['numstorepurchases'] + df3['numwebvisitsmonth']"
   ]
  },
  {
   "cell_type": "code",
   "execution_count": 21,
   "id": "f28da346",
   "metadata": {
    "ExecuteTime": {
     "end_time": "2022-01-03T23:38:02.525577Z",
     "start_time": "2022-01-03T23:38:02.372682Z"
    }
   },
   "outputs": [
    {
     "data": {
      "text/html": [
       "<div>\n",
       "<style scoped>\n",
       "    .dataframe tbody tr th:only-of-type {\n",
       "        vertical-align: middle;\n",
       "    }\n",
       "\n",
       "    .dataframe tbody tr th {\n",
       "        vertical-align: top;\n",
       "    }\n",
       "\n",
       "    .dataframe thead th {\n",
       "        text-align: right;\n",
       "    }\n",
       "</style>\n",
       "<table border=\"1\" class=\"dataframe\">\n",
       "  <thead>\n",
       "    <tr style=\"text-align: right;\">\n",
       "      <th></th>\n",
       "      <th>id</th>\n",
       "      <th>year_birth</th>\n",
       "      <th>education</th>\n",
       "      <th>marital_status</th>\n",
       "      <th>income</th>\n",
       "      <th>kidhome</th>\n",
       "      <th>teenhome</th>\n",
       "      <th>dt_customer</th>\n",
       "      <th>recency</th>\n",
       "      <th>mntwines</th>\n",
       "      <th>mntfruits</th>\n",
       "      <th>mntmeatproducts</th>\n",
       "      <th>mntfishproducts</th>\n",
       "      <th>mntsweetproducts</th>\n",
       "      <th>mntgoldprods</th>\n",
       "      <th>numdealspurchases</th>\n",
       "      <th>numwebpurchases</th>\n",
       "      <th>numcatalogpurchases</th>\n",
       "      <th>numstorepurchases</th>\n",
       "      <th>numwebvisitsmonth</th>\n",
       "      <th>acceptedcmp3</th>\n",
       "      <th>acceptedcmp4</th>\n",
       "      <th>acceptedcmp5</th>\n",
       "      <th>acceptedcmp1</th>\n",
       "      <th>acceptedcmp2</th>\n",
       "      <th>complain</th>\n",
       "      <th>response</th>\n",
       "      <th>mnttotal</th>\n",
       "      <th>numtotalpurchases</th>\n",
       "    </tr>\n",
       "  </thead>\n",
       "  <tbody>\n",
       "    <tr>\n",
       "      <th>0</th>\n",
       "      <td>5524</td>\n",
       "      <td>1957</td>\n",
       "      <td>Graduation</td>\n",
       "      <td>Single</td>\n",
       "      <td>58138.0</td>\n",
       "      <td>0</td>\n",
       "      <td>0</td>\n",
       "      <td>2012-09-04</td>\n",
       "      <td>58</td>\n",
       "      <td>635</td>\n",
       "      <td>88</td>\n",
       "      <td>546</td>\n",
       "      <td>172</td>\n",
       "      <td>88</td>\n",
       "      <td>88</td>\n",
       "      <td>3</td>\n",
       "      <td>8</td>\n",
       "      <td>10</td>\n",
       "      <td>4</td>\n",
       "      <td>7</td>\n",
       "      <td>0</td>\n",
       "      <td>0</td>\n",
       "      <td>0</td>\n",
       "      <td>0</td>\n",
       "      <td>0</td>\n",
       "      <td>0</td>\n",
       "      <td>1</td>\n",
       "      <td>1617</td>\n",
       "      <td>29</td>\n",
       "    </tr>\n",
       "    <tr>\n",
       "      <th>1</th>\n",
       "      <td>2174</td>\n",
       "      <td>1954</td>\n",
       "      <td>Graduation</td>\n",
       "      <td>Single</td>\n",
       "      <td>46344.0</td>\n",
       "      <td>1</td>\n",
       "      <td>1</td>\n",
       "      <td>2014-03-08</td>\n",
       "      <td>38</td>\n",
       "      <td>11</td>\n",
       "      <td>1</td>\n",
       "      <td>6</td>\n",
       "      <td>2</td>\n",
       "      <td>1</td>\n",
       "      <td>6</td>\n",
       "      <td>2</td>\n",
       "      <td>1</td>\n",
       "      <td>1</td>\n",
       "      <td>2</td>\n",
       "      <td>5</td>\n",
       "      <td>0</td>\n",
       "      <td>0</td>\n",
       "      <td>0</td>\n",
       "      <td>0</td>\n",
       "      <td>0</td>\n",
       "      <td>0</td>\n",
       "      <td>0</td>\n",
       "      <td>27</td>\n",
       "      <td>9</td>\n",
       "    </tr>\n",
       "    <tr>\n",
       "      <th>2</th>\n",
       "      <td>4141</td>\n",
       "      <td>1965</td>\n",
       "      <td>Graduation</td>\n",
       "      <td>Together</td>\n",
       "      <td>71613.0</td>\n",
       "      <td>0</td>\n",
       "      <td>0</td>\n",
       "      <td>2013-08-21</td>\n",
       "      <td>26</td>\n",
       "      <td>426</td>\n",
       "      <td>49</td>\n",
       "      <td>127</td>\n",
       "      <td>111</td>\n",
       "      <td>21</td>\n",
       "      <td>42</td>\n",
       "      <td>1</td>\n",
       "      <td>8</td>\n",
       "      <td>2</td>\n",
       "      <td>10</td>\n",
       "      <td>4</td>\n",
       "      <td>0</td>\n",
       "      <td>0</td>\n",
       "      <td>0</td>\n",
       "      <td>0</td>\n",
       "      <td>0</td>\n",
       "      <td>0</td>\n",
       "      <td>0</td>\n",
       "      <td>776</td>\n",
       "      <td>24</td>\n",
       "    </tr>\n",
       "    <tr>\n",
       "      <th>3</th>\n",
       "      <td>6182</td>\n",
       "      <td>1984</td>\n",
       "      <td>Graduation</td>\n",
       "      <td>Together</td>\n",
       "      <td>26646.0</td>\n",
       "      <td>1</td>\n",
       "      <td>0</td>\n",
       "      <td>2014-02-10</td>\n",
       "      <td>26</td>\n",
       "      <td>11</td>\n",
       "      <td>4</td>\n",
       "      <td>20</td>\n",
       "      <td>10</td>\n",
       "      <td>3</td>\n",
       "      <td>5</td>\n",
       "      <td>2</td>\n",
       "      <td>2</td>\n",
       "      <td>0</td>\n",
       "      <td>4</td>\n",
       "      <td>6</td>\n",
       "      <td>0</td>\n",
       "      <td>0</td>\n",
       "      <td>0</td>\n",
       "      <td>0</td>\n",
       "      <td>0</td>\n",
       "      <td>0</td>\n",
       "      <td>0</td>\n",
       "      <td>53</td>\n",
       "      <td>12</td>\n",
       "    </tr>\n",
       "    <tr>\n",
       "      <th>4</th>\n",
       "      <td>5324</td>\n",
       "      <td>1981</td>\n",
       "      <td>PhD</td>\n",
       "      <td>Married</td>\n",
       "      <td>58293.0</td>\n",
       "      <td>1</td>\n",
       "      <td>0</td>\n",
       "      <td>2014-01-19</td>\n",
       "      <td>94</td>\n",
       "      <td>173</td>\n",
       "      <td>43</td>\n",
       "      <td>118</td>\n",
       "      <td>46</td>\n",
       "      <td>27</td>\n",
       "      <td>15</td>\n",
       "      <td>5</td>\n",
       "      <td>5</td>\n",
       "      <td>3</td>\n",
       "      <td>6</td>\n",
       "      <td>5</td>\n",
       "      <td>0</td>\n",
       "      <td>0</td>\n",
       "      <td>0</td>\n",
       "      <td>0</td>\n",
       "      <td>0</td>\n",
       "      <td>0</td>\n",
       "      <td>0</td>\n",
       "      <td>422</td>\n",
       "      <td>19</td>\n",
       "    </tr>\n",
       "  </tbody>\n",
       "</table>\n",
       "</div>"
      ],
      "text/plain": [
       "     id  year_birth   education marital_status   income  kidhome  teenhome  \\\n",
       "0  5524        1957  Graduation         Single  58138.0        0         0   \n",
       "1  2174        1954  Graduation         Single  46344.0        1         1   \n",
       "2  4141        1965  Graduation       Together  71613.0        0         0   \n",
       "3  6182        1984  Graduation       Together  26646.0        1         0   \n",
       "4  5324        1981         PhD        Married  58293.0        1         0   \n",
       "\n",
       "  dt_customer  recency  mntwines  mntfruits  mntmeatproducts  mntfishproducts  \\\n",
       "0  2012-09-04       58       635         88              546              172   \n",
       "1  2014-03-08       38        11          1                6                2   \n",
       "2  2013-08-21       26       426         49              127              111   \n",
       "3  2014-02-10       26        11          4               20               10   \n",
       "4  2014-01-19       94       173         43              118               46   \n",
       "\n",
       "   mntsweetproducts  mntgoldprods  numdealspurchases  numwebpurchases  \\\n",
       "0                88            88                  3                8   \n",
       "1                 1             6                  2                1   \n",
       "2                21            42                  1                8   \n",
       "3                 3             5                  2                2   \n",
       "4                27            15                  5                5   \n",
       "\n",
       "   numcatalogpurchases  numstorepurchases  numwebvisitsmonth  acceptedcmp3  \\\n",
       "0                   10                  4                  7             0   \n",
       "1                    1                  2                  5             0   \n",
       "2                    2                 10                  4             0   \n",
       "3                    0                  4                  6             0   \n",
       "4                    3                  6                  5             0   \n",
       "\n",
       "   acceptedcmp4  acceptedcmp5  acceptedcmp1  acceptedcmp2  complain  response  \\\n",
       "0             0             0             0             0         0         1   \n",
       "1             0             0             0             0         0         0   \n",
       "2             0             0             0             0         0         0   \n",
       "3             0             0             0             0         0         0   \n",
       "4             0             0             0             0         0         0   \n",
       "\n",
       "   mnttotal  numtotalpurchases  \n",
       "0      1617                 29  \n",
       "1        27                  9  \n",
       "2       776                 24  \n",
       "3        53                 12  \n",
       "4       422                 19  "
      ]
     },
     "execution_count": 21,
     "metadata": {},
     "output_type": "execute_result"
    }
   ],
   "source": [
    "df3.head()"
   ]
  },
  {
   "cell_type": "markdown",
   "id": "90400cab",
   "metadata": {
    "heading_collapsed": true
   },
   "source": [
    "# 5.0 EDA (Exploratory Data Analysis)"
   ]
  },
  {
   "cell_type": "markdown",
   "id": "3a6ed065",
   "metadata": {
    "heading_collapsed": true
   },
   "source": [
    "# 6.0 Data Preparation"
   ]
  },
  {
   "cell_type": "markdown",
   "id": "790a0288",
   "metadata": {
    "heading_collapsed": true
   },
   "source": [
    "# 7.0 Feature Selection"
   ]
  },
  {
   "cell_type": "markdown",
   "id": "ec30f000",
   "metadata": {},
   "source": [
    "# 8.0 Hyperparameter Fine-Tuning"
   ]
  },
  {
   "cell_type": "code",
   "execution_count": 22,
   "id": "9765f3e0",
   "metadata": {
    "ExecuteTime": {
     "end_time": "2022-01-03T23:38:03.613955Z",
     "start_time": "2022-01-03T23:38:02.540568Z"
    }
   },
   "outputs": [
    {
     "ename": "NameError",
     "evalue": "name 'df4' is not defined",
     "output_type": "error",
     "traceback": [
      "\u001b[1;31m---------------------------------------------------------------------------\u001b[0m",
      "\u001b[1;31mNameError\u001b[0m                                 Traceback (most recent call last)",
      "\u001b[1;32m~\\AppData\\Local\\Temp/ipykernel_8912/4198725603.py\u001b[0m in \u001b[0;36m<module>\u001b[1;34m\u001b[0m\n\u001b[1;32m----> 1\u001b[1;33m X = df4.drop(columns=['id', 'education', 'marital_status', 'dt_customer', 'mntwines','mntfruits', 'mntmeatproducts', 'mntfishproducts', 'mntsweetproducts', 'mntgoldprods', 'numwebpurchases',\n\u001b[0m\u001b[0;32m      2\u001b[0m                        'numcatalogpurchases', 'numstorepurchases', 'numwebvisitsmonth'])\n",
      "\u001b[1;31mNameError\u001b[0m: name 'df4' is not defined"
     ]
    }
   ],
   "source": [
    "X = df4.drop(columns=['id', 'education', 'marital_status', 'dt_customer', 'mntwines','mntfruits', 'mntmeatproducts', 'mntfishproducts', 'mntsweetproducts', 'mntgoldprods', 'numwebpurchases',\n",
    "                       'numcatalogpurchases', 'numstorepurchases', 'numwebvisitsmonth'])"
   ]
  },
  {
   "cell_type": "code",
   "execution_count": null,
   "id": "20ed42b8",
   "metadata": {
    "ExecuteTime": {
     "end_time": "2022-01-03T23:38:03.623943Z",
     "start_time": "2022-01-03T23:38:03.623943Z"
    }
   },
   "outputs": [],
   "source": [
    "clusters = [2, 3, 4, 5, 6]"
   ]
  },
  {
   "cell_type": "markdown",
   "id": "bcd13744",
   "metadata": {},
   "source": [
    "## 8.1 Within-cluster Sum of Square (WSS) "
   ]
  },
  {
   "cell_type": "markdown",
   "id": "409b840c",
   "metadata": {},
   "source": [
    "WSS = o quão unidos/juntos os pontos de um mesmo cluster estão."
   ]
  },
  {
   "cell_type": "code",
   "execution_count": null,
   "id": "c90342d2",
   "metadata": {
    "ExecuteTime": {
     "end_time": "2022-01-03T23:38:03.626964Z",
     "start_time": "2022-01-03T23:38:03.626964Z"
    }
   },
   "outputs": [],
   "source": [
    "wss = []\n",
    "for k in clusters:\n",
    "    #model definition\n",
    "    kmeans = c.KMeans(init='random', n_clusters=k, n_init=10, max_iter=300, random_state=42)\n",
    "    \n",
    "    #model training\n",
    "    kmeans.fit(X)\n",
    "    \n",
    "    #validation\n",
    "    wss.append(kmeans.inertia_)\n",
    "\n",
    "#plot wss - Elbow Method\n",
    "plt.plot(clusters, wss, linestyle='--', marker='o', color='b')\n",
    "plt.xlabel('K');\n",
    "plt.ylabel('WSS');\n",
    "plt.title('WSS x K');"
   ]
  },
  {
   "cell_type": "code",
   "execution_count": null,
   "id": "84ad8e5b",
   "metadata": {
    "ExecuteTime": {
     "end_time": "2022-01-03T23:38:03.629941Z",
     "start_time": "2022-01-03T23:38:03.629941Z"
    }
   },
   "outputs": [],
   "source": [
    "kmeans = KElbowVisualizer(c.KMeans(), k=clusters, timing=False)\n",
    "kmeans.fit(X)\n",
    "kmeans.show()"
   ]
  },
  {
   "cell_type": "markdown",
   "id": "7891785e",
   "metadata": {},
   "source": [
    "## 8.2 Silhouette Score"
   ]
  },
  {
   "cell_type": "markdown",
   "id": "68c8f844",
   "metadata": {},
   "source": [
    "SS = o quão distante um cluster está do outro."
   ]
  },
  {
   "cell_type": "code",
   "execution_count": null,
   "id": "78a00979",
   "metadata": {
    "ExecuteTime": {
     "end_time": "2022-01-03T23:38:03.632940Z",
     "start_time": "2022-01-03T23:38:03.632940Z"
    }
   },
   "outputs": [],
   "source": [
    "kmeans = KElbowVisualizer(c.KMeans(), k=clusters, metric='silhouette', timing=False)\n",
    "kmeans.fit(X)\n",
    "kmeans.show()"
   ]
  },
  {
   "cell_type": "markdown",
   "id": "b08d9a77",
   "metadata": {},
   "source": [
    "# 9.0 Model Training"
   ]
  },
  {
   "cell_type": "code",
   "execution_count": null,
   "id": "4fbd65c3",
   "metadata": {
    "ExecuteTime": {
     "end_time": "2022-01-03T23:38:03.635938Z",
     "start_time": "2022-01-03T23:38:03.635938Z"
    }
   },
   "outputs": [],
   "source": [
    "#model definition\n",
    "kmeans = c.KMeans(init='random', n_clusters=2, n_init=10, max_iter=300, random_state=42)\n",
    "    \n",
    "#model training\n",
    "kmeans.fit(X)\n",
    "    \n",
    "#model predict\n",
    "labels = kmeans.predict(X)"
   ]
  },
  {
   "cell_type": "markdown",
   "id": "33aab630",
   "metadata": {},
   "source": [
    "## 9.1 Cluster Validation"
   ]
  },
  {
   "cell_type": "code",
   "execution_count": null,
   "id": "9e3e0ccf",
   "metadata": {
    "ExecuteTime": {
     "end_time": "2022-01-03T23:38:03.639935Z",
     "start_time": "2022-01-03T23:38:03.639935Z"
    }
   },
   "outputs": [],
   "source": [
    "#WSS (within-cluster sum of square)\n",
    "print('WSS values: {}'.format(kmeans.inertia_))\n",
    "\n",
    "#SS (silhouette score)\n",
    "print('SS value: {}'.format(m.silhouette_score(X, labels, metric='euclidean')))"
   ]
  },
  {
   "cell_type": "markdown",
   "id": "b137f395",
   "metadata": {},
   "source": [
    "# 10.0 Cluster Analysis"
   ]
  },
  {
   "cell_type": "code",
   "execution_count": null,
   "id": "664bd61b",
   "metadata": {
    "ExecuteTime": {
     "end_time": "2022-01-03T23:38:03.642938Z",
     "start_time": "2022-01-03T23:38:03.642938Z"
    }
   },
   "outputs": [],
   "source": [
    "df10 = X.copy()\n",
    "df10['cluster'] = labels\n",
    "df10.head()"
   ]
  },
  {
   "cell_type": "markdown",
   "id": "6347c4f1",
   "metadata": {},
   "source": [
    "## 10.1 Visual Inspection"
   ]
  },
  {
   "cell_type": "code",
   "execution_count": null,
   "id": "767f3f82",
   "metadata": {
    "ExecuteTime": {
     "end_time": "2022-01-03T23:38:03.646932Z",
     "start_time": "2022-01-03T23:38:03.646932Z"
    },
    "scrolled": false
   },
   "outputs": [],
   "source": [
    "visualizer = SilhouetteVisualizer(kmeans, colors='yellowbrick')\n",
    "visualizer.fit(X)\n",
    "visualizer.finalize()"
   ]
  },
  {
   "cell_type": "markdown",
   "id": "d3789dfa",
   "metadata": {},
   "source": [
    "## 10.2 2D Plot "
   ]
  },
  {
   "cell_type": "code",
   "execution_count": null,
   "id": "ce8033f8",
   "metadata": {
    "ExecuteTime": {
     "end_time": "2022-01-03T23:38:03.650929Z",
     "start_time": "2022-01-03T23:38:03.650929Z"
    }
   },
   "outputs": [],
   "source": [
    "#sns.pairplot(df10, hue='cluster')"
   ]
  },
  {
   "cell_type": "markdown",
   "id": "1643724c",
   "metadata": {},
   "source": [
    "## 10.3 UMAP "
   ]
  },
  {
   "cell_type": "code",
   "execution_count": null,
   "id": "3c961a34",
   "metadata": {
    "ExecuteTime": {
     "end_time": "2022-01-03T23:38:03.653928Z",
     "start_time": "2022-01-03T23:38:03.653928Z"
    }
   },
   "outputs": [],
   "source": [
    "reducer = umap.UMAP(n_neighbors=30, random_state=42)\n",
    "embedding = reducer.fit_transform(X)\n",
    "df_viz = df10.copy()\n",
    "\n",
    "#embedding\n",
    "df_viz['embedding_x'] = embedding[:, 0]\n",
    "df_viz['embedding_y'] = embedding[:, 1]\n",
    "\n",
    "#plot UMAP\n",
    "sns.scatterplot(x='embedding_x', y='embedding_y',\n",
    "               hue='cluster',\n",
    "               palette=sns.color_palette('hls', n_colors=len(df_viz['cluster'].unique())),\n",
    "               data=df_viz)"
   ]
  },
  {
   "cell_type": "markdown",
   "id": "5186b90e",
   "metadata": {},
   "source": [
    "# 11.0 Cluster Exploratory Data Analysis"
   ]
  },
  {
   "cell_type": "code",
   "execution_count": null,
   "id": "f213b082",
   "metadata": {
    "ExecuteTime": {
     "end_time": "2022-01-03T23:38:03.656927Z",
     "start_time": "2022-01-03T23:38:03.656927Z"
    }
   },
   "outputs": [],
   "source": [
    "df11 = df10.copy()\n",
    "df11['id'] = df4['id']"
   ]
  },
  {
   "cell_type": "code",
   "execution_count": null,
   "id": "6306bd48",
   "metadata": {
    "ExecuteTime": {
     "end_time": "2022-01-03T23:38:03.658926Z",
     "start_time": "2022-01-03T23:38:03.658926Z"
    }
   },
   "outputs": [],
   "source": [
    "df11.head()"
   ]
  },
  {
   "cell_type": "code",
   "execution_count": null,
   "id": "6f420905",
   "metadata": {
    "ExecuteTime": {
     "end_time": "2022-01-03T23:38:03.663922Z",
     "start_time": "2022-01-03T23:38:03.662922Z"
    }
   },
   "outputs": [],
   "source": [
    "#number of customers\n",
    "df_cluster = df11[['id', 'cluster']].groupby('cluster').count().reset_index()\n",
    "df_cluster['perc_customers'] = 100*(df_cluster['id']/df_cluster['id'].sum())\n",
    "\n",
    "#avg_income\n",
    "df_avg_income = df11[['income', 'cluster']].groupby('cluster').mean().reset_index()\n",
    "df_cluster = pd.merge(df_cluster, df_avg_income, how='inner', on='cluster')\n",
    "\n",
    "#avg_recency\n",
    "df_avg_recency = df11[['recency', 'cluster']].groupby('cluster').mean().reset_index()\n",
    "df_cluster = pd.merge(df_cluster, df_avg_recency, how='inner', on='cluster')\n",
    "\n",
    "#avg_total_spend\n",
    "df_avg_spend = df11[['mnttotal', 'cluster']].groupby('cluster').mean().reset_index()\n",
    "df_cluster = pd.merge(df_cluster, df_avg_spend, how='inner', on='cluster')\n",
    "\n",
    "#avg_total_purchases\n",
    "df_avg_purchases = df11[['numtotalpurchases', 'cluster']].groupby('cluster').mean().reset_index()\n",
    "df_cluster = pd.merge(df_cluster, df_avg_purchases, how='inner', on='cluster')\n",
    "\n",
    "#avg_kids\n",
    "df_avg_kids = df11[['kidhome', 'cluster']].groupby('cluster').mean().reset_index()\n",
    "df_cluster = pd.merge(df_cluster, df_avg_kids, how='inner', on='cluster')\n",
    "\n",
    "#avg_teen\n",
    "df_avg_teen = df11[['teenhome', 'cluster']].groupby('cluster').mean().reset_index()\n",
    "df_cluster = pd.merge(df_cluster, df_avg_teen, how='inner', on='cluster')"
   ]
  },
  {
   "cell_type": "code",
   "execution_count": null,
   "id": "ffe7f246",
   "metadata": {
    "ExecuteTime": {
     "end_time": "2022-01-03T23:38:03.665921Z",
     "start_time": "2022-01-03T23:38:03.665921Z"
    }
   },
   "outputs": [],
   "source": [
    "df_cluster.head()"
   ]
  },
  {
   "cell_type": "markdown",
   "id": "a491588e",
   "metadata": {},
   "source": [
    "# 12.0 Deploy"
   ]
  },
  {
   "cell_type": "code",
   "execution_count": null,
   "id": "66fe1bdd",
   "metadata": {
    "ExecuteTime": {
     "end_time": "2021-12-07T01:10:13.915943Z",
     "start_time": "2021-12-07T01:10:13.905953Z"
    }
   },
   "outputs": [],
   "source": []
  },
  {
   "cell_type": "code",
   "execution_count": null,
   "id": "ac6a4f99",
   "metadata": {
    "ExecuteTime": {
     "end_time": "2021-12-07T01:11:44.720453Z",
     "start_time": "2021-12-07T01:11:44.697463Z"
    }
   },
   "outputs": [],
   "source": []
  },
  {
   "cell_type": "code",
   "execution_count": null,
   "id": "b13981c4",
   "metadata": {},
   "outputs": [],
   "source": []
  }
 ],
 "metadata": {
  "kernelspec": {
   "display_name": "Python 3 (ipykernel)",
   "language": "python",
   "name": "python3"
  },
  "language_info": {
   "codemirror_mode": {
    "name": "ipython",
    "version": 3
   },
   "file_extension": ".py",
   "mimetype": "text/x-python",
   "name": "python",
   "nbconvert_exporter": "python",
   "pygments_lexer": "ipython3",
   "version": "3.8.12"
  },
  "varInspector": {
   "cols": {
    "lenName": 16,
    "lenType": 16,
    "lenVar": 40
   },
   "kernels_config": {
    "python": {
     "delete_cmd_postfix": "",
     "delete_cmd_prefix": "del ",
     "library": "var_list.py",
     "varRefreshCmd": "print(var_dic_list())"
    },
    "r": {
     "delete_cmd_postfix": ") ",
     "delete_cmd_prefix": "rm(",
     "library": "var_list.r",
     "varRefreshCmd": "cat(var_dic_list()) "
    }
   },
   "types_to_exclude": [
    "module",
    "function",
    "builtin_function_or_method",
    "instance",
    "_Feature"
   ],
   "window_display": false
  }
 },
 "nbformat": 4,
 "nbformat_minor": 5
}
